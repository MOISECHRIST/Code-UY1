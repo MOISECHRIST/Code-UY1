{
 "cells": [
  {
   "cell_type": "code",
   "execution_count": 2,
   "id": "4a7d9c1a-3ab2-4b6b-8bc4-e27218f08ea9",
   "metadata": {},
   "outputs": [],
   "source": [
    "import numpy as np"
   ]
  },
  {
   "cell_type": "markdown",
   "id": "b2b3dbc4-4f03-491d-8d17-7d58199adb19",
   "metadata": {},
   "source": [
    "Importation de pandas"
   ]
  },
  {
   "cell_type": "code",
   "execution_count": 1,
   "id": "63759502-e9b9-4d73-9f98-afed8aa4579e",
   "metadata": {},
   "outputs": [],
   "source": [
    "import pandas as pd"
   ]
  },
  {
   "cell_type": "markdown",
   "id": "8581892e-00a6-4898-9d49-416c873722f5",
   "metadata": {},
   "source": [
    "creation et opération sur les objets series"
   ]
  },
  {
   "cell_type": "code",
   "execution_count": 4,
   "id": "ccbdd218-2e22-4c0d-9d24-adb93a215ec2",
   "metadata": {},
   "outputs": [],
   "source": [
    "data=np.random.randint(50,101,10)"
   ]
  },
  {
   "cell_type": "code",
   "execution_count": 5,
   "id": "7df9039b-3d39-483d-9adc-c6ef3daa8b71",
   "metadata": {},
   "outputs": [
    {
     "data": {
      "text/plain": [
       "array([82, 82, 57, 76, 72, 95, 89, 74, 71, 51])"
      ]
     },
     "execution_count": 5,
     "metadata": {},
     "output_type": "execute_result"
    }
   ],
   "source": [
    "data"
   ]
  },
  {
   "cell_type": "code",
   "execution_count": 6,
   "id": "3944698a-6f83-4f15-acd3-7e1ddd1d270c",
   "metadata": {},
   "outputs": [
    {
     "data": {
      "text/plain": [
       "numpy.ndarray"
      ]
     },
     "execution_count": 6,
     "metadata": {},
     "output_type": "execute_result"
    }
   ],
   "source": [
    "type(data)"
   ]
  },
  {
   "cell_type": "code",
   "execution_count": 7,
   "id": "1b4675b6-5de2-481c-a1f8-220081aff255",
   "metadata": {},
   "outputs": [],
   "source": [
    "my_serie=pd.Series(data)"
   ]
  },
  {
   "cell_type": "code",
   "execution_count": 8,
   "id": "03563f42-7a8a-43bf-99b4-b7238e86ca53",
   "metadata": {},
   "outputs": [
    {
     "data": {
      "text/plain": [
       "0    82\n",
       "1    82\n",
       "2    57\n",
       "3    76\n",
       "4    72\n",
       "5    95\n",
       "6    89\n",
       "7    74\n",
       "8    71\n",
       "9    51\n",
       "dtype: int32"
      ]
     },
     "execution_count": 8,
     "metadata": {},
     "output_type": "execute_result"
    }
   ],
   "source": [
    "my_serie"
   ]
  },
  {
   "cell_type": "code",
   "execution_count": 9,
   "id": "f892fd4c-6a53-4904-9af9-f34c142012a7",
   "metadata": {},
   "outputs": [
    {
     "data": {
      "text/plain": [
       "pandas.core.series.Series"
      ]
     },
     "execution_count": 9,
     "metadata": {},
     "output_type": "execute_result"
    }
   ],
   "source": [
    "type(my_serie)"
   ]
  },
  {
   "cell_type": "code",
   "execution_count": 11,
   "id": "20f1ed3f-800f-4b5b-8646-665e98d0edfc",
   "metadata": {},
   "outputs": [],
   "source": [
    "my_index=['YDE','DLA','BUEA','EBWA','LIMBE','KUMBA','MAROUA','GAROUA','DCHANG','BAF']"
   ]
  },
  {
   "cell_type": "code",
   "execution_count": 12,
   "id": "3194d307-a2d2-4dce-ac5d-94ab25102f88",
   "metadata": {},
   "outputs": [],
   "source": [
    "my_serie=pd.Series(data=data,index=my_index)"
   ]
  },
  {
   "cell_type": "code",
   "execution_count": 13,
   "id": "e68a92b9-c5ab-4193-9421-be695871c12e",
   "metadata": {},
   "outputs": [
    {
     "data": {
      "text/plain": [
       "YDE       82\n",
       "DLA       82\n",
       "BUEA      57\n",
       "EBWA      76\n",
       "LIMBE     72\n",
       "KUMBA     95\n",
       "MAROUA    89\n",
       "GAROUA    74\n",
       "DCHANG    71\n",
       "BAF       51\n",
       "dtype: int32"
      ]
     },
     "execution_count": 13,
     "metadata": {},
     "output_type": "execute_result"
    }
   ],
   "source": [
    "my_serie"
   ]
  },
  {
   "cell_type": "code",
   "execution_count": 14,
   "id": "1885c2cd-28ad-4d6a-8a01-c82d8ac0b81e",
   "metadata": {},
   "outputs": [
    {
     "data": {
      "text/plain": [
       "82"
      ]
     },
     "execution_count": 14,
     "metadata": {},
     "output_type": "execute_result"
    }
   ],
   "source": [
    "my_serie[0]"
   ]
  },
  {
   "cell_type": "code",
   "execution_count": 15,
   "id": "9c52f0c8-c644-45d1-9fbb-ca8583374603",
   "metadata": {},
   "outputs": [
    {
     "data": {
      "text/plain": [
       "82"
      ]
     },
     "execution_count": 15,
     "metadata": {},
     "output_type": "execute_result"
    }
   ],
   "source": [
    "my_serie['YDE']"
   ]
  },
  {
   "cell_type": "code",
   "execution_count": 16,
   "id": "a371df9f-67a5-4094-be4a-b08bdcfa6037",
   "metadata": {},
   "outputs": [
    {
     "data": {
      "text/plain": [
       "YDE     82\n",
       "DLA     82\n",
       "BUEA    57\n",
       "EBWA    76\n",
       "dtype: int32"
      ]
     },
     "execution_count": 16,
     "metadata": {},
     "output_type": "execute_result"
    }
   ],
   "source": [
    "my_serie[0:4]"
   ]
  },
  {
   "cell_type": "code",
   "execution_count": 17,
   "id": "8c2fd90d-2f05-4d19-a79f-7b4f3d093c56",
   "metadata": {},
   "outputs": [
    {
     "data": {
      "text/plain": [
       "YDE     82\n",
       "DLA     82\n",
       "BUEA    57\n",
       "EBWA    76\n",
       "dtype: int32"
      ]
     },
     "execution_count": 17,
     "metadata": {},
     "output_type": "execute_result"
    }
   ],
   "source": [
    "new_index=['YDE','DLA','BUEA','EBWA']\n",
    "my_serie[new_index]"
   ]
  },
  {
   "cell_type": "code",
   "execution_count": 18,
   "id": "621ccb49-052b-4267-baf9-ceb53262a559",
   "metadata": {},
   "outputs": [
    {
     "data": {
      "text/plain": [
       "YDE     82\n",
       "DLA     82\n",
       "BUEA    57\n",
       "EBWA    76\n",
       "dtype: int32"
      ]
     },
     "execution_count": 18,
     "metadata": {},
     "output_type": "execute_result"
    }
   ],
   "source": [
    "my_serie[['YDE','DLA','BUEA','EBWA']]"
   ]
  },
  {
   "cell_type": "code",
   "execution_count": 19,
   "id": "181121be-53a9-4cc0-a932-c6cb446378d6",
   "metadata": {},
   "outputs": [
    {
     "data": {
      "text/plain": [
       "74.9"
      ]
     },
     "execution_count": 19,
     "metadata": {},
     "output_type": "execute_result"
    }
   ],
   "source": [
    "np.mean(my_serie)"
   ]
  },
  {
   "cell_type": "code",
   "execution_count": 20,
   "id": "88134684-8b2b-4d68-9820-6284fd78935c",
   "metadata": {},
   "outputs": [],
   "source": [
    "my_index2=['YDE','BUEA','EBWA','LIMBE','KUMBA','MAROUA','GAROUA','DCHANG','BAF','NGDERE']\n",
    "data2=np.random.randint(50,101,10)"
   ]
  },
  {
   "cell_type": "code",
   "execution_count": 21,
   "id": "6d637cb8-1605-40db-bf59-a27a10ecbc82",
   "metadata": {},
   "outputs": [],
   "source": [
    "my_serie2=pd.Series(data2,my_index2)"
   ]
  },
  {
   "cell_type": "code",
   "execution_count": 22,
   "id": "e42826c5-ea87-4306-a7e8-eaf725254702",
   "metadata": {},
   "outputs": [
    {
     "data": {
      "text/plain": [
       "YDE       62\n",
       "BUEA      51\n",
       "EBWA      87\n",
       "LIMBE     56\n",
       "KUMBA     78\n",
       "MAROUA    62\n",
       "GAROUA    85\n",
       "DCHANG    89\n",
       "BAF       86\n",
       "NGDERE    73\n",
       "dtype: int32"
      ]
     },
     "execution_count": 22,
     "metadata": {},
     "output_type": "execute_result"
    }
   ],
   "source": [
    "my_serie2"
   ]
  },
  {
   "cell_type": "code",
   "execution_count": 23,
   "id": "545440f5-d191-4e78-a93c-a10412596e8f",
   "metadata": {},
   "outputs": [
    {
     "data": {
      "text/plain": [
       "BAF       137.0\n",
       "BUEA      108.0\n",
       "DCHANG    160.0\n",
       "DLA         NaN\n",
       "EBWA      163.0\n",
       "GAROUA    159.0\n",
       "KUMBA     173.0\n",
       "LIMBE     128.0\n",
       "MAROUA    151.0\n",
       "NGDERE      NaN\n",
       "YDE       144.0\n",
       "dtype: float64"
      ]
     },
     "execution_count": 23,
     "metadata": {},
     "output_type": "execute_result"
    }
   ],
   "source": [
    "my_serie+my_serie2"
   ]
  },
  {
   "cell_type": "code",
   "execution_count": 24,
   "id": "9a9e4cbb-168c-493a-ab61-e4b571622961",
   "metadata": {},
   "outputs": [
    {
     "data": {
      "text/plain": [
       "BAF       137.0\n",
       "BUEA      108.0\n",
       "DCHANG    160.0\n",
       "DLA        82.0\n",
       "EBWA      163.0\n",
       "GAROUA    159.0\n",
       "KUMBA     173.0\n",
       "LIMBE     128.0\n",
       "MAROUA    151.0\n",
       "NGDERE     73.0\n",
       "YDE       144.0\n",
       "dtype: float64"
      ]
     },
     "execution_count": 24,
     "metadata": {},
     "output_type": "execute_result"
    }
   ],
   "source": [
    "my_serie.add(my_serie2,fill_value=0)"
   ]
  },
  {
   "cell_type": "code",
   "execution_count": 25,
   "id": "ae1e87db-b53f-426f-8e75-5e79b787e80b",
   "metadata": {},
   "outputs": [],
   "source": [
    "dic={'Moise':10,'Borel':5,'Lorene':6,'Manuella':9}"
   ]
  },
  {
   "cell_type": "code",
   "execution_count": 26,
   "id": "1ea14a8a-edf4-42aa-8900-3f3e3c52154c",
   "metadata": {},
   "outputs": [],
   "source": [
    "serie=pd.Series(dic)"
   ]
  },
  {
   "cell_type": "code",
   "execution_count": 27,
   "id": "eb9af3e6-ec2d-4444-89c9-eb0caf7032fa",
   "metadata": {},
   "outputs": [
    {
     "data": {
      "text/plain": [
       "Moise       10\n",
       "Borel        5\n",
       "Lorene       6\n",
       "Manuella     9\n",
       "dtype: int64"
      ]
     },
     "execution_count": 27,
     "metadata": {},
     "output_type": "execute_result"
    }
   ],
   "source": [
    "serie"
   ]
  },
  {
   "cell_type": "markdown",
   "id": "39e883e9-1278-4440-b8ba-2f0d72c93f33",
   "metadata": {},
   "source": [
    "Creation de dataframe"
   ]
  },
  {
   "cell_type": "code",
   "execution_count": 23,
   "id": "e9f0e231-c324-4073-930a-a093b9c892fa",
   "metadata": {},
   "outputs": [],
   "source": [
    "np.random.seed(237)\n",
    "my_data=np.random.randint(50,101,33).reshape(11,3)\n",
    "indexs=['YDE','DLA','BUEA','EBWA','LIMBE','KUMBA','MAROUA','GAROUA','DCHANG','BAF','NGDERE']"
   ]
  },
  {
   "cell_type": "code",
   "execution_count": 24,
   "id": "f1ae0508-69aa-45d4-be4f-4389f9fef9b4",
   "metadata": {},
   "outputs": [
    {
     "data": {
      "text/plain": [
       "array([[94, 52, 53],\n",
       "       [98, 91, 59],\n",
       "       [58, 92, 62],\n",
       "       [89, 98, 96],\n",
       "       [97, 99, 67],\n",
       "       [57, 54, 56],\n",
       "       [85, 85, 82],\n",
       "       [55, 91, 70],\n",
       "       [60, 60, 86],\n",
       "       [51, 85, 97],\n",
       "       [71, 74, 74]])"
      ]
     },
     "execution_count": 24,
     "metadata": {},
     "output_type": "execute_result"
    }
   ],
   "source": [
    "my_data"
   ]
  },
  {
   "cell_type": "code",
   "execution_count": 25,
   "id": "b0858aaf-0957-4cd9-928a-a7edb9b1e6b5",
   "metadata": {},
   "outputs": [],
   "source": [
    "df=pd.DataFrame(data=my_data,index=indexs,columns=['CA Jan','CA Fev','CA Mar'])"
   ]
  },
  {
   "cell_type": "code",
   "execution_count": 26,
   "id": "086920af-1f3a-4850-bcb2-e1d7f59cd067",
   "metadata": {},
   "outputs": [
    {
     "data": {
      "text/html": [
       "<div>\n",
       "<style scoped>\n",
       "    .dataframe tbody tr th:only-of-type {\n",
       "        vertical-align: middle;\n",
       "    }\n",
       "\n",
       "    .dataframe tbody tr th {\n",
       "        vertical-align: top;\n",
       "    }\n",
       "\n",
       "    .dataframe thead th {\n",
       "        text-align: right;\n",
       "    }\n",
       "</style>\n",
       "<table border=\"1\" class=\"dataframe\">\n",
       "  <thead>\n",
       "    <tr style=\"text-align: right;\">\n",
       "      <th></th>\n",
       "      <th>CA Jan</th>\n",
       "      <th>CA Mar</th>\n",
       "    </tr>\n",
       "  </thead>\n",
       "  <tbody>\n",
       "    <tr>\n",
       "      <th>YDE</th>\n",
       "      <td>94</td>\n",
       "      <td>53</td>\n",
       "    </tr>\n",
       "    <tr>\n",
       "      <th>DLA</th>\n",
       "      <td>98</td>\n",
       "      <td>59</td>\n",
       "    </tr>\n",
       "    <tr>\n",
       "      <th>BUEA</th>\n",
       "      <td>58</td>\n",
       "      <td>62</td>\n",
       "    </tr>\n",
       "    <tr>\n",
       "      <th>EBWA</th>\n",
       "      <td>89</td>\n",
       "      <td>96</td>\n",
       "    </tr>\n",
       "    <tr>\n",
       "      <th>LIMBE</th>\n",
       "      <td>97</td>\n",
       "      <td>67</td>\n",
       "    </tr>\n",
       "    <tr>\n",
       "      <th>KUMBA</th>\n",
       "      <td>57</td>\n",
       "      <td>56</td>\n",
       "    </tr>\n",
       "    <tr>\n",
       "      <th>MAROUA</th>\n",
       "      <td>85</td>\n",
       "      <td>82</td>\n",
       "    </tr>\n",
       "    <tr>\n",
       "      <th>GAROUA</th>\n",
       "      <td>55</td>\n",
       "      <td>70</td>\n",
       "    </tr>\n",
       "    <tr>\n",
       "      <th>DCHANG</th>\n",
       "      <td>60</td>\n",
       "      <td>86</td>\n",
       "    </tr>\n",
       "    <tr>\n",
       "      <th>BAF</th>\n",
       "      <td>51</td>\n",
       "      <td>97</td>\n",
       "    </tr>\n",
       "    <tr>\n",
       "      <th>NGDERE</th>\n",
       "      <td>71</td>\n",
       "      <td>74</td>\n",
       "    </tr>\n",
       "  </tbody>\n",
       "</table>\n",
       "</div>"
      ],
      "text/plain": [
       "        CA Jan  CA Mar\n",
       "YDE         94      53\n",
       "DLA         98      59\n",
       "BUEA        58      62\n",
       "EBWA        89      96\n",
       "LIMBE       97      67\n",
       "KUMBA       57      56\n",
       "MAROUA      85      82\n",
       "GAROUA      55      70\n",
       "DCHANG      60      86\n",
       "BAF         51      97\n",
       "NGDERE      71      74"
      ]
     },
     "execution_count": 26,
     "metadata": {},
     "output_type": "execute_result"
    }
   ],
   "source": [
    "df[['CA Jan','CA Mar']]"
   ]
  },
  {
   "cell_type": "code",
   "execution_count": 27,
   "id": "97d18c60-d6a9-4dd6-b616-a8683b1d4bce",
   "metadata": {},
   "outputs": [],
   "source": [
    "df['Evo Fev-Mar']=np.round(100*(df['CA Mar']-df['CA Fev'])/df['CA Fev'],2)"
   ]
  },
  {
   "cell_type": "code",
   "execution_count": 28,
   "id": "980a69fe-04eb-46fb-aff4-27dc493b947d",
   "metadata": {},
   "outputs": [],
   "source": [
    "df['Moy Trim1']=np.round((df['CA Jan']+df['CA Fev']+df['CA Mar'])/3,2)"
   ]
  },
  {
   "cell_type": "code",
   "execution_count": 52,
   "id": "2785fda2-97a8-4952-8e7b-4cd2594dd6ee",
   "metadata": {},
   "outputs": [
    {
     "data": {
      "text/html": [
       "<div>\n",
       "<style scoped>\n",
       "    .dataframe tbody tr th:only-of-type {\n",
       "        vertical-align: middle;\n",
       "    }\n",
       "\n",
       "    .dataframe tbody tr th {\n",
       "        vertical-align: top;\n",
       "    }\n",
       "\n",
       "    .dataframe thead th {\n",
       "        text-align: right;\n",
       "    }\n",
       "</style>\n",
       "<table border=\"1\" class=\"dataframe\">\n",
       "  <thead>\n",
       "    <tr style=\"text-align: right;\">\n",
       "      <th></th>\n",
       "      <th>CA Jan</th>\n",
       "      <th>CA Fev</th>\n",
       "      <th>CA Mar</th>\n",
       "      <th>Total Trim1</th>\n",
       "      <th>Moy Trim1</th>\n",
       "      <th>Evo Jan-Fev</th>\n",
       "      <th>Evo Fev-Mar</th>\n",
       "    </tr>\n",
       "  </thead>\n",
       "  <tbody>\n",
       "    <tr>\n",
       "      <th>YDE</th>\n",
       "      <td>94</td>\n",
       "      <td>52</td>\n",
       "      <td>53</td>\n",
       "      <td>199</td>\n",
       "      <td>66.33</td>\n",
       "      <td>-44.68</td>\n",
       "      <td>1.92</td>\n",
       "    </tr>\n",
       "    <tr>\n",
       "      <th>DLA</th>\n",
       "      <td>98</td>\n",
       "      <td>91</td>\n",
       "      <td>59</td>\n",
       "      <td>248</td>\n",
       "      <td>82.67</td>\n",
       "      <td>-7.14</td>\n",
       "      <td>-35.16</td>\n",
       "    </tr>\n",
       "    <tr>\n",
       "      <th>BUEA</th>\n",
       "      <td>58</td>\n",
       "      <td>92</td>\n",
       "      <td>62</td>\n",
       "      <td>212</td>\n",
       "      <td>70.67</td>\n",
       "      <td>58.62</td>\n",
       "      <td>-32.61</td>\n",
       "    </tr>\n",
       "    <tr>\n",
       "      <th>EBWA</th>\n",
       "      <td>89</td>\n",
       "      <td>98</td>\n",
       "      <td>96</td>\n",
       "      <td>283</td>\n",
       "      <td>94.33</td>\n",
       "      <td>10.11</td>\n",
       "      <td>-2.04</td>\n",
       "    </tr>\n",
       "    <tr>\n",
       "      <th>LIMBE</th>\n",
       "      <td>97</td>\n",
       "      <td>99</td>\n",
       "      <td>67</td>\n",
       "      <td>263</td>\n",
       "      <td>87.67</td>\n",
       "      <td>2.06</td>\n",
       "      <td>-32.32</td>\n",
       "    </tr>\n",
       "    <tr>\n",
       "      <th>KUMBA</th>\n",
       "      <td>57</td>\n",
       "      <td>54</td>\n",
       "      <td>56</td>\n",
       "      <td>167</td>\n",
       "      <td>55.67</td>\n",
       "      <td>-5.26</td>\n",
       "      <td>3.70</td>\n",
       "    </tr>\n",
       "    <tr>\n",
       "      <th>MAROUA</th>\n",
       "      <td>85</td>\n",
       "      <td>85</td>\n",
       "      <td>82</td>\n",
       "      <td>252</td>\n",
       "      <td>84.00</td>\n",
       "      <td>0.00</td>\n",
       "      <td>-3.53</td>\n",
       "    </tr>\n",
       "    <tr>\n",
       "      <th>GAROUA</th>\n",
       "      <td>55</td>\n",
       "      <td>91</td>\n",
       "      <td>70</td>\n",
       "      <td>216</td>\n",
       "      <td>72.00</td>\n",
       "      <td>65.45</td>\n",
       "      <td>-23.08</td>\n",
       "    </tr>\n",
       "    <tr>\n",
       "      <th>DCHANG</th>\n",
       "      <td>60</td>\n",
       "      <td>60</td>\n",
       "      <td>86</td>\n",
       "      <td>206</td>\n",
       "      <td>68.67</td>\n",
       "      <td>0.00</td>\n",
       "      <td>43.33</td>\n",
       "    </tr>\n",
       "    <tr>\n",
       "      <th>BAF</th>\n",
       "      <td>51</td>\n",
       "      <td>85</td>\n",
       "      <td>97</td>\n",
       "      <td>233</td>\n",
       "      <td>77.67</td>\n",
       "      <td>66.67</td>\n",
       "      <td>14.12</td>\n",
       "    </tr>\n",
       "    <tr>\n",
       "      <th>NGDERE</th>\n",
       "      <td>71</td>\n",
       "      <td>74</td>\n",
       "      <td>74</td>\n",
       "      <td>219</td>\n",
       "      <td>73.00</td>\n",
       "      <td>4.23</td>\n",
       "      <td>0.00</td>\n",
       "    </tr>\n",
       "  </tbody>\n",
       "</table>\n",
       "</div>"
      ],
      "text/plain": [
       "        CA Jan  CA Fev  CA Mar  Total Trim1  Moy Trim1  Evo Jan-Fev  \\\n",
       "YDE         94      52      53          199      66.33       -44.68   \n",
       "DLA         98      91      59          248      82.67        -7.14   \n",
       "BUEA        58      92      62          212      70.67        58.62   \n",
       "EBWA        89      98      96          283      94.33        10.11   \n",
       "LIMBE       97      99      67          263      87.67         2.06   \n",
       "KUMBA       57      54      56          167      55.67        -5.26   \n",
       "MAROUA      85      85      82          252      84.00         0.00   \n",
       "GAROUA      55      91      70          216      72.00        65.45   \n",
       "DCHANG      60      60      86          206      68.67         0.00   \n",
       "BAF         51      85      97          233      77.67        66.67   \n",
       "NGDERE      71      74      74          219      73.00         4.23   \n",
       "\n",
       "        Evo Fev-Mar  \n",
       "YDE            1.92  \n",
       "DLA          -35.16  \n",
       "BUEA         -32.61  \n",
       "EBWA          -2.04  \n",
       "LIMBE        -32.32  \n",
       "KUMBA          3.70  \n",
       "MAROUA        -3.53  \n",
       "GAROUA       -23.08  \n",
       "DCHANG        43.33  \n",
       "BAF           14.12  \n",
       "NGDERE         0.00  "
      ]
     },
     "execution_count": 52,
     "metadata": {},
     "output_type": "execute_result"
    }
   ],
   "source": [
    "df"
   ]
  },
  {
   "cell_type": "code",
   "execution_count": 70,
   "id": "c0b0ab6d-b462-475d-99e2-de6363ed6faa",
   "metadata": {},
   "outputs": [],
   "source": [
    "df=df.reset_index()"
   ]
  },
  {
   "cell_type": "code",
   "execution_count": 57,
   "id": "7d01dd76-2a67-446d-9114-2a389199c220",
   "metadata": {},
   "outputs": [],
   "source": [
    "df['Ville']=df['index']"
   ]
  },
  {
   "cell_type": "code",
   "execution_count": 58,
   "id": "5b15ecb2-b238-4648-887c-aeec29c563c1",
   "metadata": {},
   "outputs": [
    {
     "data": {
      "text/html": [
       "<div>\n",
       "<style scoped>\n",
       "    .dataframe tbody tr th:only-of-type {\n",
       "        vertical-align: middle;\n",
       "    }\n",
       "\n",
       "    .dataframe tbody tr th {\n",
       "        vertical-align: top;\n",
       "    }\n",
       "\n",
       "    .dataframe thead th {\n",
       "        text-align: right;\n",
       "    }\n",
       "</style>\n",
       "<table border=\"1\" class=\"dataframe\">\n",
       "  <thead>\n",
       "    <tr style=\"text-align: right;\">\n",
       "      <th></th>\n",
       "      <th>index</th>\n",
       "      <th>CA Jan</th>\n",
       "      <th>CA Fev</th>\n",
       "      <th>CA Mar</th>\n",
       "      <th>Total Trim1</th>\n",
       "      <th>Moy Trim1</th>\n",
       "      <th>Evo Jan-Fev</th>\n",
       "      <th>Evo Fev-Mar</th>\n",
       "      <th>Ville</th>\n",
       "    </tr>\n",
       "  </thead>\n",
       "  <tbody>\n",
       "    <tr>\n",
       "      <th>0</th>\n",
       "      <td>YDE</td>\n",
       "      <td>94</td>\n",
       "      <td>52</td>\n",
       "      <td>53</td>\n",
       "      <td>199</td>\n",
       "      <td>66.33</td>\n",
       "      <td>-44.68</td>\n",
       "      <td>1.92</td>\n",
       "      <td>YDE</td>\n",
       "    </tr>\n",
       "    <tr>\n",
       "      <th>1</th>\n",
       "      <td>DLA</td>\n",
       "      <td>98</td>\n",
       "      <td>91</td>\n",
       "      <td>59</td>\n",
       "      <td>248</td>\n",
       "      <td>82.67</td>\n",
       "      <td>-7.14</td>\n",
       "      <td>-35.16</td>\n",
       "      <td>DLA</td>\n",
       "    </tr>\n",
       "    <tr>\n",
       "      <th>2</th>\n",
       "      <td>BUEA</td>\n",
       "      <td>58</td>\n",
       "      <td>92</td>\n",
       "      <td>62</td>\n",
       "      <td>212</td>\n",
       "      <td>70.67</td>\n",
       "      <td>58.62</td>\n",
       "      <td>-32.61</td>\n",
       "      <td>BUEA</td>\n",
       "    </tr>\n",
       "    <tr>\n",
       "      <th>3</th>\n",
       "      <td>EBWA</td>\n",
       "      <td>89</td>\n",
       "      <td>98</td>\n",
       "      <td>96</td>\n",
       "      <td>283</td>\n",
       "      <td>94.33</td>\n",
       "      <td>10.11</td>\n",
       "      <td>-2.04</td>\n",
       "      <td>EBWA</td>\n",
       "    </tr>\n",
       "    <tr>\n",
       "      <th>4</th>\n",
       "      <td>LIMBE</td>\n",
       "      <td>97</td>\n",
       "      <td>99</td>\n",
       "      <td>67</td>\n",
       "      <td>263</td>\n",
       "      <td>87.67</td>\n",
       "      <td>2.06</td>\n",
       "      <td>-32.32</td>\n",
       "      <td>LIMBE</td>\n",
       "    </tr>\n",
       "    <tr>\n",
       "      <th>5</th>\n",
       "      <td>KUMBA</td>\n",
       "      <td>57</td>\n",
       "      <td>54</td>\n",
       "      <td>56</td>\n",
       "      <td>167</td>\n",
       "      <td>55.67</td>\n",
       "      <td>-5.26</td>\n",
       "      <td>3.70</td>\n",
       "      <td>KUMBA</td>\n",
       "    </tr>\n",
       "    <tr>\n",
       "      <th>6</th>\n",
       "      <td>MAROUA</td>\n",
       "      <td>85</td>\n",
       "      <td>85</td>\n",
       "      <td>82</td>\n",
       "      <td>252</td>\n",
       "      <td>84.00</td>\n",
       "      <td>0.00</td>\n",
       "      <td>-3.53</td>\n",
       "      <td>MAROUA</td>\n",
       "    </tr>\n",
       "    <tr>\n",
       "      <th>7</th>\n",
       "      <td>GAROUA</td>\n",
       "      <td>55</td>\n",
       "      <td>91</td>\n",
       "      <td>70</td>\n",
       "      <td>216</td>\n",
       "      <td>72.00</td>\n",
       "      <td>65.45</td>\n",
       "      <td>-23.08</td>\n",
       "      <td>GAROUA</td>\n",
       "    </tr>\n",
       "    <tr>\n",
       "      <th>8</th>\n",
       "      <td>DCHANG</td>\n",
       "      <td>60</td>\n",
       "      <td>60</td>\n",
       "      <td>86</td>\n",
       "      <td>206</td>\n",
       "      <td>68.67</td>\n",
       "      <td>0.00</td>\n",
       "      <td>43.33</td>\n",
       "      <td>DCHANG</td>\n",
       "    </tr>\n",
       "    <tr>\n",
       "      <th>9</th>\n",
       "      <td>BAF</td>\n",
       "      <td>51</td>\n",
       "      <td>85</td>\n",
       "      <td>97</td>\n",
       "      <td>233</td>\n",
       "      <td>77.67</td>\n",
       "      <td>66.67</td>\n",
       "      <td>14.12</td>\n",
       "      <td>BAF</td>\n",
       "    </tr>\n",
       "    <tr>\n",
       "      <th>10</th>\n",
       "      <td>NGDERE</td>\n",
       "      <td>71</td>\n",
       "      <td>74</td>\n",
       "      <td>74</td>\n",
       "      <td>219</td>\n",
       "      <td>73.00</td>\n",
       "      <td>4.23</td>\n",
       "      <td>0.00</td>\n",
       "      <td>NGDERE</td>\n",
       "    </tr>\n",
       "  </tbody>\n",
       "</table>\n",
       "</div>"
      ],
      "text/plain": [
       "     index  CA Jan  CA Fev  CA Mar  Total Trim1  Moy Trim1  Evo Jan-Fev  \\\n",
       "0      YDE      94      52      53          199      66.33       -44.68   \n",
       "1      DLA      98      91      59          248      82.67        -7.14   \n",
       "2     BUEA      58      92      62          212      70.67        58.62   \n",
       "3     EBWA      89      98      96          283      94.33        10.11   \n",
       "4    LIMBE      97      99      67          263      87.67         2.06   \n",
       "5    KUMBA      57      54      56          167      55.67        -5.26   \n",
       "6   MAROUA      85      85      82          252      84.00         0.00   \n",
       "7   GAROUA      55      91      70          216      72.00        65.45   \n",
       "8   DCHANG      60      60      86          206      68.67         0.00   \n",
       "9      BAF      51      85      97          233      77.67        66.67   \n",
       "10  NGDERE      71      74      74          219      73.00         4.23   \n",
       "\n",
       "    Evo Fev-Mar   Ville  \n",
       "0          1.92     YDE  \n",
       "1        -35.16     DLA  \n",
       "2        -32.61    BUEA  \n",
       "3         -2.04    EBWA  \n",
       "4        -32.32   LIMBE  \n",
       "5          3.70   KUMBA  \n",
       "6         -3.53  MAROUA  \n",
       "7        -23.08  GAROUA  \n",
       "8         43.33  DCHANG  \n",
       "9         14.12     BAF  \n",
       "10         0.00  NGDERE  "
      ]
     },
     "execution_count": 58,
     "metadata": {},
     "output_type": "execute_result"
    }
   ],
   "source": [
    "df"
   ]
  },
  {
   "cell_type": "code",
   "execution_count": 64,
   "id": "67d0c5cd-43e9-4264-82dc-0013cdba96b5",
   "metadata": {},
   "outputs": [],
   "source": [
    "df=df.drop('index',axis=1)"
   ]
  },
  {
   "cell_type": "code",
   "execution_count": 65,
   "id": "ac3e5b14-a719-4892-9017-e93c6c2cbac5",
   "metadata": {},
   "outputs": [
    {
     "data": {
      "text/html": [
       "<div>\n",
       "<style scoped>\n",
       "    .dataframe tbody tr th:only-of-type {\n",
       "        vertical-align: middle;\n",
       "    }\n",
       "\n",
       "    .dataframe tbody tr th {\n",
       "        vertical-align: top;\n",
       "    }\n",
       "\n",
       "    .dataframe thead th {\n",
       "        text-align: right;\n",
       "    }\n",
       "</style>\n",
       "<table border=\"1\" class=\"dataframe\">\n",
       "  <thead>\n",
       "    <tr style=\"text-align: right;\">\n",
       "      <th></th>\n",
       "      <th>CA Jan</th>\n",
       "      <th>CA Fev</th>\n",
       "      <th>CA Mar</th>\n",
       "      <th>Total Trim1</th>\n",
       "      <th>Moy Trim1</th>\n",
       "      <th>Evo Jan-Fev</th>\n",
       "      <th>Evo Fev-Mar</th>\n",
       "      <th>Ville</th>\n",
       "    </tr>\n",
       "  </thead>\n",
       "  <tbody>\n",
       "    <tr>\n",
       "      <th>0</th>\n",
       "      <td>94</td>\n",
       "      <td>52</td>\n",
       "      <td>53</td>\n",
       "      <td>199</td>\n",
       "      <td>66.33</td>\n",
       "      <td>-44.68</td>\n",
       "      <td>1.92</td>\n",
       "      <td>YDE</td>\n",
       "    </tr>\n",
       "    <tr>\n",
       "      <th>1</th>\n",
       "      <td>98</td>\n",
       "      <td>91</td>\n",
       "      <td>59</td>\n",
       "      <td>248</td>\n",
       "      <td>82.67</td>\n",
       "      <td>-7.14</td>\n",
       "      <td>-35.16</td>\n",
       "      <td>DLA</td>\n",
       "    </tr>\n",
       "    <tr>\n",
       "      <th>2</th>\n",
       "      <td>58</td>\n",
       "      <td>92</td>\n",
       "      <td>62</td>\n",
       "      <td>212</td>\n",
       "      <td>70.67</td>\n",
       "      <td>58.62</td>\n",
       "      <td>-32.61</td>\n",
       "      <td>BUEA</td>\n",
       "    </tr>\n",
       "    <tr>\n",
       "      <th>3</th>\n",
       "      <td>89</td>\n",
       "      <td>98</td>\n",
       "      <td>96</td>\n",
       "      <td>283</td>\n",
       "      <td>94.33</td>\n",
       "      <td>10.11</td>\n",
       "      <td>-2.04</td>\n",
       "      <td>EBWA</td>\n",
       "    </tr>\n",
       "    <tr>\n",
       "      <th>4</th>\n",
       "      <td>97</td>\n",
       "      <td>99</td>\n",
       "      <td>67</td>\n",
       "      <td>263</td>\n",
       "      <td>87.67</td>\n",
       "      <td>2.06</td>\n",
       "      <td>-32.32</td>\n",
       "      <td>LIMBE</td>\n",
       "    </tr>\n",
       "    <tr>\n",
       "      <th>5</th>\n",
       "      <td>57</td>\n",
       "      <td>54</td>\n",
       "      <td>56</td>\n",
       "      <td>167</td>\n",
       "      <td>55.67</td>\n",
       "      <td>-5.26</td>\n",
       "      <td>3.70</td>\n",
       "      <td>KUMBA</td>\n",
       "    </tr>\n",
       "    <tr>\n",
       "      <th>6</th>\n",
       "      <td>85</td>\n",
       "      <td>85</td>\n",
       "      <td>82</td>\n",
       "      <td>252</td>\n",
       "      <td>84.00</td>\n",
       "      <td>0.00</td>\n",
       "      <td>-3.53</td>\n",
       "      <td>MAROUA</td>\n",
       "    </tr>\n",
       "    <tr>\n",
       "      <th>7</th>\n",
       "      <td>55</td>\n",
       "      <td>91</td>\n",
       "      <td>70</td>\n",
       "      <td>216</td>\n",
       "      <td>72.00</td>\n",
       "      <td>65.45</td>\n",
       "      <td>-23.08</td>\n",
       "      <td>GAROUA</td>\n",
       "    </tr>\n",
       "    <tr>\n",
       "      <th>8</th>\n",
       "      <td>60</td>\n",
       "      <td>60</td>\n",
       "      <td>86</td>\n",
       "      <td>206</td>\n",
       "      <td>68.67</td>\n",
       "      <td>0.00</td>\n",
       "      <td>43.33</td>\n",
       "      <td>DCHANG</td>\n",
       "    </tr>\n",
       "    <tr>\n",
       "      <th>9</th>\n",
       "      <td>51</td>\n",
       "      <td>85</td>\n",
       "      <td>97</td>\n",
       "      <td>233</td>\n",
       "      <td>77.67</td>\n",
       "      <td>66.67</td>\n",
       "      <td>14.12</td>\n",
       "      <td>BAF</td>\n",
       "    </tr>\n",
       "    <tr>\n",
       "      <th>10</th>\n",
       "      <td>71</td>\n",
       "      <td>74</td>\n",
       "      <td>74</td>\n",
       "      <td>219</td>\n",
       "      <td>73.00</td>\n",
       "      <td>4.23</td>\n",
       "      <td>0.00</td>\n",
       "      <td>NGDERE</td>\n",
       "    </tr>\n",
       "  </tbody>\n",
       "</table>\n",
       "</div>"
      ],
      "text/plain": [
       "    CA Jan  CA Fev  CA Mar  Total Trim1  Moy Trim1  Evo Jan-Fev  Evo Fev-Mar  \\\n",
       "0       94      52      53          199      66.33       -44.68         1.92   \n",
       "1       98      91      59          248      82.67        -7.14       -35.16   \n",
       "2       58      92      62          212      70.67        58.62       -32.61   \n",
       "3       89      98      96          283      94.33        10.11        -2.04   \n",
       "4       97      99      67          263      87.67         2.06       -32.32   \n",
       "5       57      54      56          167      55.67        -5.26         3.70   \n",
       "6       85      85      82          252      84.00         0.00        -3.53   \n",
       "7       55      91      70          216      72.00        65.45       -23.08   \n",
       "8       60      60      86          206      68.67         0.00        43.33   \n",
       "9       51      85      97          233      77.67        66.67        14.12   \n",
       "10      71      74      74          219      73.00         4.23         0.00   \n",
       "\n",
       "     Ville  \n",
       "0      YDE  \n",
       "1      DLA  \n",
       "2     BUEA  \n",
       "3     EBWA  \n",
       "4    LIMBE  \n",
       "5    KUMBA  \n",
       "6   MAROUA  \n",
       "7   GAROUA  \n",
       "8   DCHANG  \n",
       "9      BAF  \n",
       "10  NGDERE  "
      ]
     },
     "execution_count": 65,
     "metadata": {},
     "output_type": "execute_result"
    }
   ],
   "source": [
    "df"
   ]
  },
  {
   "cell_type": "code",
   "execution_count": 72,
   "id": "582bcf45-1070-4180-acf0-2fae9e769669",
   "metadata": {},
   "outputs": [],
   "source": [
    "df.set_index('Ville',inplace=True)"
   ]
  },
  {
   "cell_type": "code",
   "execution_count": 73,
   "id": "ba7fd7c9-9cfc-4456-be77-2df497339c62",
   "metadata": {},
   "outputs": [
    {
     "data": {
      "text/html": [
       "<div>\n",
       "<style scoped>\n",
       "    .dataframe tbody tr th:only-of-type {\n",
       "        vertical-align: middle;\n",
       "    }\n",
       "\n",
       "    .dataframe tbody tr th {\n",
       "        vertical-align: top;\n",
       "    }\n",
       "\n",
       "    .dataframe thead th {\n",
       "        text-align: right;\n",
       "    }\n",
       "</style>\n",
       "<table border=\"1\" class=\"dataframe\">\n",
       "  <thead>\n",
       "    <tr style=\"text-align: right;\">\n",
       "      <th></th>\n",
       "      <th>CA Jan</th>\n",
       "      <th>CA Fev</th>\n",
       "      <th>CA Mar</th>\n",
       "      <th>Total Trim1</th>\n",
       "      <th>Moy Trim1</th>\n",
       "      <th>Evo Jan-Fev</th>\n",
       "      <th>Evo Fev-Mar</th>\n",
       "    </tr>\n",
       "    <tr>\n",
       "      <th>Ville</th>\n",
       "      <th></th>\n",
       "      <th></th>\n",
       "      <th></th>\n",
       "      <th></th>\n",
       "      <th></th>\n",
       "      <th></th>\n",
       "      <th></th>\n",
       "    </tr>\n",
       "  </thead>\n",
       "  <tbody>\n",
       "    <tr>\n",
       "      <th>YDE</th>\n",
       "      <td>94</td>\n",
       "      <td>52</td>\n",
       "      <td>53</td>\n",
       "      <td>199</td>\n",
       "      <td>66.33</td>\n",
       "      <td>-44.68</td>\n",
       "      <td>1.92</td>\n",
       "    </tr>\n",
       "    <tr>\n",
       "      <th>DLA</th>\n",
       "      <td>98</td>\n",
       "      <td>91</td>\n",
       "      <td>59</td>\n",
       "      <td>248</td>\n",
       "      <td>82.67</td>\n",
       "      <td>-7.14</td>\n",
       "      <td>-35.16</td>\n",
       "    </tr>\n",
       "    <tr>\n",
       "      <th>BUEA</th>\n",
       "      <td>58</td>\n",
       "      <td>92</td>\n",
       "      <td>62</td>\n",
       "      <td>212</td>\n",
       "      <td>70.67</td>\n",
       "      <td>58.62</td>\n",
       "      <td>-32.61</td>\n",
       "    </tr>\n",
       "    <tr>\n",
       "      <th>EBWA</th>\n",
       "      <td>89</td>\n",
       "      <td>98</td>\n",
       "      <td>96</td>\n",
       "      <td>283</td>\n",
       "      <td>94.33</td>\n",
       "      <td>10.11</td>\n",
       "      <td>-2.04</td>\n",
       "    </tr>\n",
       "    <tr>\n",
       "      <th>LIMBE</th>\n",
       "      <td>97</td>\n",
       "      <td>99</td>\n",
       "      <td>67</td>\n",
       "      <td>263</td>\n",
       "      <td>87.67</td>\n",
       "      <td>2.06</td>\n",
       "      <td>-32.32</td>\n",
       "    </tr>\n",
       "    <tr>\n",
       "      <th>KUMBA</th>\n",
       "      <td>57</td>\n",
       "      <td>54</td>\n",
       "      <td>56</td>\n",
       "      <td>167</td>\n",
       "      <td>55.67</td>\n",
       "      <td>-5.26</td>\n",
       "      <td>3.70</td>\n",
       "    </tr>\n",
       "    <tr>\n",
       "      <th>MAROUA</th>\n",
       "      <td>85</td>\n",
       "      <td>85</td>\n",
       "      <td>82</td>\n",
       "      <td>252</td>\n",
       "      <td>84.00</td>\n",
       "      <td>0.00</td>\n",
       "      <td>-3.53</td>\n",
       "    </tr>\n",
       "    <tr>\n",
       "      <th>GAROUA</th>\n",
       "      <td>55</td>\n",
       "      <td>91</td>\n",
       "      <td>70</td>\n",
       "      <td>216</td>\n",
       "      <td>72.00</td>\n",
       "      <td>65.45</td>\n",
       "      <td>-23.08</td>\n",
       "    </tr>\n",
       "    <tr>\n",
       "      <th>DCHANG</th>\n",
       "      <td>60</td>\n",
       "      <td>60</td>\n",
       "      <td>86</td>\n",
       "      <td>206</td>\n",
       "      <td>68.67</td>\n",
       "      <td>0.00</td>\n",
       "      <td>43.33</td>\n",
       "    </tr>\n",
       "    <tr>\n",
       "      <th>BAF</th>\n",
       "      <td>51</td>\n",
       "      <td>85</td>\n",
       "      <td>97</td>\n",
       "      <td>233</td>\n",
       "      <td>77.67</td>\n",
       "      <td>66.67</td>\n",
       "      <td>14.12</td>\n",
       "    </tr>\n",
       "    <tr>\n",
       "      <th>NGDERE</th>\n",
       "      <td>71</td>\n",
       "      <td>74</td>\n",
       "      <td>74</td>\n",
       "      <td>219</td>\n",
       "      <td>73.00</td>\n",
       "      <td>4.23</td>\n",
       "      <td>0.00</td>\n",
       "    </tr>\n",
       "  </tbody>\n",
       "</table>\n",
       "</div>"
      ],
      "text/plain": [
       "        CA Jan  CA Fev  CA Mar  Total Trim1  Moy Trim1  Evo Jan-Fev  \\\n",
       "Ville                                                                 \n",
       "YDE         94      52      53          199      66.33       -44.68   \n",
       "DLA         98      91      59          248      82.67        -7.14   \n",
       "BUEA        58      92      62          212      70.67        58.62   \n",
       "EBWA        89      98      96          283      94.33        10.11   \n",
       "LIMBE       97      99      67          263      87.67         2.06   \n",
       "KUMBA       57      54      56          167      55.67        -5.26   \n",
       "MAROUA      85      85      82          252      84.00         0.00   \n",
       "GAROUA      55      91      70          216      72.00        65.45   \n",
       "DCHANG      60      60      86          206      68.67         0.00   \n",
       "BAF         51      85      97          233      77.67        66.67   \n",
       "NGDERE      71      74      74          219      73.00         4.23   \n",
       "\n",
       "        Evo Fev-Mar  \n",
       "Ville                \n",
       "YDE            1.92  \n",
       "DLA          -35.16  \n",
       "BUEA         -32.61  \n",
       "EBWA          -2.04  \n",
       "LIMBE        -32.32  \n",
       "KUMBA          3.70  \n",
       "MAROUA        -3.53  \n",
       "GAROUA       -23.08  \n",
       "DCHANG        43.33  \n",
       "BAF           14.12  \n",
       "NGDERE         0.00  "
      ]
     },
     "execution_count": 73,
     "metadata": {},
     "output_type": "execute_result"
    }
   ],
   "source": [
    "df"
   ]
  },
  {
   "cell_type": "code",
   "execution_count": 81,
   "id": "97291d7c-c9c7-4e6b-985a-cfa55a527b37",
   "metadata": {},
   "outputs": [
    {
     "data": {
      "text/plain": [
       "CA Jan          94.00\n",
       "CA Fev          52.00\n",
       "CA Mar          53.00\n",
       "Total Trim1    199.00\n",
       "Moy Trim1       66.33\n",
       "Evo Jan-Fev    -44.68\n",
       "Evo Fev-Mar      1.92\n",
       "Name: YDE, dtype: float64"
      ]
     },
     "execution_count": 81,
     "metadata": {},
     "output_type": "execute_result"
    }
   ],
   "source": [
    "df.loc['YDE']"
   ]
  },
  {
   "cell_type": "code",
   "execution_count": 82,
   "id": "57662aa4-f6e6-4aaf-a19b-48ea9b602a1b",
   "metadata": {},
   "outputs": [
    {
     "data": {
      "text/plain": [
       "CA Jan          94.00\n",
       "CA Fev          52.00\n",
       "CA Mar          53.00\n",
       "Total Trim1    199.00\n",
       "Moy Trim1       66.33\n",
       "Evo Jan-Fev    -44.68\n",
       "Evo Fev-Mar      1.92\n",
       "Name: YDE, dtype: float64"
      ]
     },
     "execution_count": 82,
     "metadata": {},
     "output_type": "execute_result"
    }
   ],
   "source": [
    "df.iloc[0]"
   ]
  },
  {
   "cell_type": "code",
   "execution_count": 85,
   "id": "1202ef6a-9151-4cec-ad06-5019770bb9ba",
   "metadata": {},
   "outputs": [],
   "source": [
    "df=df.append(df.iloc[0])"
   ]
  },
  {
   "cell_type": "code",
   "execution_count": 87,
   "id": "88a5004d-6eb8-4644-9a6e-1f6fbe601f9f",
   "metadata": {},
   "outputs": [
    {
     "name": "stdout",
     "output_type": "stream",
     "text": [
      "<class 'pandas.core.frame.DataFrame'>\n",
      "Index: 12 entries, YDE to YDE\n",
      "Data columns (total 7 columns):\n",
      " #   Column       Non-Null Count  Dtype  \n",
      "---  ------       --------------  -----  \n",
      " 0   CA Jan       12 non-null     float64\n",
      " 1   CA Fev       12 non-null     float64\n",
      " 2   CA Mar       12 non-null     float64\n",
      " 3   Total Trim1  12 non-null     float64\n",
      " 4   Moy Trim1    12 non-null     float64\n",
      " 5   Evo Jan-Fev  12 non-null     float64\n",
      " 6   Evo Fev-Mar  12 non-null     float64\n",
      "dtypes: float64(7)\n",
      "memory usage: 768.0+ bytes\n"
     ]
    }
   ],
   "source": [
    "df.info()"
   ]
  },
  {
   "cell_type": "code",
   "execution_count": 105,
   "id": "444369a7-5e95-4c18-80f8-2aeca7907b96",
   "metadata": {},
   "outputs": [
    {
     "data": {
      "text/html": [
       "<div>\n",
       "<style scoped>\n",
       "    .dataframe tbody tr th:only-of-type {\n",
       "        vertical-align: middle;\n",
       "    }\n",
       "\n",
       "    .dataframe tbody tr th {\n",
       "        vertical-align: top;\n",
       "    }\n",
       "\n",
       "    .dataframe thead th {\n",
       "        text-align: right;\n",
       "    }\n",
       "</style>\n",
       "<table border=\"1\" class=\"dataframe\">\n",
       "  <thead>\n",
       "    <tr style=\"text-align: right;\">\n",
       "      <th></th>\n",
       "      <th>CA Jan</th>\n",
       "      <th>CA Fev</th>\n",
       "      <th>CA Mar</th>\n",
       "      <th>Total Trim1</th>\n",
       "      <th>Moy Trim1</th>\n",
       "      <th>Evo Jan-Fev</th>\n",
       "      <th>Evo Fev-Mar</th>\n",
       "    </tr>\n",
       "  </thead>\n",
       "  <tbody>\n",
       "    <tr>\n",
       "      <th>count</th>\n",
       "      <td>10.000000</td>\n",
       "      <td>10.000000</td>\n",
       "      <td>10.000000</td>\n",
       "      <td>10.000000</td>\n",
       "      <td>10.000000</td>\n",
       "      <td>10.000000</td>\n",
       "      <td>10.000000</td>\n",
       "    </tr>\n",
       "    <tr>\n",
       "      <th>mean</th>\n",
       "      <td>72.100000</td>\n",
       "      <td>82.900000</td>\n",
       "      <td>74.900000</td>\n",
       "      <td>229.900000</td>\n",
       "      <td>76.635000</td>\n",
       "      <td>19.474000</td>\n",
       "      <td>-6.759000</td>\n",
       "    </tr>\n",
       "    <tr>\n",
       "      <th>std</th>\n",
       "      <td>18.423717</td>\n",
       "      <td>15.452076</td>\n",
       "      <td>14.798273</td>\n",
       "      <td>33.167755</td>\n",
       "      <td>11.054763</td>\n",
       "      <td>30.868043</td>\n",
       "      <td>24.781807</td>\n",
       "    </tr>\n",
       "    <tr>\n",
       "      <th>min</th>\n",
       "      <td>51.000000</td>\n",
       "      <td>54.000000</td>\n",
       "      <td>56.000000</td>\n",
       "      <td>167.000000</td>\n",
       "      <td>55.670000</td>\n",
       "      <td>-7.140000</td>\n",
       "      <td>-35.160000</td>\n",
       "    </tr>\n",
       "    <tr>\n",
       "      <th>25%</th>\n",
       "      <td>57.250000</td>\n",
       "      <td>76.750000</td>\n",
       "      <td>63.250000</td>\n",
       "      <td>213.000000</td>\n",
       "      <td>71.002500</td>\n",
       "      <td>0.000000</td>\n",
       "      <td>-30.010000</td>\n",
       "    </tr>\n",
       "    <tr>\n",
       "      <th>50%</th>\n",
       "      <td>65.500000</td>\n",
       "      <td>88.000000</td>\n",
       "      <td>72.000000</td>\n",
       "      <td>226.000000</td>\n",
       "      <td>75.335000</td>\n",
       "      <td>3.145000</td>\n",
       "      <td>-2.785000</td>\n",
       "    </tr>\n",
       "    <tr>\n",
       "      <th>75%</th>\n",
       "      <td>88.000000</td>\n",
       "      <td>91.750000</td>\n",
       "      <td>85.000000</td>\n",
       "      <td>251.000000</td>\n",
       "      <td>83.667500</td>\n",
       "      <td>46.492500</td>\n",
       "      <td>2.775000</td>\n",
       "    </tr>\n",
       "    <tr>\n",
       "      <th>max</th>\n",
       "      <td>98.000000</td>\n",
       "      <td>99.000000</td>\n",
       "      <td>97.000000</td>\n",
       "      <td>283.000000</td>\n",
       "      <td>94.330000</td>\n",
       "      <td>66.670000</td>\n",
       "      <td>43.330000</td>\n",
       "    </tr>\n",
       "  </tbody>\n",
       "</table>\n",
       "</div>"
      ],
      "text/plain": [
       "          CA Jan     CA Fev     CA Mar  Total Trim1  Moy Trim1  Evo Jan-Fev  \\\n",
       "count  10.000000  10.000000  10.000000    10.000000  10.000000    10.000000   \n",
       "mean   72.100000  82.900000  74.900000   229.900000  76.635000    19.474000   \n",
       "std    18.423717  15.452076  14.798273    33.167755  11.054763    30.868043   \n",
       "min    51.000000  54.000000  56.000000   167.000000  55.670000    -7.140000   \n",
       "25%    57.250000  76.750000  63.250000   213.000000  71.002500     0.000000   \n",
       "50%    65.500000  88.000000  72.000000   226.000000  75.335000     3.145000   \n",
       "75%    88.000000  91.750000  85.000000   251.000000  83.667500    46.492500   \n",
       "max    98.000000  99.000000  97.000000   283.000000  94.330000    66.670000   \n",
       "\n",
       "       Evo Fev-Mar  \n",
       "count    10.000000  \n",
       "mean     -6.759000  \n",
       "std      24.781807  \n",
       "min     -35.160000  \n",
       "25%     -30.010000  \n",
       "50%      -2.785000  \n",
       "75%       2.775000  \n",
       "max      43.330000  "
      ]
     },
     "execution_count": 105,
     "metadata": {},
     "output_type": "execute_result"
    }
   ],
   "source": [
    "df.describe()"
   ]
  },
  {
   "cell_type": "code",
   "execution_count": 93,
   "id": "0608ef30-a054-41e6-841f-01c904258d1b",
   "metadata": {},
   "outputs": [
    {
     "data": {
      "text/plain": [
       "'C:\\\\Users\\\\Huawei\\\\Documents\\\\Formation DS UY1\\\\Code\\\\Pandas'"
      ]
     },
     "execution_count": 93,
     "metadata": {},
     "output_type": "execute_result"
    }
   ],
   "source": [
    "pwd"
   ]
  },
  {
   "cell_type": "code",
   "execution_count": 94,
   "id": "1dfe9007-9437-4762-a813-f165fe26ea34",
   "metadata": {},
   "outputs": [
    {
     "name": "stdout",
     "output_type": "stream",
     "text": [
      " Le volume dans le lecteur C s’appelle MEKA\n",
      " Le numéro de série du volume est 2C07-31F3\n",
      "\n",
      " Répertoire de C:\\Users\\Huawei\\Documents\\Formation DS UY1\\Code\\Pandas\n",
      "\n",
      "04/03/2023  21:14    <DIR>          .\n",
      "04/03/2023  18:24    <DIR>          ..\n",
      "04/03/2023  20:11    <DIR>          .ipynb_checkpoints\n",
      "04/03/2023  21:14            49 940 Panda Intro.ipynb\n",
      "04/03/2023  19:19           118 100 Pandas 1.ipynb\n",
      "               2 fichier(s)          168 040 octets\n",
      "               3 Rép(s)  32 717 152 256 octets libres\n"
     ]
    }
   ],
   "source": [
    "ls"
   ]
  },
  {
   "cell_type": "code",
   "execution_count": 95,
   "id": "183f1228-988d-4855-a641-76604ce18354",
   "metadata": {},
   "outputs": [
    {
     "name": "stdout",
     "output_type": "stream",
     "text": [
      "C:\\Users\\Huawei\\Documents\\Formation DS UY1\\Code\n"
     ]
    }
   ],
   "source": [
    "cd .."
   ]
  },
  {
   "cell_type": "code",
   "execution_count": 96,
   "id": "18e71872-911b-4248-89f2-adcef6a92c4e",
   "metadata": {},
   "outputs": [
    {
     "name": "stdout",
     "output_type": "stream",
     "text": [
      " Le volume dans le lecteur C s’appelle MEKA\n",
      " Le numéro de série du volume est 2C07-31F3\n",
      "\n",
      " Répertoire de C:\\Users\\Huawei\\Documents\\Formation DS UY1\\Code\n",
      "\n",
      "04/03/2023  18:24    <DIR>          .\n",
      "04/03/2023  08:22    <DIR>          ..\n",
      "04/03/2023  12:52    <DIR>          .ipynb_checkpoints\n",
      "01/03/2023  11:54    <DIR>          DataSet\n",
      "04/03/2023  19:59    <DIR>          Numpy\n",
      "04/03/2023  21:14    <DIR>          Pandas\n",
      "02/03/2023  14:43    <DIR>          Python\n",
      "02/03/2023  21:50             5 685 TP Python.zip\n",
      "               1 fichier(s)            5 685 octets\n",
      "               7 Rép(s)  32 710 643 712 octets libres\n"
     ]
    }
   ],
   "source": [
    "ls"
   ]
  },
  {
   "cell_type": "code",
   "execution_count": 97,
   "id": "db0e8949-8ac8-460a-8d8d-0e940f18bcb6",
   "metadata": {},
   "outputs": [
    {
     "name": "stdout",
     "output_type": "stream",
     "text": [
      "C:\\Users\\Huawei\\Documents\\Formation DS UY1\\Code\\DataSet\n"
     ]
    }
   ],
   "source": [
    "cd DataSet/"
   ]
  },
  {
   "cell_type": "code",
   "execution_count": 98,
   "id": "dae17b1b-2756-4bab-9f5b-06b25c4ec449",
   "metadata": {},
   "outputs": [
    {
     "name": "stdout",
     "output_type": "stream",
     "text": [
      " Le volume dans le lecteur C s’appelle MEKA\n",
      " Le numéro de série du volume est 2C07-31F3\n",
      "\n",
      " Répertoire de C:\\Users\\Huawei\\Documents\\Formation DS UY1\\Code\\DataSet\n",
      "\n",
      "01/03/2023  11:54    <DIR>          .\n",
      "04/03/2023  18:24    <DIR>          ..\n",
      "01/03/2023  11:54    <DIR>          .ipynb_checkpoints\n",
      "28/02/2023  16:42            17 511 2015.csv\n",
      "28/02/2023  16:43            18 080 2016.csv\n",
      "28/02/2023  16:44            30 137 2017.csv\n",
      "28/02/2023  16:45             9 594 2018.csv\n",
      "28/02/2023  16:45             9 607 2019.csv\n",
      "28/02/2023  11:12           132 464 Data_NetFlix1.csv\n",
      "28/02/2023  11:11           127 344 Data_NetFlix2.csv\n",
      "               7 fichier(s)          344 737 octets\n",
      "               3 Rép(s)  32 710 574 080 octets libres\n"
     ]
    }
   ],
   "source": [
    "ls"
   ]
  },
  {
   "cell_type": "code",
   "execution_count": 99,
   "id": "289e0262-3b13-4c87-b296-29b6575bb35d",
   "metadata": {},
   "outputs": [],
   "source": [
    "data_set=pd.read_csv(r'C:\\Users\\Huawei\\Documents\\Formation DS UY1\\Code\\DataSet\\2015.csv')"
   ]
  },
  {
   "cell_type": "code",
   "execution_count": 101,
   "id": "5a7f4ab7-578a-460a-850b-5aafd4fe3600",
   "metadata": {},
   "outputs": [
    {
     "data": {
      "text/html": [
       "<div>\n",
       "<style scoped>\n",
       "    .dataframe tbody tr th:only-of-type {\n",
       "        vertical-align: middle;\n",
       "    }\n",
       "\n",
       "    .dataframe tbody tr th {\n",
       "        vertical-align: top;\n",
       "    }\n",
       "\n",
       "    .dataframe thead th {\n",
       "        text-align: right;\n",
       "    }\n",
       "</style>\n",
       "<table border=\"1\" class=\"dataframe\">\n",
       "  <thead>\n",
       "    <tr style=\"text-align: right;\">\n",
       "      <th></th>\n",
       "      <th>Country</th>\n",
       "      <th>Region</th>\n",
       "      <th>Year</th>\n",
       "      <th>Happiness Rank</th>\n",
       "      <th>Happiness Score</th>\n",
       "      <th>Standard Error</th>\n",
       "      <th>Economy (GDP per Capita)</th>\n",
       "      <th>Family</th>\n",
       "      <th>Health (Life Expectancy)</th>\n",
       "      <th>Freedom</th>\n",
       "      <th>Trust (Government Corruption)</th>\n",
       "      <th>Generosity</th>\n",
       "      <th>Dystopia Residual</th>\n",
       "    </tr>\n",
       "  </thead>\n",
       "  <tbody>\n",
       "    <tr>\n",
       "      <th>0</th>\n",
       "      <td>Switzerland</td>\n",
       "      <td>Western Europe</td>\n",
       "      <td>2015</td>\n",
       "      <td>1</td>\n",
       "      <td>7.587</td>\n",
       "      <td>0.03411</td>\n",
       "      <td>1.39651</td>\n",
       "      <td>1.34951</td>\n",
       "      <td>0.94143</td>\n",
       "      <td>0.66557</td>\n",
       "      <td>0.41978</td>\n",
       "      <td>0.29678</td>\n",
       "      <td>2.51738</td>\n",
       "    </tr>\n",
       "    <tr>\n",
       "      <th>1</th>\n",
       "      <td>Iceland</td>\n",
       "      <td>Western Europe</td>\n",
       "      <td>2015</td>\n",
       "      <td>2</td>\n",
       "      <td>7.561</td>\n",
       "      <td>0.04884</td>\n",
       "      <td>1.30232</td>\n",
       "      <td>1.40223</td>\n",
       "      <td>0.94784</td>\n",
       "      <td>0.62877</td>\n",
       "      <td>0.14145</td>\n",
       "      <td>0.43630</td>\n",
       "      <td>2.70201</td>\n",
       "    </tr>\n",
       "    <tr>\n",
       "      <th>2</th>\n",
       "      <td>Denmark</td>\n",
       "      <td>Western Europe</td>\n",
       "      <td>2015</td>\n",
       "      <td>3</td>\n",
       "      <td>7.527</td>\n",
       "      <td>0.03328</td>\n",
       "      <td>1.32548</td>\n",
       "      <td>1.36058</td>\n",
       "      <td>0.87464</td>\n",
       "      <td>0.64938</td>\n",
       "      <td>0.48357</td>\n",
       "      <td>0.34139</td>\n",
       "      <td>2.49204</td>\n",
       "    </tr>\n",
       "    <tr>\n",
       "      <th>3</th>\n",
       "      <td>Norway</td>\n",
       "      <td>Western Europe</td>\n",
       "      <td>2015</td>\n",
       "      <td>4</td>\n",
       "      <td>7.522</td>\n",
       "      <td>0.03880</td>\n",
       "      <td>1.45900</td>\n",
       "      <td>1.33095</td>\n",
       "      <td>0.88521</td>\n",
       "      <td>0.66973</td>\n",
       "      <td>0.36503</td>\n",
       "      <td>0.34699</td>\n",
       "      <td>2.46531</td>\n",
       "    </tr>\n",
       "    <tr>\n",
       "      <th>4</th>\n",
       "      <td>Canada</td>\n",
       "      <td>North America</td>\n",
       "      <td>2015</td>\n",
       "      <td>5</td>\n",
       "      <td>7.427</td>\n",
       "      <td>0.03553</td>\n",
       "      <td>1.32629</td>\n",
       "      <td>1.32261</td>\n",
       "      <td>0.90563</td>\n",
       "      <td>0.63297</td>\n",
       "      <td>0.32957</td>\n",
       "      <td>0.45811</td>\n",
       "      <td>2.45176</td>\n",
       "    </tr>\n",
       "  </tbody>\n",
       "</table>\n",
       "</div>"
      ],
      "text/plain": [
       "       Country          Region  Year  Happiness Rank  Happiness Score  \\\n",
       "0  Switzerland  Western Europe  2015               1            7.587   \n",
       "1      Iceland  Western Europe  2015               2            7.561   \n",
       "2      Denmark  Western Europe  2015               3            7.527   \n",
       "3       Norway  Western Europe  2015               4            7.522   \n",
       "4       Canada   North America  2015               5            7.427   \n",
       "\n",
       "   Standard Error  Economy (GDP per Capita)   Family  \\\n",
       "0         0.03411                   1.39651  1.34951   \n",
       "1         0.04884                   1.30232  1.40223   \n",
       "2         0.03328                   1.32548  1.36058   \n",
       "3         0.03880                   1.45900  1.33095   \n",
       "4         0.03553                   1.32629  1.32261   \n",
       "\n",
       "   Health (Life Expectancy)  Freedom  Trust (Government Corruption)  \\\n",
       "0                   0.94143  0.66557                        0.41978   \n",
       "1                   0.94784  0.62877                        0.14145   \n",
       "2                   0.87464  0.64938                        0.48357   \n",
       "3                   0.88521  0.66973                        0.36503   \n",
       "4                   0.90563  0.63297                        0.32957   \n",
       "\n",
       "   Generosity  Dystopia Residual  \n",
       "0     0.29678            2.51738  \n",
       "1     0.43630            2.70201  \n",
       "2     0.34139            2.49204  \n",
       "3     0.34699            2.46531  \n",
       "4     0.45811            2.45176  "
      ]
     },
     "execution_count": 101,
     "metadata": {},
     "output_type": "execute_result"
    }
   ],
   "source": [
    "data_set.head()"
   ]
  },
  {
   "cell_type": "code",
   "execution_count": 103,
   "id": "819aeb14-deaa-4f36-9f5e-cf203ff9e6a3",
   "metadata": {},
   "outputs": [],
   "source": [
    "data_set=data_set.set_index('Country')"
   ]
  },
  {
   "cell_type": "code",
   "execution_count": 104,
   "id": "fddd1e9b-86fd-4eaa-b25a-9bcf26e1aaa6",
   "metadata": {},
   "outputs": [
    {
     "data": {
      "text/html": [
       "<div>\n",
       "<style scoped>\n",
       "    .dataframe tbody tr th:only-of-type {\n",
       "        vertical-align: middle;\n",
       "    }\n",
       "\n",
       "    .dataframe tbody tr th {\n",
       "        vertical-align: top;\n",
       "    }\n",
       "\n",
       "    .dataframe thead th {\n",
       "        text-align: right;\n",
       "    }\n",
       "</style>\n",
       "<table border=\"1\" class=\"dataframe\">\n",
       "  <thead>\n",
       "    <tr style=\"text-align: right;\">\n",
       "      <th></th>\n",
       "      <th>Region</th>\n",
       "      <th>Year</th>\n",
       "      <th>Happiness Rank</th>\n",
       "      <th>Happiness Score</th>\n",
       "      <th>Standard Error</th>\n",
       "      <th>Economy (GDP per Capita)</th>\n",
       "      <th>Family</th>\n",
       "      <th>Health (Life Expectancy)</th>\n",
       "      <th>Freedom</th>\n",
       "      <th>Trust (Government Corruption)</th>\n",
       "      <th>Generosity</th>\n",
       "      <th>Dystopia Residual</th>\n",
       "    </tr>\n",
       "    <tr>\n",
       "      <th>Country</th>\n",
       "      <th></th>\n",
       "      <th></th>\n",
       "      <th></th>\n",
       "      <th></th>\n",
       "      <th></th>\n",
       "      <th></th>\n",
       "      <th></th>\n",
       "      <th></th>\n",
       "      <th></th>\n",
       "      <th></th>\n",
       "      <th></th>\n",
       "      <th></th>\n",
       "    </tr>\n",
       "  </thead>\n",
       "  <tbody>\n",
       "    <tr>\n",
       "      <th>Switzerland</th>\n",
       "      <td>Western Europe</td>\n",
       "      <td>2015</td>\n",
       "      <td>1</td>\n",
       "      <td>7.587</td>\n",
       "      <td>0.03411</td>\n",
       "      <td>1.39651</td>\n",
       "      <td>1.34951</td>\n",
       "      <td>0.94143</td>\n",
       "      <td>0.66557</td>\n",
       "      <td>0.41978</td>\n",
       "      <td>0.29678</td>\n",
       "      <td>2.51738</td>\n",
       "    </tr>\n",
       "    <tr>\n",
       "      <th>Iceland</th>\n",
       "      <td>Western Europe</td>\n",
       "      <td>2015</td>\n",
       "      <td>2</td>\n",
       "      <td>7.561</td>\n",
       "      <td>0.04884</td>\n",
       "      <td>1.30232</td>\n",
       "      <td>1.40223</td>\n",
       "      <td>0.94784</td>\n",
       "      <td>0.62877</td>\n",
       "      <td>0.14145</td>\n",
       "      <td>0.43630</td>\n",
       "      <td>2.70201</td>\n",
       "    </tr>\n",
       "    <tr>\n",
       "      <th>Denmark</th>\n",
       "      <td>Western Europe</td>\n",
       "      <td>2015</td>\n",
       "      <td>3</td>\n",
       "      <td>7.527</td>\n",
       "      <td>0.03328</td>\n",
       "      <td>1.32548</td>\n",
       "      <td>1.36058</td>\n",
       "      <td>0.87464</td>\n",
       "      <td>0.64938</td>\n",
       "      <td>0.48357</td>\n",
       "      <td>0.34139</td>\n",
       "      <td>2.49204</td>\n",
       "    </tr>\n",
       "    <tr>\n",
       "      <th>Norway</th>\n",
       "      <td>Western Europe</td>\n",
       "      <td>2015</td>\n",
       "      <td>4</td>\n",
       "      <td>7.522</td>\n",
       "      <td>0.03880</td>\n",
       "      <td>1.45900</td>\n",
       "      <td>1.33095</td>\n",
       "      <td>0.88521</td>\n",
       "      <td>0.66973</td>\n",
       "      <td>0.36503</td>\n",
       "      <td>0.34699</td>\n",
       "      <td>2.46531</td>\n",
       "    </tr>\n",
       "    <tr>\n",
       "      <th>Canada</th>\n",
       "      <td>North America</td>\n",
       "      <td>2015</td>\n",
       "      <td>5</td>\n",
       "      <td>7.427</td>\n",
       "      <td>0.03553</td>\n",
       "      <td>1.32629</td>\n",
       "      <td>1.32261</td>\n",
       "      <td>0.90563</td>\n",
       "      <td>0.63297</td>\n",
       "      <td>0.32957</td>\n",
       "      <td>0.45811</td>\n",
       "      <td>2.45176</td>\n",
       "    </tr>\n",
       "  </tbody>\n",
       "</table>\n",
       "</div>"
      ],
      "text/plain": [
       "                     Region  Year  Happiness Rank  Happiness Score  \\\n",
       "Country                                                              \n",
       "Switzerland  Western Europe  2015               1            7.587   \n",
       "Iceland      Western Europe  2015               2            7.561   \n",
       "Denmark      Western Europe  2015               3            7.527   \n",
       "Norway       Western Europe  2015               4            7.522   \n",
       "Canada        North America  2015               5            7.427   \n",
       "\n",
       "             Standard Error  Economy (GDP per Capita)   Family  \\\n",
       "Country                                                          \n",
       "Switzerland         0.03411                   1.39651  1.34951   \n",
       "Iceland             0.04884                   1.30232  1.40223   \n",
       "Denmark             0.03328                   1.32548  1.36058   \n",
       "Norway              0.03880                   1.45900  1.33095   \n",
       "Canada              0.03553                   1.32629  1.32261   \n",
       "\n",
       "             Health (Life Expectancy)  Freedom  Trust (Government Corruption)  \\\n",
       "Country                                                                         \n",
       "Switzerland                   0.94143  0.66557                        0.41978   \n",
       "Iceland                       0.94784  0.62877                        0.14145   \n",
       "Denmark                       0.87464  0.64938                        0.48357   \n",
       "Norway                        0.88521  0.66973                        0.36503   \n",
       "Canada                        0.90563  0.63297                        0.32957   \n",
       "\n",
       "             Generosity  Dystopia Residual  \n",
       "Country                                     \n",
       "Switzerland     0.29678            2.51738  \n",
       "Iceland         0.43630            2.70201  \n",
       "Denmark         0.34139            2.49204  \n",
       "Norway          0.34699            2.46531  \n",
       "Canada          0.45811            2.45176  "
      ]
     },
     "execution_count": 104,
     "metadata": {},
     "output_type": "execute_result"
    }
   ],
   "source": [
    "data_set.head()"
   ]
  },
  {
   "cell_type": "code",
   "execution_count": 107,
   "id": "34a38343-8a0f-4e49-9e84-3754c4c75d55",
   "metadata": {},
   "outputs": [
    {
     "data": {
      "text/plain": [
       "'C:\\\\Users\\\\Huawei\\\\Documents\\\\Formation DS UY1\\\\Code\\\\DataSet'"
      ]
     },
     "execution_count": 107,
     "metadata": {},
     "output_type": "execute_result"
    }
   ],
   "source": [
    "pwd"
   ]
  },
  {
   "cell_type": "code",
   "execution_count": 108,
   "id": "91a84b50-8c87-441c-b811-826ef3e2274e",
   "metadata": {},
   "outputs": [],
   "source": [
    "df.to_csv(\"Données CMR.csv\")"
   ]
  },
  {
   "cell_type": "code",
   "execution_count": 109,
   "id": "ab7bb569-049d-42b1-816c-f80997fb031a",
   "metadata": {},
   "outputs": [],
   "source": [
    "import matplotlib as plt"
   ]
  },
  {
   "cell_type": "code",
   "execution_count": 112,
   "id": "c615d30c-cb8a-4904-a66c-1c61e8f94767",
   "metadata": {},
   "outputs": [],
   "source": [
    "df_new=df[['CA Jan','CA Fev','CA Mar']]"
   ]
  },
  {
   "cell_type": "code",
   "execution_count": 113,
   "id": "b58094f6-c569-470f-8184-8daeedf989e7",
   "metadata": {},
   "outputs": [
    {
     "data": {
      "text/html": [
       "<div>\n",
       "<style scoped>\n",
       "    .dataframe tbody tr th:only-of-type {\n",
       "        vertical-align: middle;\n",
       "    }\n",
       "\n",
       "    .dataframe tbody tr th {\n",
       "        vertical-align: top;\n",
       "    }\n",
       "\n",
       "    .dataframe thead th {\n",
       "        text-align: right;\n",
       "    }\n",
       "</style>\n",
       "<table border=\"1\" class=\"dataframe\">\n",
       "  <thead>\n",
       "    <tr style=\"text-align: right;\">\n",
       "      <th></th>\n",
       "      <th>CA Jan</th>\n",
       "      <th>CA Fev</th>\n",
       "      <th>CA Mar</th>\n",
       "    </tr>\n",
       "    <tr>\n",
       "      <th>Ville</th>\n",
       "      <th></th>\n",
       "      <th></th>\n",
       "      <th></th>\n",
       "    </tr>\n",
       "  </thead>\n",
       "  <tbody>\n",
       "    <tr>\n",
       "      <th>DLA</th>\n",
       "      <td>98.0</td>\n",
       "      <td>91.0</td>\n",
       "      <td>59.0</td>\n",
       "    </tr>\n",
       "    <tr>\n",
       "      <th>BUEA</th>\n",
       "      <td>58.0</td>\n",
       "      <td>92.0</td>\n",
       "      <td>62.0</td>\n",
       "    </tr>\n",
       "    <tr>\n",
       "      <th>EBWA</th>\n",
       "      <td>89.0</td>\n",
       "      <td>98.0</td>\n",
       "      <td>96.0</td>\n",
       "    </tr>\n",
       "    <tr>\n",
       "      <th>LIMBE</th>\n",
       "      <td>97.0</td>\n",
       "      <td>99.0</td>\n",
       "      <td>67.0</td>\n",
       "    </tr>\n",
       "    <tr>\n",
       "      <th>KUMBA</th>\n",
       "      <td>57.0</td>\n",
       "      <td>54.0</td>\n",
       "      <td>56.0</td>\n",
       "    </tr>\n",
       "    <tr>\n",
       "      <th>MAROUA</th>\n",
       "      <td>85.0</td>\n",
       "      <td>85.0</td>\n",
       "      <td>82.0</td>\n",
       "    </tr>\n",
       "    <tr>\n",
       "      <th>GAROUA</th>\n",
       "      <td>55.0</td>\n",
       "      <td>91.0</td>\n",
       "      <td>70.0</td>\n",
       "    </tr>\n",
       "    <tr>\n",
       "      <th>DCHANG</th>\n",
       "      <td>60.0</td>\n",
       "      <td>60.0</td>\n",
       "      <td>86.0</td>\n",
       "    </tr>\n",
       "    <tr>\n",
       "      <th>BAF</th>\n",
       "      <td>51.0</td>\n",
       "      <td>85.0</td>\n",
       "      <td>97.0</td>\n",
       "    </tr>\n",
       "    <tr>\n",
       "      <th>NGDERE</th>\n",
       "      <td>71.0</td>\n",
       "      <td>74.0</td>\n",
       "      <td>74.0</td>\n",
       "    </tr>\n",
       "  </tbody>\n",
       "</table>\n",
       "</div>"
      ],
      "text/plain": [
       "        CA Jan  CA Fev  CA Mar\n",
       "Ville                         \n",
       "DLA       98.0    91.0    59.0\n",
       "BUEA      58.0    92.0    62.0\n",
       "EBWA      89.0    98.0    96.0\n",
       "LIMBE     97.0    99.0    67.0\n",
       "KUMBA     57.0    54.0    56.0\n",
       "MAROUA    85.0    85.0    82.0\n",
       "GAROUA    55.0    91.0    70.0\n",
       "DCHANG    60.0    60.0    86.0\n",
       "BAF       51.0    85.0    97.0\n",
       "NGDERE    71.0    74.0    74.0"
      ]
     },
     "execution_count": 113,
     "metadata": {},
     "output_type": "execute_result"
    }
   ],
   "source": [
    "df_new"
   ]
  },
  {
   "cell_type": "code",
   "execution_count": 3,
   "id": "3296ab19-362e-496f-94bb-47d600a8df5d",
   "metadata": {},
   "outputs": [
    {
     "ename": "NameError",
     "evalue": "name 'df_new' is not defined",
     "output_type": "error",
     "traceback": [
      "\u001b[0;31m---------------------------------------------------------------------------\u001b[0m",
      "\u001b[0;31mNameError\u001b[0m                                 Traceback (most recent call last)",
      "\u001b[0;32m/tmp/ipykernel_9845/3996999111.py\u001b[0m in \u001b[0;36m<module>\u001b[0;34m\u001b[0m\n\u001b[0;32m----> 1\u001b[0;31m \u001b[0mdf_new\u001b[0m\u001b[0;34m.\u001b[0m\u001b[0mboxplot\u001b[0m\u001b[0;34m(\u001b[0m\u001b[0;34m)\u001b[0m\u001b[0;34m\u001b[0m\u001b[0;34m\u001b[0m\u001b[0m\n\u001b[0m",
      "\u001b[0;31mNameError\u001b[0m: name 'df_new' is not defined"
     ]
    }
   ],
   "source": [
    "df_new.boxplot()"
   ]
  },
  {
   "cell_type": "code",
   "execution_count": 125,
   "id": "7917d1de-1a25-4801-ba83-5c9b875cdd85",
   "metadata": {},
   "outputs": [
    {
     "data": {
      "text/plain": [
       "<AxesSubplot:xlabel='Ville'>"
      ]
     },
     "execution_count": 125,
     "metadata": {},
     "output_type": "execute_result"
    },
    {
     "data": {
      "image/png": "[encoded data removed]",
      "text/plain": [
       "<Figure size 640x480 with 1 Axes>"
      ]
     },
     "metadata": {},
     "output_type": "display_data"
    }
   ],
   "source": [
    "df_new.plot(kind='bar'²)"
   ]
  },
  {
   "cell_type": "code",
   "execution_count": 126,
   "id": "78a67f44-956b-4edb-ba32-8d8dbbec85e6",
   "metadata": {},
   "outputs": [
    {
     "name": "stdout",
     "output_type": "stream",
     "text": [
      "<class 'pandas.core.frame.DataFrame'>\n",
      "Index: 10 entries, DLA to NGDERE\n",
      "Data columns (total 7 columns):\n",
      " #   Column       Non-Null Count  Dtype  \n",
      "---  ------       --------------  -----  \n",
      " 0   CA Jan       10 non-null     float64\n",
      " 1   CA Fev       10 non-null     float64\n",
      " 2   CA Mar       10 non-null     float64\n",
      " 3   Total Trim1  10 non-null     float64\n",
      " 4   Moy Trim1    10 non-null     float64\n",
      " 5   Evo Jan-Fev  10 non-null     float64\n",
      " 6   Evo Fev-Mar  10 non-null     float64\n",
      "dtypes: float64(7)\n",
      "memory usage: 960.0+ bytes\n"
     ]
    }
   ],
   "source": [
    "df.info()"
   ]
  },
  {
   "cell_type": "code",
   "execution_count": 151,
   "id": "1a631641-2e48-4a14-8702-aa0c8a85d7c8",
   "metadata": {},
   "outputs": [
    {
     "data": {
      "text/plain": [
       "<AxesSubplot:label='fb5e5b08-4dd0-4204-b956-4222e8074f06'>"
      ]
     },
     "execution_count": 151,
     "metadata": {},
     "output_type": "execute_result"
    },
    {
     "data": {
      "image/png": "[encoded data removed]",
      "text/plain": [
       "<Figure size 640x480 with 2 Axes>"
      ]
     },
     "metadata": {},
     "output_type": "display_data"
    }
   ],
   "source": [
    "df[['Evo Jan-Fev','Evo Fev-Mar']].plot(kind='bar',xlabel='Ville',ylabel='Evolution menduelle du CA')\n",
    "df['Total Trim1'].plot(secondary_y=True,colormap='Accent',fontsize=8,legend=True)"
   ]
  },
  {
   "cell_type": "code",
   "execution_count": 9,
   "id": "55344af5-b1bb-4590-8b5e-84cc5fcd008d",
   "metadata": {},
   "outputs": [
    {
     "data": {
      "text/html": [
       "<div>\n",
       "<style scoped>\n",
       "    .dataframe tbody tr th:only-of-type {\n",
       "        vertical-align: middle;\n",
       "    }\n",
       "\n",
       "    .dataframe tbody tr th {\n",
       "        vertical-align: top;\n",
       "    }\n",
       "\n",
       "    .dataframe thead th {\n",
       "        text-align: right;\n",
       "    }\n",
       "</style>\n",
       "<table border=\"1\" class=\"dataframe\">\n",
       "  <thead>\n",
       "    <tr style=\"text-align: right;\">\n",
       "      <th></th>\n",
       "      <th>CA Jan</th>\n",
       "      <th>CA Fev</th>\n",
       "      <th>CA Mar</th>\n",
       "    </tr>\n",
       "  </thead>\n",
       "  <tbody>\n",
       "    <tr>\n",
       "      <th>YDE</th>\n",
       "      <td>94</td>\n",
       "      <td>52</td>\n",
       "      <td>53</td>\n",
       "    </tr>\n",
       "    <tr>\n",
       "      <th>DLA</th>\n",
       "      <td>98</td>\n",
       "      <td>91</td>\n",
       "      <td>59</td>\n",
       "    </tr>\n",
       "    <tr>\n",
       "      <th>BUEA</th>\n",
       "      <td>58</td>\n",
       "      <td>92</td>\n",
       "      <td>62</td>\n",
       "    </tr>\n",
       "    <tr>\n",
       "      <th>EBWA</th>\n",
       "      <td>89</td>\n",
       "      <td>98</td>\n",
       "      <td>96</td>\n",
       "    </tr>\n",
       "    <tr>\n",
       "      <th>LIMBE</th>\n",
       "      <td>97</td>\n",
       "      <td>99</td>\n",
       "      <td>67</td>\n",
       "    </tr>\n",
       "  </tbody>\n",
       "</table>\n",
       "</div>"
      ],
      "text/plain": [
       "       CA Jan  CA Fev  CA Mar\n",
       "YDE        94      52      53\n",
       "DLA        98      91      59\n",
       "BUEA       58      92      62\n",
       "EBWA       89      98      96\n",
       "LIMBE      97      99      67"
      ]
     },
     "execution_count": 9,
     "metadata": {},
     "output_type": "execute_result"
    }
   ],
   "source": [
    "df.head()"
   ]
  },
  {
   "cell_type": "code",
   "execution_count": 29,
   "id": "ade04f57",
   "metadata": {},
   "outputs": [],
   "source": [
    "df.reset_index(inplace=True)"
   ]
  },
  {
   "cell_type": "code",
   "execution_count": 30,
   "id": "43b813e3",
   "metadata": {},
   "outputs": [
    {
     "data": {
      "text/plain": [
       "0        YDE\n",
       "1        DLA\n",
       "2       BUEA\n",
       "3       EBWA\n",
       "4      LIMBE\n",
       "5      KUMBA\n",
       "6     MAROUA\n",
       "7     GAROUA\n",
       "8     DCHANG\n",
       "9        BAF\n",
       "10    NGDERE\n",
       "Name: index, dtype: object"
      ]
     },
     "execution_count": 30,
     "metadata": {},
     "output_type": "execute_result"
    }
   ],
   "source": [
    "df[\"index\"]"
   ]
  },
  {
   "cell_type": "code",
   "execution_count": 34,
   "id": "883b98c6",
   "metadata": {},
   "outputs": [],
   "source": [
    "line=df[df[\"index\"]==\"YDE\"]"
   ]
  },
  {
   "cell_type": "code",
   "execution_count": 41,
   "id": "3b873278",
   "metadata": {},
   "outputs": [
    {
     "data": {
      "text/plain": [
       "52"
      ]
     },
     "execution_count": 41,
     "metadata": {},
     "output_type": "execute_result"
    }
   ],
   "source": [
    "line[\"CA Fev\"].values[0]"
   ]
  },
  {
   "cell_type": "code",
   "execution_count": 40,
   "id": "9ec9ba17",
   "metadata": {},
   "outputs": [
    {
     "data": {
      "text/plain": [
       "index          0\n",
       "CA Jan         0\n",
       "CA Fev         0\n",
       "CA Mar         0\n",
       "Evo Fev-Mar    0\n",
       "Moy Trim1      0\n",
       "dtype: int64"
      ]
     },
     "execution_count": 40,
     "metadata": {},
     "output_type": "execute_result"
    }
   ],
   "source": [
    "df.isna().sum()"
   ]
  },
  {
   "cell_type": "code",
   "execution_count": 46,
   "id": "165240c9",
   "metadata": {},
   "outputs": [
    {
     "data": {
      "text/plain": [
       "11"
      ]
     },
     "execution_count": 46,
     "metadata": {},
     "output_type": "execute_result"
    }
   ],
   "source": [
    "int(df.size/df.columns.size)"
   ]
  },
  {
   "cell_type": "code",
   "execution_count": 44,
   "id": "5d306839",
   "metadata": {},
   "outputs": [
    {
     "data": {
      "text/plain": [
       "6"
      ]
     },
     "execution_count": 44,
     "metadata": {},
     "output_type": "execute_result"
    }
   ],
   "source": [
    "df.columns.size"
   ]
  },
  {
   "cell_type": "code",
   "execution_count": 47,
   "id": "a9a3c165",
   "metadata": {},
   "outputs": [
    {
     "data": {
      "text/plain": [
       "0     True\n",
       "1     True\n",
       "2     True\n",
       "3     True\n",
       "4     True\n",
       "5     True\n",
       "6     True\n",
       "7     True\n",
       "8     True\n",
       "9     True\n",
       "10    True\n",
       "dtype: bool"
      ]
     },
     "execution_count": 47,
     "metadata": {},
     "output_type": "execute_result"
    }
   ],
   "source": [
    "df[\"CA Fev\"].notna()==df[\"CA Jan\"].notna()"
   ]
  },
  {
   "cell_type": "code",
   "execution_count": 49,
   "id": "70267ace",
   "metadata": {},
   "outputs": [
    {
     "data": {
      "text/plain": [
       "11"
      ]
     },
     "execution_count": 49,
     "metadata": {},
     "output_type": "execute_result"
    }
   ],
   "source": [
    "df.shape[0]"
   ]
  },
  {
   "cell_type": "code",
   "execution_count": 50,
   "id": "41329f00",
   "metadata": {},
   "outputs": [],
   "source": [
    "a=\"atgcaaatsgggjsllll\""
   ]
  },
  {
   "cell_type": "code",
   "execution_count": 52,
   "id": "9e3a0100",
   "metadata": {},
   "outputs": [
    {
     "data": {
      "text/plain": [
       "8"
      ]
     },
     "execution_count": 52,
     "metadata": {},
     "output_type": "execute_result"
    }
   ],
   "source": [
    "a.find(\"s\")"
   ]
  },
  {
   "cell_type": "code",
   "execution_count": null,
   "id": "83c77889",
   "metadata": {},
   "outputs": [],
   "source": []
  }
 ],
 "metadata": {
  "kernelspec": {
   "display_name": "Python 3 (ipykernel)",
   "language": "python",
   "name": "python3"
  },
  "language_info": {
   "codemirror_mode": {
    "name": "ipython",
    "version": 3
   },
   "file_extension": ".py",
   "mimetype": "text/x-python",
   "name": "python",
   "nbconvert_exporter": "python",
   "pygments_lexer": "ipython3",
   "version": "3.10.6"
  }
 },
 "nbformat": 4,
 "nbformat_minor": 5
}
