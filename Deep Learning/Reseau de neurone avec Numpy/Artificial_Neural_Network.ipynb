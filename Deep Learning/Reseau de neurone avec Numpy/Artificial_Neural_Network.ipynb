{
 "cells": [
  {
   "cell_type": "code",
   "execution_count": 1,
   "id": "d0cc84f0-91a3-40f1-a8fa-f225d7998a56",
   "metadata": {},
   "outputs": [],
   "source": [
    "import numpy as np\n",
    "#from tqdm import tqdm \n",
    "from matplotlib import pyplot as plt"
   ]
  },
  {
   "cell_type": "code",
   "execution_count": 2,
   "id": "455b94a3-33f9-475d-aa31-5c1dabf495cf",
   "metadata": {},
   "outputs": [],
   "source": [
    "def initialisation(dims):\n",
    "    n=len(dims)\n",
    "    parametres={}\n",
    "    for i in range(1,n):\n",
    "        parametres[\"W\"+str(i)]=np.random.randn(dims[i],dims[i-1])\n",
    "        parametres[\"b\"+str(i)]=np.random.randn(dims[i],1)\n",
    "    return parametres"
   ]
  },
  {
   "cell_type": "code",
   "execution_count": 3,
   "id": "812b94aa-df4c-4ce2-8b11-ee96e35372ad",
   "metadata": {},
   "outputs": [
    {
     "name": "stdout",
     "output_type": "stream",
     "text": [
      "W1 (32, 2)\n",
      "b1 (32, 1)\n",
      "W2 (32, 32)\n",
      "b2 (32, 1)\n",
      "W3 (1, 32)\n",
      "b3 (1, 1)\n"
     ]
    }
   ],
   "source": [
    "parametres=initialisation([2,32,32,1])\n",
    "for key,val in parametres.items():\n",
    "    print(key, val.shape)"
   ]
  },
  {
   "cell_type": "code",
   "execution_count": 4,
   "id": "4f6a19d4-68ea-42e0-b89d-2b393b14e659",
   "metadata": {},
   "outputs": [],
   "source": [
    "def forward_propagation(x,param):\n",
    "    activations={'A0':x}\n",
    "    n=len(param)//2\n",
    "    for i in range(1,n+1):\n",
    "        z=param[\"W\"+str(i)].dot(activations[\"A\"+str(i-1)])+param['b'+str(i)]\n",
    "        activations[\"A\"+str(i)]=1/(1+np.exp(-z))\n",
    "    return activations"
   ]
  },
  {
   "cell_type": "code",
   "execution_count": 5,
   "id": "57bfec17-27fc-4aad-ba2a-c17e7840c783",
   "metadata": {},
   "outputs": [],
   "source": [
    "x=np.random.randn(2,100)"
   ]
  },
  {
   "cell_type": "code",
   "execution_count": 6,
   "id": "9c11d124-835a-4544-9919-e369b37d2be4",
   "metadata": {},
   "outputs": [
    {
     "data": {
      "text/plain": [
       "2"
      ]
     },
     "execution_count": 6,
     "metadata": {},
     "output_type": "execute_result"
    }
   ],
   "source": [
    "x.shape[0]"
   ]
  },
  {
   "cell_type": "code",
   "execution_count": 7,
   "id": "39445d17-fcec-4bcc-8be8-2fc00ebe22ff",
   "metadata": {},
   "outputs": [
    {
     "name": "stdout",
     "output_type": "stream",
     "text": [
      "A0 (2, 100)\n",
      "A1 (32, 100)\n",
      "A2 (32, 100)\n",
      "A3 (1, 100)\n"
     ]
    }
   ],
   "source": [
    "activations=forward_propagation(x,parametres)\n",
    "for key,val in activations.items():\n",
    "    print(key, val.shape)"
   ]
  },
  {
   "cell_type": "code",
   "execution_count": 8,
   "id": "ce4e0dde-bdac-454b-8b23-eed608cba0f2",
   "metadata": {},
   "outputs": [],
   "source": [
    "def back_propagation(y,activ,param):\n",
    "    n=len(param)//2\n",
    "    m=y.shape[1]\n",
    "    dZ=activ[\"A\"+str(n)]-y\n",
    "    gradients={}\n",
    "    for i in range(n,0,-1):\n",
    "        gradients['dW'+str(i)]=1/m*np.dot(dZ,activ['A'+str(i-1)].T)\n",
    "        gradients['db'+str(i)]=1/m*np.sum(dZ,axis=1,keepdims=True)\n",
    "        if i>=1:\n",
    "            dZ=np.dot(param['W'+str(i)].T,dZ)*activ['A'+str(i-1)]*(1-activ['A'+str(i-1)])\n",
    "        \n",
    "    return gradients"
   ]
  },
  {
   "cell_type": "code",
   "execution_count": 9,
   "id": "961b37b8-fd69-4646-bf37-97232d58013c",
   "metadata": {},
   "outputs": [
    {
     "data": {
      "text/plain": [
       "array([[1, 1, 0, 0, 1, 1, 0, 1, 1, 0, 1, 1, 1, 1, 0, 0, 0, 1, 0, 1, 1, 1,\n",
       "        1, 0, 1, 1, 0, 1, 1, 1, 1, 0, 0, 0, 0, 1, 1, 1, 0, 1, 1, 1, 1, 1,\n",
       "        1, 1, 1, 1, 0, 1, 0, 0, 0, 1, 0, 1, 1, 0, 1, 0, 0, 1, 1, 0, 0, 0,\n",
       "        1, 0, 0, 1, 0, 0, 0, 1, 1, 0, 1, 1, 0, 0, 1, 0, 1, 1, 1, 0, 0, 0,\n",
       "        1, 0, 1, 0, 0, 0, 0, 1, 0, 1, 1, 1]])"
      ]
     },
     "execution_count": 9,
     "metadata": {},
     "output_type": "execute_result"
    }
   ],
   "source": [
    "y=np.random.randint(0,2,(1,100))\n",
    "y"
   ]
  },
  {
   "cell_type": "code",
   "execution_count": 10,
   "id": "134fdf10-16d7-4c42-8bdf-d0ebc7ddcef2",
   "metadata": {},
   "outputs": [
    {
     "name": "stdout",
     "output_type": "stream",
     "text": [
      "dW3 (1, 32)\n",
      "db3 (1, 1)\n",
      "dW2 (32, 32)\n",
      "db2 (32, 1)\n",
      "dW1 (32, 2)\n",
      "db1 (32, 1)\n"
     ]
    }
   ],
   "source": [
    "gradients=back_propagation(y,activations,parametres)\n",
    "for key,val in gradients.items():\n",
    "    print(key, val.shape)"
   ]
  },
  {
   "cell_type": "code",
   "execution_count": 11,
   "id": "bec74d25-70c9-436d-8de5-376b18e526f4",
   "metadata": {},
   "outputs": [],
   "source": [
    "def update(grad,param,learning_rate):\n",
    "    n=len(param)//2\n",
    "    for i in range(1,n+1):\n",
    "        param['W'+str(i)]=param['W'+str(i)]-learning_rate*grad['dW'+str(i)]\n",
    "        param['b'+str(i)]=param['b'+str(i)]-learning_rate*grad['db'+str(i)]\n",
    "    return param"
   ]
  },
  {
   "cell_type": "code",
   "execution_count": 12,
   "id": "39a1fdde-ee15-4093-bcf6-f1d83fa9731b",
   "metadata": {},
   "outputs": [],
   "source": [
    "def loss_function(y,a):\n",
    "    m=y.shape[1]\n",
    "    arr=1.e-15\n",
    "    return np.sum(-y*np.log(a+arr)-(1-y)*np.log(1-a+arr))/m"
   ]
  },
  {
   "cell_type": "code",
   "execution_count": 13,
   "id": "f7e13e4f-219e-4d08-b148-5b61c1f124fe",
   "metadata": {},
   "outputs": [],
   "source": [
    "def predict(x,parametres):\n",
    "    activations=forward_propagation(x,parametres)\n",
    "    n=len(parametres)//2\n",
    "    return activations['A'+str(n)]"
   ]
  },
  {
   "cell_type": "code",
   "execution_count": 14,
   "id": "2354f555-d637-4493-974a-db0017e635b9",
   "metadata": {},
   "outputs": [],
   "source": [
    "def artificial_neural_network(x_train,y_train,x_test,y_test,hidden_layers,learning_rate=0.01,n_iter=1000):\n",
    "    np.random.seed(0)\n",
    "    #initialisation des parametres du modele\n",
    "    dimensions=list(hidden_layers)\n",
    "    dimensions=[x_train.shape[0]]+dimensions\n",
    "    dimensions+=[y_train.shape[0]]\n",
    "    parametres=initialisation(dimensions)\n",
    "    #Apprentissage du modèle\n",
    "    train_loss=[]\n",
    "    test_win=[]\n",
    "    for i in tqdm(range(n_iter)):\n",
    "        activations=forward_propagation(x_train,parametres)\n",
    "        last_layer=len(parametres)//2\n",
    "        gradients=back_propagation(y_train,activations,parametres)\n",
    "        parametres=update(gradients,parametres,learning_rate)\n",
    "        train_loss+=[loss_function(y_train,activations['A'+str(last_layer)])]\n",
    "        y_pred=predict(x_test,parametres)\n",
    "        y_pred=y_pred>0.5\n",
    "        test_win+=[100*np.sum(y_pred==y_test)/y_test.shape[1]]\n",
    "    #Visualisation de l'apprentissage\n",
    "    plt.figure()\n",
    "    plt.subplot(1,2,1)\n",
    "    plt.plot(train_loss,c='r')\n",
    "    plt.title('train loss')\n",
    "    plt.subplot(1,2,2)\n",
    "    plt.plot(test_win,c='g')\n",
    "    plt.title('test win prec')\n",
    "    plt.savefig(\"train_loss.png\")\n",
    "    plt.close()\n",
    "    return parametres"
   ]
  },
  {
   "cell_type": "code",
   "execution_count": 15,
   "id": "c9f6a520-8c0c-48a7-9c84-928bc98bc509",
   "metadata": {},
   "outputs": [
    {
     "ename": "ModuleNotFoundError",
     "evalue": "No module named 'h5py'",
     "output_type": "error",
     "traceback": [
      "\u001b[0;31m---------------------------------------------------------------------------\u001b[0m",
      "\u001b[0;31mModuleNotFoundError\u001b[0m                       Traceback (most recent call last)",
      "\u001b[0;32m/tmp/ipykernel_6255/570167808.py\u001b[0m in \u001b[0;36m<module>\u001b[0;34m\u001b[0m\n\u001b[0;32m----> 1\u001b[0;31m \u001b[0;32mimport\u001b[0m \u001b[0mh5py\u001b[0m\u001b[0;34m\u001b[0m\u001b[0;34m\u001b[0m\u001b[0m\n\u001b[0m\u001b[1;32m      2\u001b[0m \u001b[0;32mimport\u001b[0m \u001b[0mnumpy\u001b[0m \u001b[0;32mas\u001b[0m \u001b[0mnp\u001b[0m\u001b[0;34m\u001b[0m\u001b[0;34m\u001b[0m\u001b[0m\n\u001b[1;32m      3\u001b[0m \u001b[0;34m\u001b[0m\u001b[0m\n\u001b[1;32m      4\u001b[0m \u001b[0;34m\u001b[0m\u001b[0m\n\u001b[1;32m      5\u001b[0m \u001b[0;32mdef\u001b[0m \u001b[0mload_data\u001b[0m\u001b[0;34m(\u001b[0m\u001b[0;34m)\u001b[0m\u001b[0;34m:\u001b[0m\u001b[0;34m\u001b[0m\u001b[0;34m\u001b[0m\u001b[0m\n",
      "\u001b[0;31mModuleNotFoundError\u001b[0m: No module named 'h5py'"
     ]
    }
   ],
   "source": [
    "import h5py\n",
    "import numpy as np\n",
    "\n",
    "\n",
    "def load_data():\n",
    "    train_dataset = h5py.File('datasets/trainset.hdf5', \"r\")\n",
    "    X_train = np.array(train_dataset[\"X_train\"][:]) \n",
    "    y_train = np.array(train_dataset[\"Y_train\"][:]) \n",
    "\n",
    "    test_dataset = h5py.File('datasets/testset.hdf5', \"r\")\n",
    "    X_test = np.array(test_dataset[\"X_test\"][:])\n",
    "    y_test = np.array(test_dataset[\"Y_test\"][:]) \n",
    "    \n",
    "    return X_train, y_train, X_test, y_test"
   ]
  },
  {
   "cell_type": "code",
   "execution_count": 17,
   "id": "a47555ae-98a4-46d5-a3a2-59a03bd0fe75",
   "metadata": {},
   "outputs": [],
   "source": [
    "X_train, y_train, X_test, y_test=load_data()"
   ]
  },
  {
   "cell_type": "code",
   "execution_count": 18,
   "id": "c2f1203a-c5df-41e2-aa4c-15c75fedefaf",
   "metadata": {},
   "outputs": [
    {
     "data": {
      "text/plain": [
       "(200, 64, 64)"
      ]
     },
     "execution_count": 18,
     "metadata": {},
     "output_type": "execute_result"
    }
   ],
   "source": [
    "X_test.shape"
   ]
  },
  {
   "cell_type": "code",
   "execution_count": 19,
   "id": "8e543f52-38eb-432e-816d-610af5e3105e",
   "metadata": {},
   "outputs": [],
   "source": [
    "y_train=y_train.reshape(1,y_train.shape[0])\n",
    "y_test=y_test.reshape(1,y_test.shape[0])"
   ]
  },
  {
   "cell_type": "code",
   "execution_count": 20,
   "id": "cc927032-5836-4dc6-9f0b-e8d1feee7b44",
   "metadata": {},
   "outputs": [],
   "source": [
    "#Flatten image\n",
    "X_train=X_train.reshape(-1,X_train.shape[0])/X_train.max()\n",
    "X_test=X_test.reshape(-1,X_test.shape[0])/X_train.max()"
   ]
  },
  {
   "cell_type": "code",
   "execution_count": 21,
   "id": "bdd2af3f-0dfb-4bae-a979-1512331f40b2",
   "metadata": {},
   "outputs": [
    {
     "data": {
      "text/plain": [
       "(4096, 200)"
      ]
     },
     "execution_count": 21,
     "metadata": {},
     "output_type": "execute_result"
    }
   ],
   "source": [
    "X_test.shape"
   ]
  },
  {
   "cell_type": "code",
   "execution_count": 37,
   "id": "4a7145af-7550-474e-9c82-77f013f7d60e",
   "metadata": {},
   "outputs": [],
   "source": [
    "#parametres=artificial_neural_network(X_train,y_train,X_test,y_test,(5000,5000,5000,5000))"
   ]
  },
  {
   "cell_type": "code",
   "execution_count": 38,
   "id": "f8ab137f-fb37-479c-81a4-e3b10ee83e1f",
   "metadata": {},
   "outputs": [],
   "source": [
    "#y_pred=predict(X_test,parametres)"
   ]
  },
  {
   "cell_type": "code",
   "execution_count": 24,
   "id": "f094cfa3-23e3-4506-984a-26ef3264a702",
   "metadata": {},
   "outputs": [],
   "source": [
    "y_pred=y_pred>0.5"
   ]
  },
  {
   "cell_type": "code",
   "execution_count": 25,
   "id": "e56969f0-6b1e-4111-ae6a-25792e4b6404",
   "metadata": {},
   "outputs": [
    {
     "data": {
      "text/plain": [
       "47.5"
      ]
     },
     "execution_count": 25,
     "metadata": {},
     "output_type": "execute_result"
    }
   ],
   "source": [
    "100*np.sum(y_pred==y_test)/y_test.shape[1]"
   ]
  },
  {
   "cell_type": "code",
   "execution_count": null,
   "id": "bc84daf3-26ca-4dca-9be8-6e7f84cd3b45",
   "metadata": {},
   "outputs": [],
   "source": [
    "plt.subplot(1,2,1)\n",
    "plt.plot(y)\n",
    "plt.subplot(1,2,2)\n",
    "plt.plot(y)\n",
    "plt.show()"
   ]
  },
  {
   "cell_type": "code",
   "execution_count": null,
   "id": "cc46708f-f7ba-428d-ae2d-8c3a25136745",
   "metadata": {},
   "outputs": [],
   "source": []
  }
 ],
 "metadata": {
  "kernelspec": {
   "display_name": "Python 3 (ipykernel)",
   "language": "python",
   "name": "python3"
  },
  "language_info": {
   "codemirror_mode": {
    "name": "ipython",
    "version": 3
   },
   "file_extension": ".py",
   "mimetype": "text/x-python",
   "name": "python",
   "nbconvert_exporter": "python",
   "pygments_lexer": "ipython3",
   "version": "3.10.6"
  }
 },
 "nbformat": 4,
 "nbformat_minor": 5
}
