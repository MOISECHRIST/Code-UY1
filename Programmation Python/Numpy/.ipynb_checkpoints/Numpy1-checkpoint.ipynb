{
 "cells": [
  {
   "cell_type": "markdown",
   "id": "27a8f941-6965-437d-a486-1d556176a188",
   "metadata": {},
   "source": [
    "#Importation de Numpy"
   ]
  },
  {
   "cell_type": "code",
   "execution_count": 2,
   "id": "7241a16f-f96b-44ae-be14-261d5970fbe8",
   "metadata": {},
   "outputs": [],
   "source": [
    "import numpy as np"
   ]
  },
  {
   "cell_type": "markdown",
   "id": "4a53f469-7e97-4bde-b407-d8ea4ef6e628",
   "metadata": {},
   "source": [
    "#Instruction simple"
   ]
  },
  {
   "cell_type": "code",
   "execution_count": 4,
   "id": "8fedd56d-b172-4bd2-822e-eaab38d5e30a",
   "metadata": {},
   "outputs": [],
   "source": [
    "x=2"
   ]
  },
  {
   "cell_type": "code",
   "execution_count": 5,
   "id": "1c2b3739-cb2b-47f1-a560-1ebd20b883bc",
   "metadata": {},
   "outputs": [],
   "source": [
    "y=3"
   ]
  },
  {
   "cell_type": "code",
   "execution_count": 6,
   "id": "dae38984-0a9e-480e-9a85-ef088ebad18b",
   "metadata": {},
   "outputs": [
    {
     "data": {
      "text/plain": [
       "5"
      ]
     },
     "execution_count": 6,
     "metadata": {},
     "output_type": "execute_result"
    }
   ],
   "source": [
    "x+y"
   ]
  },
  {
   "cell_type": "markdown",
   "id": "481009d0-3a42-4a7c-adb8-a3cb5b58e9cd",
   "metadata": {},
   "source": [
    "Creation d'une liste"
   ]
  },
  {
   "cell_type": "code",
   "execution_count": 9,
   "id": "40f2ce90-c925-455a-bdac-b065b56c0870",
   "metadata": {},
   "outputs": [],
   "source": [
    "my_list=[1,2,3]"
   ]
  },
  {
   "cell_type": "code",
   "execution_count": 10,
   "id": "d1745d40-81c4-492c-95dd-c22df022ba6f",
   "metadata": {},
   "outputs": [
    {
     "data": {
      "text/plain": [
       "list"
      ]
     },
     "execution_count": 10,
     "metadata": {},
     "output_type": "execute_result"
    }
   ],
   "source": [
    "type(my_list)"
   ]
  },
  {
   "cell_type": "markdown",
   "id": "af569296-bea4-4291-bf02-45a172367e84",
   "metadata": {},
   "source": [
    "Conversion en tableau numpy"
   ]
  },
  {
   "cell_type": "code",
   "execution_count": 11,
   "id": "6a3a6617-de49-446f-b404-ebb2e720d8c2",
   "metadata": {},
   "outputs": [
    {
     "data": {
      "text/plain": [
       "array([1, 2, 3])"
      ]
     },
     "execution_count": 11,
     "metadata": {},
     "output_type": "execute_result"
    }
   ],
   "source": [
    "np.array(my_list)"
   ]
  },
  {
   "cell_type": "code",
   "execution_count": 12,
   "id": "9b475398-5e5c-471c-a6d9-6b80ab5109c6",
   "metadata": {},
   "outputs": [
    {
     "data": {
      "text/plain": [
       "[1, 2, 3]"
      ]
     },
     "execution_count": 12,
     "metadata": {},
     "output_type": "execute_result"
    }
   ],
   "source": [
    "my_list"
   ]
  },
  {
   "cell_type": "code",
   "execution_count": 13,
   "id": "26fb6993-2528-4b6f-a598-8010559994fa",
   "metadata": {},
   "outputs": [],
   "source": [
    "my_arr=np.array(my_list)"
   ]
  },
  {
   "cell_type": "markdown",
   "id": "c18872f1-48eb-48b2-b9f9-8e9540cb2a6f",
   "metadata": {},
   "source": [
    "Type d'un tableau numpy : Tableau à n dimensions"
   ]
  },
  {
   "cell_type": "code",
   "execution_count": 14,
   "id": "e24791e8-6763-4826-a587-377dc10cdf4a",
   "metadata": {},
   "outputs": [
    {
     "data": {
      "text/plain": [
       "numpy.ndarray"
      ]
     },
     "execution_count": 14,
     "metadata": {},
     "output_type": "execute_result"
    }
   ],
   "source": [
    "type(my_arr)"
   ]
  },
  {
   "cell_type": "markdown",
   "id": "fcc87bb5-564b-4d52-870b-74017651bfdf",
   "metadata": {},
   "source": [
    "Creons a present une matrice (tableau à 2 dimensios) avec les listes standard "
   ]
  },
  {
   "cell_type": "code",
   "execution_count": 15,
   "id": "f8b1b84f-f744-44c2-acba-00b766726496",
   "metadata": {},
   "outputs": [],
   "source": [
    "my_matrix=[[1,2,3],[2,5,6],[7,8,9]]"
   ]
  },
  {
   "cell_type": "code",
   "execution_count": 16,
   "id": "1d2f4553-36f1-42f8-8667-0e4dda862a72",
   "metadata": {},
   "outputs": [
    {
     "data": {
      "text/plain": [
       "[[1, 2, 3], [2, 5, 6], [7, 8, 9]]"
      ]
     },
     "execution_count": 16,
     "metadata": {},
     "output_type": "execute_result"
    }
   ],
   "source": [
    "my_matrix"
   ]
  },
  {
   "cell_type": "markdown",
   "id": "737d7ef4-85d3-4017-9aec-4e458993e547",
   "metadata": {},
   "source": [
    "On converti à présent cette matrice en tableau numpy à 2 dimensions"
   ]
  },
  {
   "cell_type": "code",
   "execution_count": 17,
   "id": "d5e51373-439a-4222-92b1-1cbef54abbfc",
   "metadata": {},
   "outputs": [],
   "source": [
    "np_matrix=np.array(my_matrix)"
   ]
  },
  {
   "cell_type": "code",
   "execution_count": 18,
   "id": "8564dfd8-8461-4aac-967d-cd4cf9a9dc7a",
   "metadata": {},
   "outputs": [
    {
     "data": {
      "text/plain": [
       "array([[1, 2, 3],\n",
       "       [2, 5, 6],\n",
       "       [7, 8, 9]])"
      ]
     },
     "execution_count": 18,
     "metadata": {},
     "output_type": "execute_result"
    }
   ],
   "source": [
    "np_matrix"
   ]
  },
  {
   "cell_type": "markdown",
   "id": "8387da5b-f12c-4db3-a720-9e92e4d5b282",
   "metadata": {},
   "source": [
    "Noter que numpy sait déjà qu'il sagit d'un tableau de dimension 2. Cela va permettre à numpy de manipuler des tableaux de données et appliquer des fonctions sur des dataset bidimensionnels "
   ]
  },
  {
   "cell_type": "markdown",
   "id": "b4bb4271-7ef0-4454-aab5-a3b0696d4c4b",
   "metadata": {},
   "source": [
    "#Regardons une fonction de la bibilothèque Numpy et voyons comment numpy manipules les données. Cette fonction est l'équivalent de range de python"
   ]
  },
  {
   "cell_type": "code",
   "execution_count": 24,
   "id": "04e38570-1037-43d4-8b9c-062dae892efe",
   "metadata": {},
   "outputs": [
    {
     "data": {
      "text/plain": [
       "array([  0,  20,  40,  60,  80, 100])"
      ]
     },
     "execution_count": 24,
     "metadata": {},
     "output_type": "execute_result"
    }
   ],
   "source": [
    "np.arange(0,101,20)"
   ]
  },
  {
   "cell_type": "code",
   "execution_count": 28,
   "id": "b8031550-befd-48b7-b754-52da948c92c9",
   "metadata": {},
   "outputs": [
    {
     "data": {
      "text/plain": [
       "array([0., 0., 0., 0., 0., 0., 0., 0., 0., 0.])"
      ]
     },
     "execution_count": 28,
     "metadata": {},
     "output_type": "execute_result"
    }
   ],
   "source": [
    "#On peut aussi avoir besoin de manipuler un tableau de zero dans ce cas \n",
    "np.zeros(10)\n",
    "#On remarque que ces valeurs sont des flottants "
   ]
  },
  {
   "cell_type": "markdown",
   "id": "d43ca280-5fec-4ceb-8d76-5d65122c4d81",
   "metadata": {},
   "source": [
    "#On peut aussi avoir envie d'avoir une matrice de zero dans ce cas le parametre shape sera un tuple (nb lignes,nb colones)"
   ]
  },
  {
   "cell_type": "code",
   "execution_count": 32,
   "id": "55f2e76f-e94a-4ec7-9229-2c95e92ef374",
   "metadata": {},
   "outputs": [
    {
     "data": {
      "text/plain": [
       "array([[0., 0., 0.],\n",
       "       [0., 0., 0.]])"
      ]
     },
     "execution_count": 32,
     "metadata": {},
     "output_type": "execute_result"
    }
   ],
   "source": [
    "np.zeros((2,3))"
   ]
  },
  {
   "cell_type": "code",
   "execution_count": 34,
   "id": "c2b10566-61bd-4e37-830f-a468f5864ba4",
   "metadata": {},
   "outputs": [
    {
     "data": {
      "text/plain": [
       "array([1., 1., 1., 1., 1.])"
      ]
     },
     "execution_count": 34,
     "metadata": {},
     "output_type": "execute_result"
    }
   ],
   "source": [
    "#Pareil on a aussi la fonction np.ones qui retourne un tableau de 1\n",
    "np.ones(5)"
   ]
  },
  {
   "cell_type": "code",
   "execution_count": 40,
   "id": "557bad7e-f8d7-4403-aace-90adf5cf9dd0",
   "metadata": {},
   "outputs": [
    {
     "data": {
      "text/plain": [
       "array([ 0.        ,  0.52631579,  1.05263158,  1.57894737,  2.10526316,\n",
       "        2.63157895,  3.15789474,  3.68421053,  4.21052632,  4.73684211,\n",
       "        5.26315789,  5.78947368,  6.31578947,  6.84210526,  7.36842105,\n",
       "        7.89473684,  8.42105263,  8.94736842,  9.47368421, 10.        ])"
      ]
     },
     "execution_count": 40,
     "metadata": {},
     "output_type": "execute_result"
    }
   ],
   "source": [
    "#La fonction linespace permet elle aussi de générer des tableaux numpy\n",
    "np.linspace(0,10,20)\n",
    "#On obtient 20 nombre uniformement espacé entre 0 inclus et 10 inclus"
   ]
  },
  {
   "cell_type": "code",
   "execution_count": 42,
   "id": "951cc0d0-ad65-44f7-b503-708bbf6c02b4",
   "metadata": {},
   "outputs": [
    {
     "data": {
      "text/plain": [
       "array([[1., 0., 0.],\n",
       "       [0., 1., 0.],\n",
       "       [0., 0., 1.]])"
      ]
     },
     "execution_count": 42,
     "metadata": {},
     "output_type": "execute_result"
    }
   ],
   "source": [
    "np.eye(3)"
   ]
  },
  {
   "cell_type": "code",
   "execution_count": 43,
   "id": "6c1d68ad-dccc-4c1f-afab-7432524574c7",
   "metadata": {},
   "outputs": [],
   "source": [
    "I=np.eye(3)"
   ]
  },
  {
   "cell_type": "code",
   "execution_count": 48,
   "id": "2714c8cf-50fe-45e1-9d18-092f560c6e21",
   "metadata": {},
   "outputs": [],
   "source": [
    "M=np_matrix**2-5*I"
   ]
  },
  {
   "cell_type": "code",
   "execution_count": 49,
   "id": "48855ad0-2f73-4d9e-b04b-7b0a014954c8",
   "metadata": {},
   "outputs": [
    {
     "data": {
      "text/plain": [
       "array([[-4.,  4.,  9.],\n",
       "       [ 4., 20., 36.],\n",
       "       [49., 64., 76.]])"
      ]
     },
     "execution_count": 49,
     "metadata": {},
     "output_type": "execute_result"
    }
   ],
   "source": [
    "M"
   ]
  },
  {
   "cell_type": "code",
   "execution_count": 50,
   "id": "d2630043-1bd7-4a10-86f7-6dc04ccb631b",
   "metadata": {},
   "outputs": [],
   "source": [
    "A=[[0,0,15],[1,0,-17],[0,1,7]]"
   ]
  },
  {
   "cell_type": "code",
   "execution_count": 51,
   "id": "7189f254-aa5d-4a99-9c4d-09d64dac78b2",
   "metadata": {},
   "outputs": [],
   "source": [
    "A=np.array(A)"
   ]
  },
  {
   "cell_type": "code",
   "execution_count": 52,
   "id": "478ae17d-0b73-49ef-9f21-d695e14396ee",
   "metadata": {},
   "outputs": [
    {
     "data": {
      "text/plain": [
       "array([[  0,   0,  15],\n",
       "       [  1,   0, -17],\n",
       "       [  0,   1,   7]])"
      ]
     },
     "execution_count": 52,
     "metadata": {},
     "output_type": "execute_result"
    }
   ],
   "source": [
    "A"
   ]
  },
  {
   "cell_type": "code",
   "execution_count": 112,
   "id": "460e9824-b864-4c38-9b7e-378c87e0174d",
   "metadata": {},
   "outputs": [],
   "source": [
    "M=A@A-4*A+5*I"
   ]
  },
  {
   "cell_type": "code",
   "execution_count": 113,
   "id": "1476fea1-15ba-40c9-a72e-08d3dbe6d78e",
   "metadata": {},
   "outputs": [
    {
     "data": {
      "text/plain": [
       "array([[  5.,  15.,  45.],\n",
       "       [ -4., -12., -36.],\n",
       "       [  1.,   3.,   9.]])"
      ]
     },
     "execution_count": 113,
     "metadata": {},
     "output_type": "execute_result"
    }
   ],
   "source": [
    "M"
   ]
  },
  {
   "cell_type": "code",
   "execution_count": 160,
   "id": "c5987e6f-6324-46cc-acca-c328790be402",
   "metadata": {},
   "outputs": [
    {
     "data": {
      "text/plain": [
       "array([[   0,   15,  105],\n",
       "       [   0,  -17, -104],\n",
       "       [   1,    7,   32]])"
      ]
     },
     "execution_count": 160,
     "metadata": {},
     "output_type": "execute_result"
    }
   ],
   "source": [
    "B=A\n",
    "BA\n",
    "B"
   ]
  },
  {
   "cell_type": "markdown",
   "id": "9c0c1312-4512-49a1-9636-6a84e6694007",
   "metadata": {},
   "source": [
    "#Renvoie un nombre aléatoire compris entre 0 et 1 suivant la distribution uniforme"
   ]
  },
  {
   "cell_type": "code",
   "execution_count": 64,
   "id": "95b7330e-7942-479d-8810-179c89a51503",
   "metadata": {},
   "outputs": [
    {
     "data": {
      "text/plain": [
       "array([0.10388043])"
      ]
     },
     "execution_count": 64,
     "metadata": {},
     "output_type": "execute_result"
    }
   ],
   "source": [
    "np.random.rand(1)"
   ]
  },
  {
   "cell_type": "code",
   "execution_count": 66,
   "id": "78c4e2a2-a1eb-4293-b1f3-d3787d313d87",
   "metadata": {},
   "outputs": [
    {
     "data": {
      "text/plain": [
       "array([[0.41309814, 0.71860117],\n",
       "       [0.86595014, 0.59338698],\n",
       "       [0.12249315, 0.91411087]])"
      ]
     },
     "execution_count": 66,
     "metadata": {},
     "output_type": "execute_result"
    }
   ],
   "source": [
    "np.random.rand(3,2)"
   ]
  },
  {
   "cell_type": "markdown",
   "id": "30be45ca-701b-4c07-b67a-f10ba761eb80",
   "metadata": {},
   "source": [
    "#Si par contre on veut des valeurs suivant une distribution normale on fait"
   ]
  },
  {
   "cell_type": "code",
   "execution_count": 65,
   "id": "7fe1063e-8bc8-473e-8bfe-250e874b6219",
   "metadata": {},
   "outputs": [
    {
     "data": {
      "text/plain": [
       "array([-0.98987741, -0.43557042])"
      ]
     },
     "execution_count": 65,
     "metadata": {},
     "output_type": "execute_result"
    }
   ],
   "source": [
    "np.random.randn(2)"
   ]
  },
  {
   "cell_type": "code",
   "execution_count": 67,
   "id": "fcb67d18-36c2-45dc-a386-fbc479c740cd",
   "metadata": {},
   "outputs": [
    {
     "data": {
      "text/plain": [
       "array([[-1.0848926 , -2.03259473, -0.21979255, -2.38443023],\n",
       "       [-0.86030832, -0.16774671, -1.17020112,  2.3957831 ],\n",
       "       [ 1.65399984,  1.51483397,  0.25391545, -0.41301593]])"
      ]
     },
     "execution_count": 67,
     "metadata": {},
     "output_type": "execute_result"
    }
   ],
   "source": [
    "np.random.randn(3,4)"
   ]
  },
  {
   "cell_type": "markdown",
   "id": "6b856bdc-6c0a-4214-94d2-697e75361aaa",
   "metadata": {},
   "source": [
    "#Si on veut des nombres entiers aléatoires entre deux valeurs"
   ]
  },
  {
   "cell_type": "code",
   "execution_count": 70,
   "id": "42fb610f-c0f4-4ce3-b869-67a541e621cf",
   "metadata": {},
   "outputs": [
    {
     "data": {
      "text/plain": [
       "array([[4, 4, 4],\n",
       "       [3, 1, 1],\n",
       "       [2, 2, 3]])"
      ]
     },
     "execution_count": 70,
     "metadata": {},
     "output_type": "execute_result"
    }
   ],
   "source": [
    "np.random.randint(1,5,(3,3))"
   ]
  },
  {
   "cell_type": "code",
   "execution_count": 71,
   "id": "49f4d263-678b-48a8-b6ae-805a3e08f984",
   "metadata": {},
   "outputs": [
    {
     "data": {
      "text/plain": [
       "array([4, 4, 3])"
      ]
     },
     "execution_count": 71,
     "metadata": {},
     "output_type": "execute_result"
    }
   ],
   "source": [
    "np.random.randint(1,5,3)"
   ]
  },
  {
   "cell_type": "code",
   "execution_count": 73,
   "id": "fcb58759-3516-48c6-a027-e6cd18bec3ee",
   "metadata": {},
   "outputs": [
    {
     "data": {
      "text/plain": [
       "array([[95, 42,  1],\n",
       "       [12, 67, 17],\n",
       "       [85, 47, 79]])"
      ]
     },
     "execution_count": 73,
     "metadata": {},
     "output_type": "execute_result"
    }
   ],
   "source": [
    "np.random.randint(0,101,(3,3))"
   ]
  },
  {
   "cell_type": "markdown",
   "id": "ae981c3c-66d3-40c9-b631-2cb47060421b",
   "metadata": {},
   "source": [
    "#Le seed permet de reproduire un état aléatoire dans le quel les données aléatoires peuvent etre reproduite"
   ]
  },
  {
   "cell_type": "markdown",
   "id": "943355f8-0dce-449f-bf43-34b51059df6e",
   "metadata": {},
   "source": [
    "#Le seed permet de repeter des distributions aléatoires afin de tester différents modèles ou méthodes de visualisation"
   ]
  },
  {
   "cell_type": "markdown",
   "id": "f18efd90-cc62-43c4-b279-1bd0e21e437d",
   "metadata": {},
   "source": [
    "#Test d'un état aléatoire avec seed"
   ]
  },
  {
   "cell_type": "code",
   "execution_count": 87,
   "id": "fb687ec9-f29e-43e5-92e6-416241a1dd1d",
   "metadata": {},
   "outputs": [
    {
     "data": {
      "text/plain": [
       "array([3, 4, 1, 9, 5, 8, 6, 1, 2])"
      ]
     },
     "execution_count": 87,
     "metadata": {},
     "output_type": "execute_result"
    }
   ],
   "source": [
    "np.random.seed(237)\n",
    "np.random.randint(1,10,9)"
   ]
  },
  {
   "cell_type": "markdown",
   "id": "54ad2585-f269-447c-9f7f-9683926bdc92",
   "metadata": {},
   "source": [
    "Que se passe t-il si on sépare le seed de la demande de nombre aléatoire"
   ]
  },
  {
   "cell_type": "code",
   "execution_count": 83,
   "id": "324678dc-21f7-4e3f-b80a-d951881786bc",
   "metadata": {},
   "outputs": [],
   "source": [
    "np.random.seed(237)"
   ]
  },
  {
   "cell_type": "code",
   "execution_count": 89,
   "id": "6677e562-8f3c-44ec-9e81-c94b0afc4fb9",
   "metadata": {},
   "outputs": [
    {
     "data": {
      "text/plain": [
       "array([5, 5, 6, 2, 4, 6, 9, 9, 9])"
      ]
     },
     "execution_count": 89,
     "metadata": {},
     "output_type": "execute_result"
    }
   ],
   "source": [
    "np.random.randint(1,10,9)"
   ]
  },
  {
   "cell_type": "code",
   "execution_count": 162,
   "id": "277283fa-3f69-4f53-9b0c-a7af185e1b78",
   "metadata": {},
   "outputs": [],
   "source": [
    "arr=np.arange(0,25)"
   ]
  },
  {
   "cell_type": "code",
   "execution_count": 163,
   "id": "28fde655-e79f-4b62-bf50-e63c25e39757",
   "metadata": {},
   "outputs": [
    {
     "data": {
      "text/plain": [
       "array([ 0,  1,  2,  3,  4,  5,  6,  7,  8,  9, 10, 11, 12, 13, 14, 15, 16,\n",
       "       17, 18, 19, 20, 21, 22, 23, 24])"
      ]
     },
     "execution_count": 163,
     "metadata": {},
     "output_type": "execute_result"
    }
   ],
   "source": [
    "arr"
   ]
  },
  {
   "cell_type": "code",
   "execution_count": 92,
   "id": "91aac5bf-b2e2-4da0-921e-b9afaa40f136",
   "metadata": {},
   "outputs": [
    {
     "data": {
      "text/plain": [
       "array([[ 0,  1,  2,  3,  4],\n",
       "       [ 5,  6,  7,  8,  9],\n",
       "       [10, 11, 12, 13, 14],\n",
       "       [15, 16, 17, 18, 19],\n",
       "       [20, 21, 22, 23, 24]])"
      ]
     },
     "execution_count": 92,
     "metadata": {},
     "output_type": "execute_result"
    }
   ],
   "source": [
    "arr.reshape(5,5)"
   ]
  },
  {
   "cell_type": "code",
   "execution_count": 93,
   "id": "50a84f8c-3b8e-4191-aefb-9fffa71eee71",
   "metadata": {},
   "outputs": [],
   "source": [
    "arr2=np.random.randint(0,101,10)"
   ]
  },
  {
   "cell_type": "code",
   "execution_count": 94,
   "id": "fb9071f8-d443-4a08-91c0-780d41444942",
   "metadata": {},
   "outputs": [
    {
     "data": {
      "text/plain": [
       "array([51, 98, 69, 10, 54, 96, 90, 10, 84,  3])"
      ]
     },
     "execution_count": 94,
     "metadata": {},
     "output_type": "execute_result"
    }
   ],
   "source": [
    "arr2"
   ]
  },
  {
   "cell_type": "code",
   "execution_count": 95,
   "id": "bcd73155-53bd-4916-a04d-cbe91f4d7b28",
   "metadata": {},
   "outputs": [
    {
     "data": {
      "text/plain": [
       "98"
      ]
     },
     "execution_count": 95,
     "metadata": {},
     "output_type": "execute_result"
    }
   ],
   "source": [
    "arr2.max()"
   ]
  },
  {
   "cell_type": "code",
   "execution_count": 96,
   "id": "8bf39f63-912b-4bd9-8212-9c6864f0d653",
   "metadata": {},
   "outputs": [
    {
     "data": {
      "text/plain": [
       "3"
      ]
     },
     "execution_count": 96,
     "metadata": {},
     "output_type": "execute_result"
    }
   ],
   "source": [
    "arr2.min()"
   ]
  },
  {
   "cell_type": "code",
   "execution_count": 97,
   "id": "7b33f0f2-9250-41e0-8bea-1cccd53ac987",
   "metadata": {},
   "outputs": [
    {
     "data": {
      "text/plain": [
       "1"
      ]
     },
     "execution_count": 97,
     "metadata": {},
     "output_type": "execute_result"
    }
   ],
   "source": [
    "arr2.argmax()"
   ]
  },
  {
   "cell_type": "code",
   "execution_count": 98,
   "id": "ff7f52a0-1b7e-488e-99ef-edb6b7090f57",
   "metadata": {},
   "outputs": [
    {
     "data": {
      "text/plain": [
       "9"
      ]
     },
     "execution_count": 98,
     "metadata": {},
     "output_type": "execute_result"
    }
   ],
   "source": [
    "arr2.argmin()"
   ]
  },
  {
   "cell_type": "code",
   "execution_count": 99,
   "id": "657867b7-3eb3-4a9a-a49c-4f8e296ef5e5",
   "metadata": {},
   "outputs": [
    {
     "data": {
      "text/plain": [
       "dtype('int32')"
      ]
     },
     "execution_count": 99,
     "metadata": {},
     "output_type": "execute_result"
    }
   ],
   "source": [
    "arr2.dtype"
   ]
  },
  {
   "cell_type": "code",
   "execution_count": 100,
   "id": "8a236b3e-55b8-488a-8ae9-0779f301fcbd",
   "metadata": {},
   "outputs": [
    {
     "data": {
      "text/plain": [
       "array([ 0,  1,  2,  3,  4,  5,  6,  7,  8,  9, 10, 11, 12, 13, 14, 15, 16,\n",
       "       17, 18, 19, 20, 21, 22, 23, 24])"
      ]
     },
     "execution_count": 100,
     "metadata": {},
     "output_type": "execute_result"
    }
   ],
   "source": [
    "arr"
   ]
  },
  {
   "cell_type": "code",
   "execution_count": 101,
   "id": "6312f5db-7515-4096-a03b-036da4b1bef7",
   "metadata": {},
   "outputs": [
    {
     "data": {
      "text/plain": [
       "(25,)"
      ]
     },
     "execution_count": 101,
     "metadata": {},
     "output_type": "execute_result"
    }
   ],
   "source": [
    "arr.shape"
   ]
  },
  {
   "cell_type": "code",
   "execution_count": 102,
   "id": "c9ada99a-e001-4240-9206-c574877a0eef",
   "metadata": {},
   "outputs": [],
   "source": [
    "arr = arr.reshape(5,5)"
   ]
  },
  {
   "cell_type": "code",
   "execution_count": 103,
   "id": "666d8daa-4647-4a18-baa2-37085da48151",
   "metadata": {},
   "outputs": [
    {
     "data": {
      "text/plain": [
       "(5, 5)"
      ]
     },
     "execution_count": 103,
     "metadata": {},
     "output_type": "execute_result"
    }
   ],
   "source": [
    "arr.shape"
   ]
  },
  {
   "cell_type": "markdown",
   "id": "3064cfa1-afbb-4b27-90fe-bafed62887f3",
   "metadata": {},
   "source": [
    "Ma méthode reshape permet d'avoir des tableaux de dimension 2 par ligne ou par colonne "
   ]
  },
  {
   "cell_type": "code",
   "execution_count": 104,
   "id": "ce05eb55-b41f-4df9-9df7-27612e890d11",
   "metadata": {},
   "outputs": [
    {
     "data": {
      "text/plain": [
       "array([[10, 11, 12, 13, 14],\n",
       "       [15, 16, 17, 18, 19],\n",
       "       [20, 21, 22, 23, 24]])"
      ]
     },
     "execution_count": 104,
     "metadata": {},
     "output_type": "execute_result"
    }
   ],
   "source": [
    "arr[2:]"
   ]
  },
  {
   "cell_type": "code",
   "execution_count": 105,
   "id": "d532bfc2-7329-4dfe-b5a0-be71c12a446f",
   "metadata": {},
   "outputs": [
    {
     "data": {
      "text/plain": [
       "array([[ 0,  1,  2,  3,  4],\n",
       "       [ 5,  6,  7,  8,  9],\n",
       "       [10, 11, 12, 13, 14],\n",
       "       [15, 16, 17, 18, 19],\n",
       "       [20, 21, 22, 23, 24]])"
      ]
     },
     "execution_count": 105,
     "metadata": {},
     "output_type": "execute_result"
    }
   ],
   "source": [
    "arr"
   ]
  },
  {
   "cell_type": "code",
   "execution_count": 106,
   "id": "f47c1df9-a128-4499-bc51-a6fc3d445d31",
   "metadata": {},
   "outputs": [
    {
     "data": {
      "text/plain": [
       "array([10, 11, 12, 13, 14])"
      ]
     },
     "execution_count": 106,
     "metadata": {},
     "output_type": "execute_result"
    }
   ],
   "source": [
    "arr[2]"
   ]
  },
  {
   "cell_type": "code",
   "execution_count": 108,
   "id": "035bbeba-8978-4d30-a9b7-13aa4557ae4a",
   "metadata": {},
   "outputs": [
    {
     "data": {
      "text/plain": [
       "array([[10, 12, 14],\n",
       "       [15, 17, 19],\n",
       "       [20, 22, 24]])"
      ]
     },
     "execution_count": 108,
     "metadata": {},
     "output_type": "execute_result"
    }
   ],
   "source": [
    "arr[2:,::2]"
   ]
  },
  {
   "cell_type": "code",
   "execution_count": 109,
   "id": "c1db0640-8de1-410c-936e-b22e5843df5a",
   "metadata": {},
   "outputs": [
    {
     "data": {
      "text/plain": [
       "array([[ 0,  1,  2,  3,  4],\n",
       "       [10, 11, 12, 13, 14],\n",
       "       [20, 21, 22, 23, 24]])"
      ]
     },
     "execution_count": 109,
     "metadata": {},
     "output_type": "execute_result"
    }
   ],
   "source": [
    "arr[::2]"
   ]
  },
  {
   "cell_type": "code",
   "execution_count": 110,
   "id": "81ff3c0a-a7de-439a-aa26-e8fac900071c",
   "metadata": {},
   "outputs": [
    {
     "data": {
      "text/plain": [
       "nan"
      ]
     },
     "execution_count": 110,
     "metadata": {},
     "output_type": "execute_result"
    }
   ],
   "source": [
    "np.nan"
   ]
  },
  {
   "cell_type": "code",
   "execution_count": 111,
   "id": "3614ca5a-88cb-40c8-a8a9-df6919f97721",
   "metadata": {},
   "outputs": [
    {
     "data": {
      "text/plain": [
       "nan"
      ]
     },
     "execution_count": 111,
     "metadata": {},
     "output_type": "execute_result"
    }
   ],
   "source": [
    "0*np.nan"
   ]
  },
  {
   "cell_type": "code",
   "execution_count": 139,
   "id": "0874c7c8-eb81-4317-9bb8-93d9372be317",
   "metadata": {},
   "outputs": [],
   "source": [
    "a=np.arange(10,dtype=np.int64)**3"
   ]
  },
  {
   "cell_type": "code",
   "execution_count": 118,
   "id": "7625589f-c8bd-4cc4-b7ee-5966f2bebbd9",
   "metadata": {},
   "outputs": [
    {
     "data": {
      "text/plain": [
       "array([  0,   1,   8,  27,  64, 125, 216, 343, 512, 729], dtype=int64)"
      ]
     },
     "execution_count": 118,
     "metadata": {},
     "output_type": "execute_result"
    }
   ],
   "source": [
    "a"
   ]
  },
  {
   "cell_type": "code",
   "execution_count": 140,
   "id": "dc85d7e5-c3cc-47da-b999-dae328a44205",
   "metadata": {},
   "outputs": [
    {
     "data": {
      "text/plain": [
       "8"
      ]
     },
     "execution_count": 140,
     "metadata": {},
     "output_type": "execute_result"
    }
   ],
   "source": [
    "a[2]"
   ]
  },
  {
   "cell_type": "code",
   "execution_count": 120,
   "id": "343bc3a0-94f7-45e8-b326-765e81a8efb8",
   "metadata": {},
   "outputs": [
    {
     "data": {
      "text/plain": [
       "array([ 8, 27, 64], dtype=int64)"
      ]
     },
     "execution_count": 120,
     "metadata": {},
     "output_type": "execute_result"
    }
   ],
   "source": [
    "a[2:5]"
   ]
  },
  {
   "cell_type": "code",
   "execution_count": 141,
   "id": "5e8c2ceb-18c7-4421-877d-08ec67775b01",
   "metadata": {},
   "outputs": [
    {
     "data": {
      "text/plain": [
       "array([0, 1], dtype=int64)"
      ]
     },
     "execution_count": 141,
     "metadata": {},
     "output_type": "execute_result"
    }
   ],
   "source": [
    "a[:2]"
   ]
  },
  {
   "cell_type": "code",
   "execution_count": 142,
   "id": "e09935f4-5175-42bf-904a-c7fd5576faf7",
   "metadata": {},
   "outputs": [
    {
     "data": {
      "text/plain": [
       "array([  0.,   1.,   8.,  27.,  64., 125., 216., 343., 512., 729.])"
      ]
     },
     "execution_count": 142,
     "metadata": {},
     "output_type": "execute_result"
    }
   ],
   "source": [
    "np.floor(a)"
   ]
  },
  {
   "cell_type": "code",
   "execution_count": 143,
   "id": "d129f2f8-a255-401c-a46c-636d40f1aac2",
   "metadata": {},
   "outputs": [],
   "source": [
    "b=list()\n",
    "for i in range(10):\n",
    "    b+=[np.random.normal()]"
   ]
  },
  {
   "cell_type": "code",
   "execution_count": 144,
   "id": "47299f45-d7b8-4536-8cea-38dc50dd805f",
   "metadata": {},
   "outputs": [
    {
     "data": {
      "text/plain": [
       "[-0.5880887566851704,\n",
       " 0.6955824136520657,\n",
       " -2.2596312495079633,\n",
       " 1.460160633612059,\n",
       " 0.1119867777841333,\n",
       " -0.09129315575705632,\n",
       " 0.18032263093115075,\n",
       " 0.09997071907433226,\n",
       " 1.9830257205116466,\n",
       " 0.17100135667840966]"
      ]
     },
     "execution_count": 144,
     "metadata": {},
     "output_type": "execute_result"
    }
   ],
   "source": [
    "b"
   ]
  },
  {
   "cell_type": "code",
   "execution_count": 145,
   "id": "3fb6d54c-6ab8-4d97-8d83-d15f1f2bca9e",
   "metadata": {},
   "outputs": [],
   "source": [
    "b_new=np.array(b)"
   ]
  },
  {
   "cell_type": "code",
   "execution_count": 146,
   "id": "b65277fa-ffc8-4ab7-8c08-575c4f2a5088",
   "metadata": {},
   "outputs": [
    {
     "data": {
      "text/plain": [
       "dtype('float64')"
      ]
     },
     "execution_count": 146,
     "metadata": {},
     "output_type": "execute_result"
    }
   ],
   "source": [
    "b_new.dtype"
   ]
  },
  {
   "cell_type": "markdown",
   "id": "03b60a5e-5647-47d7-a54d-78c4a2c53d00",
   "metadata": {},
   "source": [
    "Pour combiner 2 liste de même structure on utilise hstack (en colone) et vstack (en ligne)"
   ]
  },
  {
   "cell_type": "code",
   "execution_count": 152,
   "id": "e8392f5a-4599-4815-b7ab-e43dedd175cd",
   "metadata": {},
   "outputs": [
    {
     "data": {
      "text/plain": [
       "(20,)"
      ]
     },
     "execution_count": 152,
     "metadata": {},
     "output_type": "execute_result"
    }
   ],
   "source": [
    "np.hstack((a,b_new)).shape"
   ]
  },
  {
   "cell_type": "code",
   "execution_count": 155,
   "id": "80bda293-5ad7-4b97-af4f-67b908fb9247",
   "metadata": {},
   "outputs": [
    {
     "data": {
      "text/plain": [
       "array([ 0.00000000e+00,  1.00000000e+00,  8.00000000e+00,  2.70000000e+01,\n",
       "        6.40000000e+01,  1.25000000e+02,  2.16000000e+02,  3.43000000e+02,\n",
       "        5.12000000e+02,  7.29000000e+02, -5.88088757e-01,  6.95582414e-01,\n",
       "       -2.25963125e+00,  1.46016063e+00,  1.11986778e-01, -9.12931558e-02,\n",
       "        1.80322631e-01,  9.99707191e-02,  1.98302572e+00,  1.71001357e-01])"
      ]
     },
     "execution_count": 155,
     "metadata": {},
     "output_type": "execute_result"
    }
   ],
   "source": [
    "np.hstack((a,b_new))"
   ]
  },
  {
   "cell_type": "code",
   "execution_count": 154,
   "id": "680300a6-1d75-4b2b-bdbd-ed40ff343495",
   "metadata": {},
   "outputs": [
    {
     "data": {
      "text/plain": [
       "(2, 10)"
      ]
     },
     "execution_count": 154,
     "metadata": {},
     "output_type": "execute_result"
    }
   ],
   "source": [
    "np.vstack((a,b_new)).shape"
   ]
  },
  {
   "cell_type": "code",
   "execution_count": 156,
   "id": "5faf5646-4bc6-468b-914d-12234cc8e663",
   "metadata": {},
   "outputs": [
    {
     "data": {
      "text/plain": [
       "array([[ 0.00000000e+00,  1.00000000e+00,  8.00000000e+00,\n",
       "         2.70000000e+01,  6.40000000e+01,  1.25000000e+02,\n",
       "         2.16000000e+02,  3.43000000e+02,  5.12000000e+02,\n",
       "         7.29000000e+02],\n",
       "       [-5.88088757e-01,  6.95582414e-01, -2.25963125e+00,\n",
       "         1.46016063e+00,  1.11986778e-01, -9.12931558e-02,\n",
       "         1.80322631e-01,  9.99707191e-02,  1.98302572e+00,\n",
       "         1.71001357e-01]])"
      ]
     },
     "execution_count": 156,
     "metadata": {},
     "output_type": "execute_result"
    }
   ],
   "source": [
    "np.vstack((a,b_new))"
   ]
  },
  {
   "cell_type": "code",
   "execution_count": 164,
   "id": "80dd59d9-0a0c-4ef7-aafd-97553886aff1",
   "metadata": {},
   "outputs": [
    {
     "data": {
      "text/plain": [
       "array([ 0,  1,  2,  3,  4,  5,  6,  7,  8,  9, 10, 11, 12, 13, 14, 15, 16,\n",
       "       17, 18, 19, 20, 21, 22, 23, 24])"
      ]
     },
     "execution_count": 164,
     "metadata": {},
     "output_type": "execute_result"
    }
   ],
   "source": [
    "arr"
   ]
  },
  {
   "cell_type": "code",
   "execution_count": 166,
   "id": "1783bd06-49e0-4b02-92cc-a2a2759e9e50",
   "metadata": {},
   "outputs": [],
   "source": [
    "arr=arr.reshape((5,5))"
   ]
  },
  {
   "cell_type": "code",
   "execution_count": 167,
   "id": "0e85e6f5-252f-4ae2-ad7a-c473a2847169",
   "metadata": {},
   "outputs": [
    {
     "name": "stdout",
     "output_type": "stream",
     "text": [
      "[0 1 2 3 4]\n",
      "[5 6 7 8 9]\n",
      "[10 11 12 13 14]\n",
      "[15 16 17 18 19]\n",
      "[20 21 22 23 24]\n"
     ]
    }
   ],
   "source": [
    "for row in arr:\n",
    "    print(row)"
   ]
  },
  {
   "cell_type": "markdown",
   "id": "e15ec1e5-2427-422b-9d11-293e1f3a8c2b",
   "metadata": {},
   "source": [
    "flat est pour pouvoir utiliser les valeur d'un tableau séparement"
   ]
  },
  {
   "cell_type": "code",
   "execution_count": 169,
   "id": "10dc2c82-4c39-4bdd-905d-15eb654d26b4",
   "metadata": {},
   "outputs": [
    {
     "name": "stdout",
     "output_type": "stream",
     "text": [
      "0\n",
      "1\n",
      "2\n",
      "3\n",
      "4\n",
      "5\n",
      "6\n",
      "7\n",
      "8\n",
      "9\n",
      "10\n",
      "11\n",
      "12\n",
      "13\n",
      "14\n",
      "15\n",
      "16\n",
      "17\n",
      "18\n",
      "19\n",
      "20\n",
      "21\n",
      "22\n",
      "23\n",
      "24\n"
     ]
    }
   ],
   "source": [
    "for row in arr.flat:\n",
    "    print(row)"
   ]
  },
  {
   "cell_type": "code",
   "execution_count": 170,
   "id": "f0538264-48d3-43f7-816b-0baff70a49a1",
   "metadata": {},
   "outputs": [
    {
     "data": {
      "text/plain": [
       "False"
      ]
     },
     "execution_count": 170,
     "metadata": {},
     "output_type": "execute_result"
    }
   ],
   "source": [
    "a is b"
   ]
  },
  {
   "cell_type": "code",
   "execution_count": 171,
   "id": "8714ba36-f9ee-4806-899a-7f76016796f7",
   "metadata": {},
   "outputs": [
    {
     "data": {
      "text/plain": [
       "array([  0,   1,   8,  27,  64, 125, 216, 343, 512, 729], dtype=int64)"
      ]
     },
     "execution_count": 171,
     "metadata": {},
     "output_type": "execute_result"
    }
   ],
   "source": [
    "a"
   ]
  },
  {
   "cell_type": "code",
   "execution_count": 172,
   "id": "83465f64-5ddb-4b10-89a2-ff9cdc24a04c",
   "metadata": {},
   "outputs": [
    {
     "data": {
      "text/plain": [
       "[-0.5880887566851704,\n",
       " 0.6955824136520657,\n",
       " -2.2596312495079633,\n",
       " 1.460160633612059,\n",
       " 0.1119867777841333,\n",
       " -0.09129315575705632,\n",
       " 0.18032263093115075,\n",
       " 0.09997071907433226,\n",
       " 1.9830257205116466,\n",
       " 0.17100135667840966]"
      ]
     },
     "execution_count": 172,
     "metadata": {},
     "output_type": "execute_result"
    }
   ],
   "source": [
    "b"
   ]
  },
  {
   "cell_type": "code",
   "execution_count": 173,
   "id": "90c1dc85-c3f5-458d-ab52-3f5c57690cc9",
   "metadata": {},
   "outputs": [],
   "source": [
    "b=a"
   ]
  },
  {
   "cell_type": "code",
   "execution_count": 174,
   "id": "7a6e738f-5da9-4c2a-8353-4f98a9298098",
   "metadata": {},
   "outputs": [
    {
     "data": {
      "text/plain": [
       "True"
      ]
     },
     "execution_count": 174,
     "metadata": {},
     "output_type": "execute_result"
    }
   ],
   "source": [
    "a is b"
   ]
  },
  {
   "cell_type": "code",
   "execution_count": null,
   "id": "b84a879d-d761-495e-9734-992cbf3009e8",
   "metadata": {},
   "outputs": [],
   "source": []
  }
 ],
 "metadata": {
  "kernelspec": {
   "display_name": "Python 3 (ipykernel)",
   "language": "python",
   "name": "python3"
  },
  "language_info": {
   "codemirror_mode": {
    "name": "ipython",
    "version": 3
   },
   "file_extension": ".py",
   "mimetype": "text/x-python",
   "name": "python",
   "nbconvert_exporter": "python",
   "pygments_lexer": "ipython3",
   "version": "3.7.1"
  }
 },
 "nbformat": 4,
 "nbformat_minor": 5
}
