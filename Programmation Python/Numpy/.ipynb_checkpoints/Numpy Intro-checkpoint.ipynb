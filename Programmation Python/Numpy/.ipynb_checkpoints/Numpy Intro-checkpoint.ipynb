{
 "cells": [
  {
   "cell_type": "markdown",
   "id": "e364aade-2db6-4c67-b100-93bfc2b62c1b",
   "metadata": {},
   "source": [
    "Importation de la bibliotheque"
   ]
  },
  {
   "cell_type": "code",
   "execution_count": 1,
   "id": "5d786c6d-ed43-401b-bbc8-a310065ded09",
   "metadata": {},
   "outputs": [],
   "source": [
    "import numpy as np"
   ]
  },
  {
   "cell_type": "markdown",
   "id": "29fb938d-9d00-474c-94b8-77d30cd38257",
   "metadata": {},
   "source": [
    "Creation de tableau a partir de listes standards python"
   ]
  },
  {
   "cell_type": "code",
   "execution_count": 3,
   "id": "f9dfe5a7-e7d5-4c0a-b02d-269b576c02cc",
   "metadata": {},
   "outputs": [],
   "source": [
    "tab=[1,2,3,4,5,6,7,8,9]"
   ]
  },
  {
   "cell_type": "code",
   "execution_count": 4,
   "id": "a0fe1427-bebd-43cf-9c7e-c6ba5b0866e8",
   "metadata": {},
   "outputs": [
    {
     "data": {
      "text/plain": [
       "list"
      ]
     },
     "execution_count": 4,
     "metadata": {},
     "output_type": "execute_result"
    }
   ],
   "source": [
    "type(tab)"
   ]
  },
  {
   "cell_type": "code",
   "execution_count": 5,
   "id": "c02211af-352c-46d7-b190-1a86dd43745c",
   "metadata": {},
   "outputs": [],
   "source": [
    "tab_np=np.array(tab)"
   ]
  },
  {
   "cell_type": "code",
   "execution_count": 6,
   "id": "e8045a44-b2ad-419f-a393-3b0422d59956",
   "metadata": {},
   "outputs": [
    {
     "data": {
      "text/plain": [
       "numpy.ndarray"
      ]
     },
     "execution_count": 6,
     "metadata": {},
     "output_type": "execute_result"
    }
   ],
   "source": [
    "type(tab_np)"
   ]
  },
  {
   "cell_type": "code",
   "execution_count": 9,
   "id": "f4c22618-09f3-4a4a-b8be-f1a1a4646001",
   "metadata": {},
   "outputs": [
    {
     "data": {
      "text/plain": [
       "[1, 2, 3, 4, 5, 6, 7, 8, 9]"
      ]
     },
     "execution_count": 9,
     "metadata": {},
     "output_type": "execute_result"
    }
   ],
   "source": [
    "tab"
   ]
  },
  {
   "cell_type": "code",
   "execution_count": 8,
   "id": "89bf2b5c-488f-423d-909e-ca4134114ba1",
   "metadata": {},
   "outputs": [
    {
     "data": {
      "text/plain": [
       "array([1, 2, 3, 4, 5, 6, 7, 8, 9])"
      ]
     },
     "execution_count": 8,
     "metadata": {},
     "output_type": "execute_result"
    }
   ],
   "source": [
    "tab_np"
   ]
  },
  {
   "cell_type": "code",
   "execution_count": 10,
   "id": "df7f4fb0-bf10-440a-bd76-2ab26dfe6fdf",
   "metadata": {},
   "outputs": [],
   "source": [
    "tab_2d=[[1,2,3],[4,5,6],[7,8,9]]"
   ]
  },
  {
   "cell_type": "code",
   "execution_count": 11,
   "id": "d8122780-9806-40b3-8001-3487f349977f",
   "metadata": {},
   "outputs": [],
   "source": [
    "tab_np_2d=np.array(tab_2d)"
   ]
  },
  {
   "cell_type": "code",
   "execution_count": 12,
   "id": "e4c2cd85-05fa-4b5c-ab35-4c69cee2011f",
   "metadata": {},
   "outputs": [
    {
     "data": {
      "text/plain": [
       "array([[1, 2, 3],\n",
       "       [4, 5, 6],\n",
       "       [7, 8, 9]])"
      ]
     },
     "execution_count": 12,
     "metadata": {},
     "output_type": "execute_result"
    }
   ],
   "source": [
    "tab_np_2d"
   ]
  },
  {
   "cell_type": "code",
   "execution_count": 13,
   "id": "264ea6de-b3b3-4ce9-b061-496d146c8e23",
   "metadata": {},
   "outputs": [
    {
     "data": {
      "text/plain": [
       "[[1, 2, 3], [4, 5, 6], [7, 8, 9]]"
      ]
     },
     "execution_count": 13,
     "metadata": {},
     "output_type": "execute_result"
    }
   ],
   "source": [
    "tab_2d"
   ]
  },
  {
   "cell_type": "code",
   "execution_count": 14,
   "id": "1b2e9821-89ba-47e5-b7b0-d0e36befb55f",
   "metadata": {},
   "outputs": [
    {
     "data": {
      "text/plain": [
       "2"
      ]
     },
     "execution_count": 14,
     "metadata": {},
     "output_type": "execute_result"
    }
   ],
   "source": [
    "tab_np_2d.ndim"
   ]
  },
  {
   "cell_type": "code",
   "execution_count": 15,
   "id": "06bf832e-8d92-4b60-8f6d-d87a7ff5cba4",
   "metadata": {},
   "outputs": [
    {
     "data": {
      "text/plain": [
       "(3, 3)"
      ]
     },
     "execution_count": 15,
     "metadata": {},
     "output_type": "execute_result"
    }
   ],
   "source": [
    "tab_np_2d.shape"
   ]
  },
  {
   "cell_type": "code",
   "execution_count": 16,
   "id": "ebc1399d-d6a1-4d69-960d-595b577fcc28",
   "metadata": {},
   "outputs": [],
   "source": [
    "new_tab_np_2d=np.array(tab).reshape(3,3)"
   ]
  },
  {
   "cell_type": "code",
   "execution_count": 17,
   "id": "083d2ecb-7742-481a-9996-2b9475cd9e80",
   "metadata": {},
   "outputs": [
    {
     "data": {
      "text/plain": [
       "array([[1, 2, 3],\n",
       "       [4, 5, 6],\n",
       "       [7, 8, 9]])"
      ]
     },
     "execution_count": 17,
     "metadata": {},
     "output_type": "execute_result"
    }
   ],
   "source": [
    "new_tab_np_2d"
   ]
  },
  {
   "cell_type": "code",
   "execution_count": 18,
   "id": "229f4cd8-2c1f-4cbf-ad3a-461912f0ea05",
   "metadata": {},
   "outputs": [
    {
     "data": {
      "text/plain": [
       "array([[1, 2, 3],\n",
       "       [4, 5, 6],\n",
       "       [7, 8, 9]])"
      ]
     },
     "execution_count": 18,
     "metadata": {},
     "output_type": "execute_result"
    }
   ],
   "source": [
    "tab_np.reshape(3,3)"
   ]
  },
  {
   "cell_type": "code",
   "execution_count": 19,
   "id": "138052a8-4ea6-4e4f-9b4a-9d5cfdc31905",
   "metadata": {},
   "outputs": [
    {
     "data": {
      "text/plain": [
       "array([1, 2, 3, 4, 5, 6, 7, 8, 9])"
      ]
     },
     "execution_count": 19,
     "metadata": {},
     "output_type": "execute_result"
    }
   ],
   "source": [
    "tab_np"
   ]
  },
  {
   "cell_type": "code",
   "execution_count": 20,
   "id": "6678a0cb-f8d7-4db1-a357-0adb5554fd32",
   "metadata": {},
   "outputs": [],
   "source": [
    "tab_np.resize(3,3)"
   ]
  },
  {
   "cell_type": "code",
   "execution_count": 21,
   "id": "16e5d8ea-b06e-43ea-af3b-14b431c37bc4",
   "metadata": {},
   "outputs": [
    {
     "data": {
      "text/plain": [
       "array([[1, 2, 3],\n",
       "       [4, 5, 6],\n",
       "       [7, 8, 9]])"
      ]
     },
     "execution_count": 21,
     "metadata": {},
     "output_type": "execute_result"
    }
   ],
   "source": [
    "tab_np"
   ]
  },
  {
   "cell_type": "code",
   "execution_count": 22,
   "id": "fabc9b60-8c78-4a8b-ab31-0850c37f2155",
   "metadata": {},
   "outputs": [
    {
     "data": {
      "text/plain": [
       "(3, 3)"
      ]
     },
     "execution_count": 22,
     "metadata": {},
     "output_type": "execute_result"
    }
   ],
   "source": [
    "tab_np.shape"
   ]
  },
  {
   "cell_type": "code",
   "execution_count": 23,
   "id": "62f62f83-93c0-41b5-a6ec-fd640bd4a220",
   "metadata": {},
   "outputs": [
    {
     "data": {
      "text/plain": [
       "9"
      ]
     },
     "execution_count": 23,
     "metadata": {},
     "output_type": "execute_result"
    }
   ],
   "source": [
    "tab_np.size"
   ]
  },
  {
   "cell_type": "code",
   "execution_count": 24,
   "id": "ca66c296-3aad-43b3-8115-99cc4c0abf95",
   "metadata": {},
   "outputs": [],
   "source": [
    "tuple_py=(1,2,3,4,5,6,7,8,9,10,11,12)"
   ]
  },
  {
   "cell_type": "code",
   "execution_count": 25,
   "id": "4ffc55e5-ba58-4c8d-9df6-94b4a4bb3914",
   "metadata": {},
   "outputs": [],
   "source": [
    "tuple_np=np.array(tuple_py)"
   ]
  },
  {
   "cell_type": "code",
   "execution_count": 26,
   "id": "b3db4ba8-ab06-4e9b-aeef-265c224924ad",
   "metadata": {},
   "outputs": [
    {
     "data": {
      "text/plain": [
       "array([ 1,  2,  3,  4,  5,  6,  7,  8,  9, 10, 11, 12])"
      ]
     },
     "execution_count": 26,
     "metadata": {},
     "output_type": "execute_result"
    }
   ],
   "source": [
    "tuple_np"
   ]
  },
  {
   "cell_type": "code",
   "execution_count": 27,
   "id": "d559a12e-941d-4a5d-b45e-af24475fcf31",
   "metadata": {},
   "outputs": [
    {
     "data": {
      "text/plain": [
       "12"
      ]
     },
     "execution_count": 27,
     "metadata": {},
     "output_type": "execute_result"
    }
   ],
   "source": [
    "tuple_np.size"
   ]
  },
  {
   "cell_type": "code",
   "execution_count": 28,
   "id": "cb2d4c67-0d68-4a75-b68d-e85da0d7be8e",
   "metadata": {},
   "outputs": [],
   "source": [
    "tuple_np.resize(3,4)"
   ]
  },
  {
   "cell_type": "code",
   "execution_count": 29,
   "id": "2cb40815-4b6b-4fef-bb90-a2c3197c0186",
   "metadata": {},
   "outputs": [
    {
     "data": {
      "text/plain": [
       "array([[ 1,  2,  3,  4],\n",
       "       [ 5,  6,  7,  8],\n",
       "       [ 9, 10, 11, 12]])"
      ]
     },
     "execution_count": 29,
     "metadata": {},
     "output_type": "execute_result"
    }
   ],
   "source": [
    "tuple_np"
   ]
  },
  {
   "cell_type": "markdown",
   "id": "8b6c24cc-7978-488f-a94b-c09068c4aac5",
   "metadata": {},
   "source": [
    "Creation des tableaux a partir des fonctions standards de numpy"
   ]
  },
  {
   "cell_type": "code",
   "execution_count": 30,
   "id": "76ba4575-243f-4f67-a0cb-e610d8cb2a19",
   "metadata": {},
   "outputs": [],
   "source": [
    "arr=np.arange(1,13)"
   ]
  },
  {
   "cell_type": "code",
   "execution_count": 31,
   "id": "6d61a1b6-4ed0-4f65-9cf6-0f8026ecba22",
   "metadata": {},
   "outputs": [
    {
     "data": {
      "text/plain": [
       "array([ 1,  2,  3,  4,  5,  6,  7,  8,  9, 10, 11, 12])"
      ]
     },
     "execution_count": 31,
     "metadata": {},
     "output_type": "execute_result"
    }
   ],
   "source": [
    "arr"
   ]
  },
  {
   "cell_type": "code",
   "execution_count": 32,
   "id": "53f71916-8afe-4ae1-9293-7fcfe5c19999",
   "metadata": {},
   "outputs": [],
   "source": [
    "arr_2d=arr.reshape(4,3)"
   ]
  },
  {
   "cell_type": "code",
   "execution_count": 34,
   "id": "53fca7c0-0c71-4c1c-bf6f-b85f670b5696",
   "metadata": {},
   "outputs": [
    {
     "data": {
      "text/plain": [
       "dtype('int32')"
      ]
     },
     "execution_count": 34,
     "metadata": {},
     "output_type": "execute_result"
    }
   ],
   "source": [
    "arr_2d.dtype"
   ]
  },
  {
   "cell_type": "code",
   "execution_count": 39,
   "id": "99a45d23-ce90-4724-9e51-057086af9705",
   "metadata": {},
   "outputs": [],
   "source": [
    "arr2=np.arange(1,13,2,dtype=np.float)"
   ]
  },
  {
   "cell_type": "code",
   "execution_count": 41,
   "id": "87f83f11-d066-4684-8a6d-d555a738e900",
   "metadata": {},
   "outputs": [
    {
     "data": {
      "text/plain": [
       "dtype('float64')"
      ]
     },
     "execution_count": 41,
     "metadata": {},
     "output_type": "execute_result"
    }
   ],
   "source": [
    "arr2.dtype"
   ]
  },
  {
   "cell_type": "code",
   "execution_count": 42,
   "id": "6e1833a2-d1b1-472d-a8c0-c6386b0c9e01",
   "metadata": {},
   "outputs": [
    {
     "data": {
      "text/plain": [
       "array([ 1,  2,  3,  4,  5,  6,  7,  8,  9, 10, 11, 12])"
      ]
     },
     "execution_count": 42,
     "metadata": {},
     "output_type": "execute_result"
    }
   ],
   "source": [
    "arr"
   ]
  },
  {
   "cell_type": "code",
   "execution_count": 48,
   "id": "8c7653e3-5df0-47b1-ae46-673290acf480",
   "metadata": {},
   "outputs": [],
   "source": [
    "arr3=np.floor(arr)"
   ]
  },
  {
   "cell_type": "code",
   "execution_count": 49,
   "id": "a178ca0d-106c-45f3-ad67-ac4d6f5ca85c",
   "metadata": {},
   "outputs": [
    {
     "data": {
      "text/plain": [
       "array([ 1.,  2.,  3.,  4.,  5.,  6.,  7.,  8.,  9., 10., 11., 12.])"
      ]
     },
     "execution_count": 49,
     "metadata": {},
     "output_type": "execute_result"
    }
   ],
   "source": [
    "arr3"
   ]
  },
  {
   "cell_type": "code",
   "execution_count": 54,
   "id": "5a8c113f-51dc-478f-9acc-76a28c7344e2",
   "metadata": {},
   "outputs": [
    {
     "data": {
      "text/plain": [
       "dtype('float64')"
      ]
     },
     "execution_count": 54,
     "metadata": {},
     "output_type": "execute_result"
    }
   ],
   "source": [
    "np.linspace(1,100,10).dtype"
   ]
  },
  {
   "cell_type": "code",
   "execution_count": 61,
   "id": "66935154-f561-48b4-acb2-ba735b3c96fe",
   "metadata": {},
   "outputs": [
    {
     "data": {
      "text/plain": [
       "array([0., 0., 0., 0., 0., 0., 0., 0., 0., 0.])"
      ]
     },
     "execution_count": 61,
     "metadata": {},
     "output_type": "execute_result"
    }
   ],
   "source": [
    "np.linspace(0,0,10)"
   ]
  },
  {
   "cell_type": "code",
   "execution_count": 63,
   "id": "e1f3953b-e9e4-4be9-b946-ff5d260f60b9",
   "metadata": {},
   "outputs": [
    {
     "data": {
      "text/plain": [
       "array([[0., 0., 0.],\n",
       "       [0., 0., 0.],\n",
       "       [0., 0., 0.]])"
      ]
     },
     "execution_count": 63,
     "metadata": {},
     "output_type": "execute_result"
    }
   ],
   "source": [
    "np.zeros((3,3))"
   ]
  },
  {
   "cell_type": "code",
   "execution_count": 64,
   "id": "c6855b22-ea1f-414d-a79b-a11ddc24d204",
   "metadata": {},
   "outputs": [
    {
     "data": {
      "text/plain": [
       "array([[1., 1., 1.],\n",
       "       [1., 1., 1.],\n",
       "       [1., 1., 1.]])"
      ]
     },
     "execution_count": 64,
     "metadata": {},
     "output_type": "execute_result"
    }
   ],
   "source": [
    "np.zeros((3,3))+1"
   ]
  },
  {
   "cell_type": "code",
   "execution_count": 65,
   "id": "aa5b4f98-2272-4bf9-8688-9a32e881ee6e",
   "metadata": {},
   "outputs": [
    {
     "data": {
      "text/plain": [
       "array([[1., 1., 1.],\n",
       "       [1., 1., 1.],\n",
       "       [1., 1., 1.]])"
      ]
     },
     "execution_count": 65,
     "metadata": {},
     "output_type": "execute_result"
    }
   ],
   "source": [
    "np.ones((3,3))"
   ]
  },
  {
   "cell_type": "code",
   "execution_count": 68,
   "id": "9c39b0bd-6824-4c8b-8da0-f031b84cb28f",
   "metadata": {},
   "outputs": [
    {
     "data": {
      "text/plain": [
       "array([[1., 0., 0., 0., 0., 0., 0., 0., 0., 0.],\n",
       "       [0., 1., 0., 0., 0., 0., 0., 0., 0., 0.],\n",
       "       [0., 0., 1., 0., 0., 0., 0., 0., 0., 0.],\n",
       "       [0., 0., 0., 1., 0., 0., 0., 0., 0., 0.],\n",
       "       [0., 0., 0., 0., 1., 0., 0., 0., 0., 0.],\n",
       "       [0., 0., 0., 0., 0., 1., 0., 0., 0., 0.],\n",
       "       [0., 0., 0., 0., 0., 0., 1., 0., 0., 0.],\n",
       "       [0., 0., 0., 0., 0., 0., 0., 1., 0., 0.],\n",
       "       [0., 0., 0., 0., 0., 0., 0., 0., 1., 0.],\n",
       "       [0., 0., 0., 0., 0., 0., 0., 0., 0., 1.]])"
      ]
     },
     "execution_count": 68,
     "metadata": {},
     "output_type": "execute_result"
    }
   ],
   "source": [
    "np.eye(10)"
   ]
  },
  {
   "cell_type": "code",
   "execution_count": 69,
   "id": "69181d1a-0914-4a07-bc2b-5be194040301",
   "metadata": {},
   "outputs": [
    {
     "data": {
      "text/plain": [
       "array([[2, 0, 0],\n",
       "       [0, 5, 0],\n",
       "       [0, 0, 6]])"
      ]
     },
     "execution_count": 69,
     "metadata": {},
     "output_type": "execute_result"
    }
   ],
   "source": [
    "np.diag([2,5,6])"
   ]
  },
  {
   "cell_type": "markdown",
   "id": "5194d55b-e39f-41f5-a3b9-bdb753168433",
   "metadata": {},
   "source": [
    "Creation des tableaux à partir de valeurs aléatoires"
   ]
  },
  {
   "cell_type": "code",
   "execution_count": 74,
   "id": "a8a35e2a-4ed7-4b5a-aac2-07b2e4745474",
   "metadata": {},
   "outputs": [
    {
     "data": {
      "text/plain": [
       "array([[0.60305511, 0.82132264, 0.87754406],\n",
       "       [0.1417535 , 0.90558571, 0.90826105],\n",
       "       [0.32314375, 0.09562545, 0.9502634 ]])"
      ]
     },
     "execution_count": 74,
     "metadata": {},
     "output_type": "execute_result"
    }
   ],
   "source": [
    "np.random.rand(3,3)"
   ]
  },
  {
   "cell_type": "code",
   "execution_count": 81,
   "id": "0720c4cd-2da0-4eb8-a5a3-dd5d558ddb9d",
   "metadata": {},
   "outputs": [
    {
     "data": {
      "text/plain": [
       "array([1.43561509, 1.26945838, 0.18600218])"
      ]
     },
     "execution_count": 81,
     "metadata": {},
     "output_type": "execute_result"
    }
   ],
   "source": [
    "np.random.randn(3)"
   ]
  },
  {
   "cell_type": "code",
   "execution_count": 87,
   "id": "f806f9b2-dd06-4024-8174-4d28e72f2858",
   "metadata": {},
   "outputs": [
    {
     "data": {
      "text/plain": [
       "array([[ 9,  4, 11],\n",
       "       [11, 15,  8],\n",
       "       [19,  7,  1]])"
      ]
     },
     "execution_count": 87,
     "metadata": {},
     "output_type": "execute_result"
    }
   ],
   "source": [
    "np.random.randint(1,20,(3,3))"
   ]
  },
  {
   "cell_type": "code",
   "execution_count": 93,
   "id": "4b3ed1a9-bc00-4831-a387-34b56e36a952",
   "metadata": {},
   "outputs": [
    {
     "data": {
      "text/plain": [
       "array([[-1.12865395,  0.48703318],\n",
       "       [ 1.18203209, -0.33537483]])"
      ]
     },
     "execution_count": 93,
     "metadata": {},
     "output_type": "execute_result"
    }
   ],
   "source": [
    "rng=np.random.default_rng(237)\n",
    "rng.normal(0,1,(2,2))"
   ]
  },
  {
   "cell_type": "code",
   "execution_count": 96,
   "id": "bac37737-637d-4142-9fe9-319d7a53baa4",
   "metadata": {},
   "outputs": [
    {
     "data": {
      "text/plain": [
       "array([[ 7, 15, 11],\n",
       "       [ 8,  7, 19],\n",
       "       [11, 11,  4]])"
      ]
     },
     "execution_count": 96,
     "metadata": {},
     "output_type": "execute_result"
    }
   ],
   "source": [
    "np.random.seed(42)\n",
    "np.random.randint(1,20,(3,3))"
   ]
  },
  {
   "cell_type": "code",
   "execution_count": 100,
   "id": "45ce24c3-c817-42d6-963b-ca76746b0531",
   "metadata": {},
   "outputs": [
    {
     "data": {
      "text/plain": [
       "array([[17, 10, 16],\n",
       "       [15, 15, 19],\n",
       "       [12,  3,  5]])"
      ]
     },
     "execution_count": 100,
     "metadata": {},
     "output_type": "execute_result"
    }
   ],
   "source": [
    "np.random.randint(1,20,(3,3))"
   ]
  },
  {
   "cell_type": "code",
   "execution_count": 99,
   "id": "3349a9fa-7c34-42f3-8f0a-66712fdc14a2",
   "metadata": {},
   "outputs": [
    {
     "data": {
      "text/plain": [
       "array([[0.53346004, 0.24471111],\n",
       "       [0.88772213, 0.25797175]])"
      ]
     },
     "execution_count": 99,
     "metadata": {},
     "output_type": "execute_result"
    }
   ],
   "source": [
    "rng.normal(0,1,(2,2))"
   ]
  },
  {
   "cell_type": "code",
   "execution_count": 101,
   "id": "3cb823f0-2314-48b5-a434-98e9fbd2256c",
   "metadata": {},
   "outputs": [
    {
     "data": {
      "text/plain": [
       "array([[-1.15099358,  0.37569802],\n",
       "       [-0.60063869, -0.29169375]])"
      ]
     },
     "execution_count": 101,
     "metadata": {},
     "output_type": "execute_result"
    }
   ],
   "source": [
    "np.random.normal(0,1,(2,2))"
   ]
  },
  {
   "cell_type": "code",
   "execution_count": 104,
   "id": "45718d3c-0818-4642-b8a0-96f2aff985fe",
   "metadata": {},
   "outputs": [
    {
     "data": {
      "text/plain": [
       "array([0.05961953, 0.29427512])"
      ]
     },
     "execution_count": 104,
     "metadata": {},
     "output_type": "execute_result"
    }
   ],
   "source": [
    "rng.random(2)"
   ]
  },
  {
   "cell_type": "code",
   "execution_count": null,
   "id": "671a8366-18c2-4da7-955c-feef126d59df",
   "metadata": {},
   "outputs": [],
   "source": []
  }
 ],
 "metadata": {
  "kernelspec": {
   "display_name": "Python 3 (ipykernel)",
   "language": "python",
   "name": "python3"
  },
  "language_info": {
   "codemirror_mode": {
    "name": "ipython",
    "version": 3
   },
   "file_extension": ".py",
   "mimetype": "text/x-python",
   "name": "python",
   "nbconvert_exporter": "python",
   "pygments_lexer": "ipython3",
   "version": "3.7.1"
  }
 },
 "nbformat": 4,
 "nbformat_minor": 5
}
