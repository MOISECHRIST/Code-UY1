{
 "cells": [
  {
   "cell_type": "markdown",
   "id": "72843e95-e297-4dee-96af-5f29071c41c1",
   "metadata": {},
   "source": [
    "1. Importer numpy"
   ]
  },
  {
   "cell_type": "code",
   "execution_count": 1,
   "id": "f6ca441d-7c7f-4871-9e72-8eb0afac0726",
   "metadata": {},
   "outputs": [],
   "source": [
    "import numpy as np"
   ]
  },
  {
   "cell_type": "markdown",
   "id": "4e67f62c-e3fe-4507-addb-152c29aff279",
   "metadata": {},
   "source": [
    "2. Creer un vecteur de 10 valeurs nulles "
   ]
  },
  {
   "cell_type": "code",
   "execution_count": 7,
   "id": "b7feb853-1fab-4bd0-8bbd-44b0375de2a9",
   "metadata": {},
   "outputs": [
    {
     "data": {
      "text/plain": [
       "array([0., 0., 0., 0., 0., 0., 0., 0., 0., 0.])"
      ]
     },
     "execution_count": 7,
     "metadata": {},
     "output_type": "execute_result"
    }
   ],
   "source": [
    "np.zeros(10)"
   ]
  },
  {
   "cell_type": "code",
   "execution_count": 9,
   "id": "ec5e5844-a5fc-4ae0-8d25-57ffd4a6b166",
   "metadata": {},
   "outputs": [
    {
     "data": {
      "text/plain": [
       "array([0., 0., 0., 0., 0., 1., 0., 0., 0., 0.])"
      ]
     },
     "execution_count": 9,
     "metadata": {},
     "output_type": "execute_result"
    }
   ],
   "source": [
    "a=np.zeros(10)\n",
    "a[5]=1\n",
    "a"
   ]
  },
  {
   "cell_type": "code",
   "execution_count": 33,
   "id": "5b19b4b8-713f-4b39-a98d-1b297955e796",
   "metadata": {},
   "outputs": [
    {
     "data": {
      "text/plain": [
       "array([21.03675258, 22.46485443, 20.99131123, 16.09052831, 22.7160676 ,\n",
       "       21.33912372, 18.38914029, 21.74335431, 21.09371719, 20.88239749])"
      ]
     },
     "execution_count": 33,
     "metadata": {},
     "output_type": "execute_result"
    }
   ],
   "source": [
    "rg=np.random.default_rng(1)\n",
    "rg.normal(20,3,10)"
   ]
  },
  {
   "cell_type": "code",
   "execution_count": 34,
   "id": "518b25e9-4548-4fbb-8028-42f4b133b6d8",
   "metadata": {},
   "outputs": [
    {
     "data": {
      "text/plain": [
       "array([20.56716015, 18.43175468, 18.76080937, 12.67559785, 25.39912215,\n",
       "       23.43249762, 19.02373149, 22.32141976, 20.84363201, 18.33853149])"
      ]
     },
     "execution_count": 34,
     "metadata": {},
     "output_type": "execute_result"
    }
   ],
   "source": [
    "rg2=np.random.default_rng(2)\n",
    "rg2.normal(20,3,10)"
   ]
  },
  {
   "cell_type": "code",
   "execution_count": null,
   "id": "9595c955-8472-4106-891b-37e099421f51",
   "metadata": {},
   "outputs": [],
   "source": []
  }
 ],
 "metadata": {
  "kernelspec": {
   "display_name": "Python 3 (ipykernel)",
   "language": "python",
   "name": "python3"
  },
  "language_info": {
   "codemirror_mode": {
    "name": "ipython",
    "version": 3
   },
   "file_extension": ".py",
   "mimetype": "text/x-python",
   "name": "python",
   "nbconvert_exporter": "python",
   "pygments_lexer": "ipython3",
   "version": "3.7.1"
  }
 },
 "nbformat": 4,
 "nbformat_minor": 5
}
