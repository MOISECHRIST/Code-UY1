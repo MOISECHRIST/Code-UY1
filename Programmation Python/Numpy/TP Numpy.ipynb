{
 "cells": [
  {
   "cell_type": "markdown",
   "id": "823b7c35-550f-49b4-be4d-186c1b12113b",
   "metadata": {},
   "source": [
    "Partie A"
   ]
  },
  {
   "cell_type": "code",
   "execution_count": 13,
   "id": "261ed73a-a9a7-4532-9de2-178f3e2ab135",
   "metadata": {},
   "outputs": [],
   "source": [
    "#1\n",
    "import numpy as np"
   ]
  },
  {
   "cell_type": "code",
   "execution_count": 14,
   "id": "dab96d75-65d1-4e48-962f-fc9b014735fc",
   "metadata": {},
   "outputs": [
    {
     "data": {
      "text/plain": [
       "array([0., 0., 0., 0., 0., 0., 0., 0., 0., 0.])"
      ]
     },
     "execution_count": 14,
     "metadata": {},
     "output_type": "execute_result"
    }
   ],
   "source": [
    "#2\n",
    "np.zeros(10)"
   ]
  },
  {
   "cell_type": "code",
   "execution_count": 15,
   "id": "d6d4324c-a90f-4611-b143-9ab556524c90",
   "metadata": {},
   "outputs": [
    {
     "data": {
      "text/plain": [
       "array([1., 1., 1., 1., 1., 1., 1., 1., 1., 1.])"
      ]
     },
     "execution_count": 15,
     "metadata": {},
     "output_type": "execute_result"
    }
   ],
   "source": [
    "#3\n",
    "np.ones(10)"
   ]
  },
  {
   "cell_type": "code",
   "execution_count": 51,
   "id": "97f35a56-a778-4846-84d4-0f27f9539c8a",
   "metadata": {},
   "outputs": [
    {
     "data": {
      "text/plain": [
       "array([5., 5., 5., 5., 5., 5., 5., 5., 5., 5.])"
      ]
     },
     "execution_count": 51,
     "metadata": {},
     "output_type": "execute_result"
    }
   ],
   "source": [
    "#4\n",
    "#np.ones(10)*5\n",
    "np.zeros(10)+5"
   ]
  },
  {
   "cell_type": "code",
   "execution_count": 17,
   "id": "60a4533b-8d52-4ee3-a746-73120b668011",
   "metadata": {},
   "outputs": [
    {
     "data": {
      "text/plain": [
       "array([10, 11, 12, 13, 14, 15, 16, 17, 18, 19, 20, 21, 22, 23, 24, 25, 26,\n",
       "       27, 28, 29, 30, 31, 32, 33, 34, 35, 36, 37, 38, 39, 40, 41, 42, 43,\n",
       "       44, 45, 46, 47, 48, 49, 50, 51, 52, 53, 54, 55, 56, 57, 58, 59, 60,\n",
       "       61, 62, 63, 64, 65, 66, 67, 68, 69, 70])"
      ]
     },
     "execution_count": 17,
     "metadata": {},
     "output_type": "execute_result"
    }
   ],
   "source": [
    "#5\n",
    "np.arange(10,71)"
   ]
  },
  {
   "cell_type": "code",
   "execution_count": 18,
   "id": "54ccdc7c-d9a8-4769-ae5d-3470d89e7c58",
   "metadata": {},
   "outputs": [
    {
     "data": {
      "text/plain": [
       "array([10, 12, 14, 16, 18, 20, 22, 24, 26, 28, 30, 32, 34, 36, 38, 40, 42,\n",
       "       44, 46, 48, 50, 52, 54, 56, 58, 60, 62, 64, 66, 68, 70])"
      ]
     },
     "execution_count": 18,
     "metadata": {},
     "output_type": "execute_result"
    }
   ],
   "source": [
    "#6\n",
    "np.arange(10,71,2)"
   ]
  },
  {
   "cell_type": "code",
   "execution_count": 19,
   "id": "1253ba44-753f-48d8-9b3b-b50aaff6c6e9",
   "metadata": {},
   "outputs": [
    {
     "data": {
      "text/plain": [
       "array([[0, 1, 2],\n",
       "       [3, 4, 5],\n",
       "       [6, 7, 8]])"
      ]
     },
     "execution_count": 19,
     "metadata": {},
     "output_type": "execute_result"
    }
   ],
   "source": [
    "#7\n",
    "np.arange(0,9).reshape(3,3)"
   ]
  },
  {
   "cell_type": "code",
   "execution_count": 20,
   "id": "3d757e4e-8d51-47bb-8c9d-8c49dbec517c",
   "metadata": {},
   "outputs": [
    {
     "data": {
      "text/plain": [
       "array([[1., 0., 0.],\n",
       "       [0., 1., 0.],\n",
       "       [0., 0., 1.]])"
      ]
     },
     "execution_count": 20,
     "metadata": {},
     "output_type": "execute_result"
    }
   ],
   "source": [
    "#8\n",
    "np.eye(3)"
   ]
  },
  {
   "cell_type": "code",
   "execution_count": 21,
   "id": "b8655dbe-91a0-4898-a1e7-26cb956c8709",
   "metadata": {},
   "outputs": [
    {
     "data": {
      "text/plain": [
       "0.618955820433825"
      ]
     },
     "execution_count": 21,
     "metadata": {},
     "output_type": "execute_result"
    }
   ],
   "source": [
    "#9\n",
    "np.random.rand()"
   ]
  },
  {
   "cell_type": "code",
   "execution_count": 22,
   "id": "c77c647a-f35d-49cd-9c7f-e9c4ed8b6951",
   "metadata": {},
   "outputs": [
    {
     "data": {
      "text/plain": [
       "array([-0.64454751, -0.32174637,  0.94131795,  0.02033997,  1.58692792,\n",
       "        1.32648755, -0.48173805, -1.29366592, -0.23142112,  0.2801508 ,\n",
       "       -0.81145847,  0.35877155, -0.3225394 ,  0.98879258, -2.08127592,\n",
       "        0.9751056 , -1.61478307,  0.65940072, -1.40976666, -1.87087998,\n",
       "       -0.43237183, -0.60014646, -0.46682847, -0.25085077, -0.37586885])"
      ]
     },
     "execution_count": 22,
     "metadata": {},
     "output_type": "execute_result"
    }
   ],
   "source": [
    "#10\n",
    "np.random.randn(25)"
   ]
  },
  {
   "cell_type": "code",
   "execution_count": 24,
   "id": "7e903cac-a561-4d7e-8cf5-45a72c1910bd",
   "metadata": {},
   "outputs": [
    {
     "data": {
      "text/plain": [
       "array([15.42102328, 27.88620064, 22.10644746, 18.5021852 , 26.6219799 ,\n",
       "       21.71664802, 20.99233782, 21.90869101, 13.86557095, 16.52764745,\n",
       "       17.30868586, 16.86947204, 25.37658744, 23.43792119, 23.5545212 ,\n",
       "       23.86479842, 20.22250254, 18.92079164, 19.66132254, 26.65849165,\n",
       "       30.43734645, 13.59268827, 15.84251306, 25.63149169, 22.67686176])"
      ]
     },
     "execution_count": 24,
     "metadata": {},
     "output_type": "execute_result"
    }
   ],
   "source": [
    "#11\n",
    "np.random.normal(20,5,25)"
   ]
  },
  {
   "cell_type": "code",
   "execution_count": 25,
   "id": "01f2fc93-8ad4-4bab-90f0-95a988c0c3b4",
   "metadata": {},
   "outputs": [
    {
     "data": {
      "text/plain": [
       "array([0.        , 0.26315789, 0.52631579, 0.78947368, 1.05263158,\n",
       "       1.31578947, 1.57894737, 1.84210526, 2.10526316, 2.36842105,\n",
       "       2.63157895, 2.89473684, 3.15789474, 3.42105263, 3.68421053,\n",
       "       3.94736842, 4.21052632, 4.47368421, 4.73684211, 5.        ])"
      ]
     },
     "execution_count": 25,
     "metadata": {},
     "output_type": "execute_result"
    }
   ],
   "source": [
    "#12\n",
    "np.linspace(0,5,20)"
   ]
  },
  {
   "cell_type": "markdown",
   "id": "5c4f0b50-3e78-4674-bca0-0f2aa2a42b6b",
   "metadata": {},
   "source": [
    "Partie B"
   ]
  },
  {
   "cell_type": "code",
   "execution_count": 27,
   "id": "225b756b-8ff4-4319-b4c1-7e1513873d58",
   "metadata": {},
   "outputs": [],
   "source": [
    "#1\n",
    "mat = np.arange(1,26).reshape(5,5)"
   ]
  },
  {
   "cell_type": "code",
   "execution_count": 28,
   "id": "59085f20-7415-4d42-b234-3950ae8e0f96",
   "metadata": {},
   "outputs": [
    {
     "data": {
      "text/plain": [
       "array([[ 1,  2,  3,  4,  5],\n",
       "       [ 6,  7,  8,  9, 10],\n",
       "       [11, 12, 13, 14, 15],\n",
       "       [16, 17, 18, 19, 20],\n",
       "       [21, 22, 23, 24, 25]])"
      ]
     },
     "execution_count": 28,
     "metadata": {},
     "output_type": "execute_result"
    }
   ],
   "source": [
    "mat"
   ]
  },
  {
   "cell_type": "code",
   "execution_count": 29,
   "id": "879adc1b-8d36-438d-b9f0-4cccd8d3e375",
   "metadata": {},
   "outputs": [
    {
     "data": {
      "text/plain": [
       "array([[12, 13, 14, 15],\n",
       "       [17, 18, 19, 20],\n",
       "       [22, 23, 24, 25]])"
      ]
     },
     "execution_count": 29,
     "metadata": {},
     "output_type": "execute_result"
    }
   ],
   "source": [
    "#2\n",
    "mat[2:,1:]"
   ]
  },
  {
   "cell_type": "code",
   "execution_count": 31,
   "id": "1d70b99b-96bc-4cda-9b8f-c58b892abf56",
   "metadata": {},
   "outputs": [
    {
     "data": {
      "text/plain": [
       "array([ 6, 14,  2])"
      ]
     },
     "execution_count": 31,
     "metadata": {},
     "output_type": "execute_result"
    }
   ],
   "source": [
    "#3\n",
    "mat[[1,2,0],[0,3,1]]"
   ]
  },
  {
   "cell_type": "code",
   "execution_count": 54,
   "id": "cde038d9-7039-4827-a840-c186152058cf",
   "metadata": {},
   "outputs": [
    {
     "data": {
      "text/plain": [
       "array([[ 2],\n",
       "       [ 7],\n",
       "       [12]])"
      ]
     },
     "execution_count": 54,
     "metadata": {},
     "output_type": "execute_result"
    }
   ],
   "source": [
    "#4\n",
    "mat[:3,1].reshape(3,1)"
   ]
  },
  {
   "cell_type": "code",
   "execution_count": 33,
   "id": "11cf5c01-a7ea-41dc-9786-13f11326e644",
   "metadata": {},
   "outputs": [
    {
     "data": {
      "text/plain": [
       "array([21, 22, 23, 24, 25])"
      ]
     },
     "execution_count": 33,
     "metadata": {},
     "output_type": "execute_result"
    }
   ],
   "source": [
    "#5\n",
    "mat[-1]"
   ]
  },
  {
   "cell_type": "code",
   "execution_count": 55,
   "id": "16073418-d894-497e-b895-ad7d8ee6bbec",
   "metadata": {},
   "outputs": [
    {
     "data": {
      "text/plain": [
       "array([21, 22, 23, 24, 25])"
      ]
     },
     "execution_count": 55,
     "metadata": {},
     "output_type": "execute_result"
    }
   ],
   "source": [
    "#5\n",
    "mat[4]"
   ]
  },
  {
   "cell_type": "code",
   "execution_count": 36,
   "id": "132da4ae-c711-4342-9beb-76cab68cbc85",
   "metadata": {},
   "outputs": [
    {
     "data": {
      "text/plain": [
       "array([14, 15, 16, 17, 18, 19, 20, 21, 22, 23, 24, 25])"
      ]
     },
     "execution_count": 36,
     "metadata": {},
     "output_type": "execute_result"
    }
   ],
   "source": [
    "#6\n",
    "mat[mat>mat.mean()]"
   ]
  },
  {
   "cell_type": "code",
   "execution_count": 38,
   "id": "73a75756-a1e9-4964-a162-ab3fcf41dbfb",
   "metadata": {},
   "outputs": [
    {
     "data": {
      "text/plain": [
       "array([[ 2,  4,  6,  8],\n",
       "       [10, 12, 14, 16],\n",
       "       [18, 20, 22, 24]])"
      ]
     },
     "execution_count": 38,
     "metadata": {},
     "output_type": "execute_result"
    }
   ],
   "source": [
    "mat[mat%2==0].reshape(3,4)"
   ]
  },
  {
   "cell_type": "markdown",
   "id": "baf4bdf6-b786-4785-8ce6-bd87e1f5fe1f",
   "metadata": {},
   "source": [
    "Partie C"
   ]
  },
  {
   "cell_type": "code",
   "execution_count": 44,
   "id": "7591e96e-4ca0-4e58-bf48-a46d49adbd34",
   "metadata": {},
   "outputs": [
    {
     "data": {
      "text/plain": [
       "325"
      ]
     },
     "execution_count": 44,
     "metadata": {},
     "output_type": "execute_result"
    }
   ],
   "source": [
    "#1\n",
    "mat.sum()"
   ]
  },
  {
   "cell_type": "code",
   "execution_count": 57,
   "id": "6eb0730c-6a95-4c5c-bbb3-993834a26b30",
   "metadata": {},
   "outputs": [
    {
     "data": {
      "text/plain": [
       "7.21"
      ]
     },
     "execution_count": 57,
     "metadata": {},
     "output_type": "execute_result"
    }
   ],
   "source": [
    "#2\n",
    "np.round(mat.std(),2)"
   ]
  },
  {
   "cell_type": "code",
   "execution_count": 46,
   "id": "79d41a46-a2bd-48cb-8452-061453900775",
   "metadata": {},
   "outputs": [
    {
     "data": {
      "text/plain": [
       "array([55, 60, 65, 70, 75])"
      ]
     },
     "execution_count": 46,
     "metadata": {},
     "output_type": "execute_result"
    }
   ],
   "source": [
    "#3\n",
    "mat.sum(axis=0)"
   ]
  },
  {
   "cell_type": "code",
   "execution_count": 47,
   "id": "55b92e33-0676-480b-b1c9-66267d6fa5c5",
   "metadata": {},
   "outputs": [
    {
     "data": {
      "text/plain": [
       "array([ 3.,  8., 13., 18., 23.])"
      ]
     },
     "execution_count": 47,
     "metadata": {},
     "output_type": "execute_result"
    }
   ],
   "source": [
    "#4\n",
    "mat.mean(axis=1)"
   ]
  },
  {
   "cell_type": "code",
   "execution_count": 48,
   "id": "326783e2-4748-4e31-a3ff-e86a3985642c",
   "metadata": {},
   "outputs": [
    {
     "data": {
      "text/plain": [
       "array([[  55,  130,  205,  280,  355],\n",
       "       [ 130,  330,  530,  730,  930],\n",
       "       [ 205,  530,  855, 1180, 1505],\n",
       "       [ 280,  730, 1180, 1630, 2080],\n",
       "       [ 355,  930, 1505, 2080, 2655]])"
      ]
     },
     "execution_count": 48,
     "metadata": {},
     "output_type": "execute_result"
    }
   ],
   "source": [
    "#5\n",
    "mat@mat.T"
   ]
  },
  {
   "cell_type": "code",
   "execution_count": 49,
   "id": "40a312ff-31e5-4a71-9d3e-69404dd6241d",
   "metadata": {},
   "outputs": [
    {
     "data": {
      "text/plain": [
       "array([[ 1,  6, 11, 16, 21],\n",
       "       [ 2,  7, 12, 17, 22],\n",
       "       [ 3,  8, 13, 18, 23],\n",
       "       [ 4,  9, 14, 19, 24],\n",
       "       [ 5, 10, 15, 20, 25]])"
      ]
     },
     "execution_count": 49,
     "metadata": {},
     "output_type": "execute_result"
    }
   ],
   "source": [
    "mat.T"
   ]
  },
  {
   "cell_type": "code",
   "execution_count": 50,
   "id": "32493bec-4930-4fc0-b51c-144276d64709",
   "metadata": {},
   "outputs": [
    {
     "data": {
      "text/plain": [
       "array([[ 1,  2,  3,  4,  5],\n",
       "       [ 6,  7,  8,  9, 10],\n",
       "       [11, 12, 13, 14, 15],\n",
       "       [16, 17, 18, 19, 20],\n",
       "       [21, 22, 23, 24, 25]])"
      ]
     },
     "execution_count": 50,
     "metadata": {},
     "output_type": "execute_result"
    }
   ],
   "source": [
    "mat"
   ]
  },
  {
   "cell_type": "code",
   "execution_count": 58,
   "id": "a5560567-5fd8-451b-894a-b1c64aa70400",
   "metadata": {},
   "outputs": [
    {
     "data": {
      "text/plain": [
       "array([[  1,   4,   9,  16,  25],\n",
       "       [ 36,  49,  64,  81, 100],\n",
       "       [121, 144, 169, 196, 225],\n",
       "       [256, 289, 324, 361, 400],\n",
       "       [441, 484, 529, 576, 625]])"
      ]
     },
     "execution_count": 58,
     "metadata": {},
     "output_type": "execute_result"
    }
   ],
   "source": [
    "mat*mat"
   ]
  },
  {
   "cell_type": "code",
   "execution_count": null,
   "id": "88e08197-b5f8-454f-bab9-1c48b1324ec0",
   "metadata": {},
   "outputs": [],
   "source": []
  }
 ],
 "metadata": {
  "kernelspec": {
   "display_name": "Python 3 (ipykernel)",
   "language": "python",
   "name": "python3"
  },
  "language_info": {
   "codemirror_mode": {
    "name": "ipython",
    "version": 3
   },
   "file_extension": ".py",
   "mimetype": "text/x-python",
   "name": "python",
   "nbconvert_exporter": "python",
   "pygments_lexer": "ipython3",
   "version": "3.7.1"
  }
 },
 "nbformat": 4,
 "nbformat_minor": 5
}
