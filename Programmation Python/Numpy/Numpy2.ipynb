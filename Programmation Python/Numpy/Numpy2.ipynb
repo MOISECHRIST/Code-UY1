{
 "cells": [
  {
   "cell_type": "markdown",
   "id": "df953378-8930-426e-b125-a76167114443",
   "metadata": {},
   "source": [
    "1. importation de numpy"
   ]
  },
  {
   "cell_type": "code",
   "execution_count": 266,
   "id": "da13ff86-d83b-4579-9cd7-fa9ac1cd6cc3",
   "metadata": {},
   "outputs": [],
   "source": [
    "import numpy as np"
   ]
  },
  {
   "cell_type": "markdown",
   "id": "72c76280-1293-4bf0-90c6-e932a0a8971c",
   "metadata": {},
   "source": [
    "2. Creation de tableau numpy"
   ]
  },
  {
   "cell_type": "markdown",
   "id": "6109d013-f51a-4c47-9a24-459830bb9abe",
   "metadata": {},
   "source": [
    "2.1. En utilisant les liste python"
   ]
  },
  {
   "cell_type": "code",
   "execution_count": 11,
   "id": "64192d77-ddd5-4deb-948f-1be0b243b9c6",
   "metadata": {},
   "outputs": [],
   "source": [
    "liste=[1,2,3,4,5,6,7,8,9]"
   ]
  },
  {
   "cell_type": "code",
   "execution_count": 12,
   "id": "4e221450-5aee-45e1-b272-aaa7c38bb4d7",
   "metadata": {},
   "outputs": [],
   "source": [
    "arr_list=np.array(liste)"
   ]
  },
  {
   "cell_type": "code",
   "execution_count": 13,
   "id": "299cced0-1a15-4801-ac2e-4d471b22d148",
   "metadata": {},
   "outputs": [
    {
     "data": {
      "text/plain": [
       "array([1, 2, 3, 4, 5, 6, 7, 8, 9])"
      ]
     },
     "execution_count": 13,
     "metadata": {},
     "output_type": "execute_result"
    }
   ],
   "source": [
    "arr_list"
   ]
  },
  {
   "cell_type": "code",
   "execution_count": 15,
   "id": "efcee6db-ae5a-416a-a255-d8792f44eafe",
   "metadata": {},
   "outputs": [
    {
     "data": {
      "text/plain": [
       "(9,)"
      ]
     },
     "execution_count": 15,
     "metadata": {},
     "output_type": "execute_result"
    }
   ],
   "source": [
    "arr_list.shape"
   ]
  },
  {
   "cell_type": "code",
   "execution_count": 93,
   "id": "76d25457-4d6f-4aa9-9047-bff63e0317cf",
   "metadata": {},
   "outputs": [],
   "source": [
    "#Redimensionner un tableau \n",
    "arr_list2=arr_list.reshape(3,3)"
   ]
  },
  {
   "cell_type": "code",
   "execution_count": 17,
   "id": "96d35c5c-4b8a-4100-92a0-f0724501c8b5",
   "metadata": {},
   "outputs": [
    {
     "data": {
      "text/plain": [
       "array([[1, 2, 3],\n",
       "       [4, 5, 6],\n",
       "       [7, 8, 9]])"
      ]
     },
     "execution_count": 17,
     "metadata": {},
     "output_type": "execute_result"
    }
   ],
   "source": [
    "arr_list2"
   ]
  },
  {
   "cell_type": "code",
   "execution_count": 130,
   "id": "415291d2-1535-462b-9e41-2b2404bee9c9",
   "metadata": {},
   "outputs": [
    {
     "data": {
      "text/plain": [
       "1"
      ]
     },
     "execution_count": 130,
     "metadata": {},
     "output_type": "execute_result"
    }
   ],
   "source": [
    "arr_list.ndim"
   ]
  },
  {
   "cell_type": "code",
   "execution_count": 131,
   "id": "eaa4ec31-3ad0-49e1-a8bb-369fdc7c504c",
   "metadata": {},
   "outputs": [
    {
     "data": {
      "text/plain": [
       "2"
      ]
     },
     "execution_count": 131,
     "metadata": {},
     "output_type": "execute_result"
    }
   ],
   "source": [
    "arr_list2.ndim"
   ]
  },
  {
   "cell_type": "code",
   "execution_count": 128,
   "id": "25305086-df43-459d-af4b-c63e46b8752c",
   "metadata": {},
   "outputs": [],
   "source": [
    "arr_dim2=np.array([[1,2,3],[4,5,6],[7,8,9]])"
   ]
  },
  {
   "cell_type": "code",
   "execution_count": 129,
   "id": "e36a3335-8ebd-4f8f-bc91-c3fdfc17e668",
   "metadata": {},
   "outputs": [
    {
     "data": {
      "text/plain": [
       "array([[1, 2, 3],\n",
       "       [4, 5, 6],\n",
       "       [7, 8, 9]])"
      ]
     },
     "execution_count": 129,
     "metadata": {},
     "output_type": "execute_result"
    }
   ],
   "source": [
    "arr_dim2"
   ]
  },
  {
   "cell_type": "code",
   "execution_count": 132,
   "id": "0ecdf6c8-904f-4832-9248-5737ed08a337",
   "metadata": {},
   "outputs": [
    {
     "data": {
      "text/plain": [
       "2"
      ]
     },
     "execution_count": 132,
     "metadata": {},
     "output_type": "execute_result"
    }
   ],
   "source": [
    "arr_dim2.ndim"
   ]
  },
  {
   "cell_type": "code",
   "execution_count": 154,
   "id": "796d7777-7c72-41ab-a195-0afde5790402",
   "metadata": {},
   "outputs": [
    {
     "data": {
      "text/plain": [
       "array([[1, 2, 3],\n",
       "       [9, 8, 7]])"
      ]
     },
     "execution_count": 154,
     "metadata": {},
     "output_type": "execute_result"
    }
   ],
   "source": [
    "np.array([(1,2,3),(9,8,7)])"
   ]
  },
  {
   "cell_type": "code",
   "execution_count": 155,
   "id": "d2ab496e-d91f-4a8d-8d9d-3d57444a6da8",
   "metadata": {},
   "outputs": [
    {
     "data": {
      "text/plain": [
       "array([[1, 2, 3],\n",
       "       [9, 8, 7]])"
      ]
     },
     "execution_count": 155,
     "metadata": {},
     "output_type": "execute_result"
    }
   ],
   "source": [
    "np.array([(1,2,3),[9,8,7]])"
   ]
  },
  {
   "cell_type": "markdown",
   "id": "102f3b64-fabd-4b23-b61e-52b45819170e",
   "metadata": {},
   "source": [
    "2.2. En utilisant les fonctions de base création de tableau"
   ]
  },
  {
   "cell_type": "code",
   "execution_count": 91,
   "id": "a3f91699-b631-4fab-b7a9-c65332afc232",
   "metadata": {},
   "outputs": [],
   "source": [
    "#Tableau de valeurs allant de 0 à 9\n",
    "arr=np.arange(10)"
   ]
  },
  {
   "cell_type": "code",
   "execution_count": 92,
   "id": "5978f041-8e43-4407-b59a-4a98a6c81a34",
   "metadata": {},
   "outputs": [
    {
     "data": {
      "text/plain": [
       "array([0, 1, 2, 3, 4, 5, 6, 7, 8, 9])"
      ]
     },
     "execution_count": 92,
     "metadata": {},
     "output_type": "execute_result"
    }
   ],
   "source": [
    "arr"
   ]
  },
  {
   "cell_type": "code",
   "execution_count": 94,
   "id": "9c893ba0-5461-403b-8fef-a8e8c4a2d4a7",
   "metadata": {},
   "outputs": [
    {
     "data": {
      "text/plain": [
       "(10,)"
      ]
     },
     "execution_count": 94,
     "metadata": {},
     "output_type": "execute_result"
    }
   ],
   "source": [
    "arr.shape"
   ]
  },
  {
   "cell_type": "code",
   "execution_count": 9,
   "id": "74971e83-b3ff-4088-b184-d848bf8b5f5c",
   "metadata": {},
   "outputs": [],
   "source": [
    "arr_2d=arr.reshape(2,5)"
   ]
  },
  {
   "cell_type": "code",
   "execution_count": 10,
   "id": "fbd2122e-8c69-4544-a4c3-2cf1cdb0cf94",
   "metadata": {},
   "outputs": [
    {
     "data": {
      "text/plain": [
       "(2, 5)"
      ]
     },
     "execution_count": 10,
     "metadata": {},
     "output_type": "execute_result"
    }
   ],
   "source": [
    "arr_2d.shape"
   ]
  },
  {
   "cell_type": "code",
   "execution_count": 15,
   "id": "b364973e-3103-4be4-a9a0-b8c296bab9d3",
   "metadata": {},
   "outputs": [
    {
     "data": {
      "text/plain": [
       "array([ 0.        ,  0.52631579,  1.05263158,  1.57894737,  2.10526316,\n",
       "        2.63157895,  3.15789474,  3.68421053,  4.21052632,  4.73684211,\n",
       "        5.26315789,  5.78947368,  6.31578947,  6.84210526,  7.36842105,\n",
       "        7.89473684,  8.42105263,  8.94736842,  9.47368421, 10.        ])"
      ]
     },
     "execution_count": 15,
     "metadata": {},
     "output_type": "execute_result"
    }
   ],
   "source": [
    "#Pour avoir n valeurs uniformément réparties entre min et max\n",
    "np.linspace(0,10,20)"
   ]
  },
  {
   "cell_type": "code",
   "execution_count": 95,
   "id": "52166e0d-6efb-4dc8-99dd-211e6569c93b",
   "metadata": {},
   "outputs": [],
   "source": [
    "#Matrice identité\n",
    "Id=np.eye(3)"
   ]
  },
  {
   "cell_type": "code",
   "execution_count": 96,
   "id": "44abed75-36ca-4c10-adcc-542c4aadcc99",
   "metadata": {},
   "outputs": [
    {
     "data": {
      "text/plain": [
       "array([[1., 0., 0.],\n",
       "       [0., 1., 0.],\n",
       "       [0., 0., 1.]])"
      ]
     },
     "execution_count": 96,
     "metadata": {},
     "output_type": "execute_result"
    }
   ],
   "source": [
    "Id"
   ]
  },
  {
   "cell_type": "code",
   "execution_count": 97,
   "id": "f1e94f15-84dd-4339-96c3-fe1c3ad4bcf6",
   "metadata": {},
   "outputs": [],
   "source": [
    "#Matrice 3x3 contenant des valeurs nulles\n",
    "mat_zero=np.zeros(9).reshape((3,3))"
   ]
  },
  {
   "cell_type": "code",
   "execution_count": 98,
   "id": "9b2f79ac-7005-409d-a8c8-8eddd3741951",
   "metadata": {},
   "outputs": [
    {
     "data": {
      "text/plain": [
       "array([[0., 0., 0.],\n",
       "       [0., 0., 0.],\n",
       "       [0., 0., 0.]])"
      ]
     },
     "execution_count": 98,
     "metadata": {},
     "output_type": "execute_result"
    }
   ],
   "source": [
    "mat_zero"
   ]
  },
  {
   "cell_type": "code",
   "execution_count": 99,
   "id": "37b2b9c2-00cc-47f7-8ad4-73d68f796aff",
   "metadata": {},
   "outputs": [],
   "source": [
    "mat_zero2=np.zeros((3,3))"
   ]
  },
  {
   "cell_type": "code",
   "execution_count": 100,
   "id": "5b19c179-6b3d-4d4a-aa03-938a3dfc64a5",
   "metadata": {},
   "outputs": [
    {
     "data": {
      "text/plain": [
       "array([[0., 0., 0.],\n",
       "       [0., 0., 0.],\n",
       "       [0., 0., 0.]])"
      ]
     },
     "execution_count": 100,
     "metadata": {},
     "output_type": "execute_result"
    }
   ],
   "source": [
    "mat_zero2"
   ]
  },
  {
   "cell_type": "code",
   "execution_count": 101,
   "id": "b53d2b53-ef7e-4848-a0c8-cb0ec5d92dce",
   "metadata": {},
   "outputs": [],
   "source": [
    "#Matrice 3x3 contenant que des uns\n",
    "mat_one=np.ones(9).reshape((3,3))"
   ]
  },
  {
   "cell_type": "code",
   "execution_count": 102,
   "id": "f04f77fb-b40e-4cd5-bbae-db2a9da738d5",
   "metadata": {},
   "outputs": [
    {
     "data": {
      "text/plain": [
       "array([[1., 1., 1.],\n",
       "       [1., 1., 1.],\n",
       "       [1., 1., 1.]])"
      ]
     },
     "execution_count": 102,
     "metadata": {},
     "output_type": "execute_result"
    }
   ],
   "source": [
    "mat_one"
   ]
  },
  {
   "cell_type": "code",
   "execution_count": 27,
   "id": "36a275ab-517d-4196-ad0f-490b0be92fab",
   "metadata": {},
   "outputs": [],
   "source": [
    "mat_one2=np.ones((3,3))"
   ]
  },
  {
   "cell_type": "code",
   "execution_count": 28,
   "id": "21ec8ec7-1ce5-4597-ae3c-9890718252ad",
   "metadata": {},
   "outputs": [
    {
     "data": {
      "text/plain": [
       "array([[1., 1., 1.],\n",
       "       [1., 1., 1.],\n",
       "       [1., 1., 1.]])"
      ]
     },
     "execution_count": 28,
     "metadata": {},
     "output_type": "execute_result"
    }
   ],
   "source": [
    "mat_one2"
   ]
  },
  {
   "cell_type": "code",
   "execution_count": 103,
   "id": "4e1c465b-77d2-42e0-9856-c432d72dd5a7",
   "metadata": {},
   "outputs": [],
   "source": [
    "#Creation d'un tableau de flotant\n",
    "matrix=np.array([[1,2,3],[4,5,6],[7,8,9]],dtype=np.float64)"
   ]
  },
  {
   "cell_type": "code",
   "execution_count": 104,
   "id": "66fcb12f-fd60-4aab-a6b0-d7c70505f2cb",
   "metadata": {},
   "outputs": [
    {
     "data": {
      "text/plain": [
       "array([[1., 2., 3.],\n",
       "       [4., 5., 6.],\n",
       "       [7., 8., 9.]])"
      ]
     },
     "execution_count": 104,
     "metadata": {},
     "output_type": "execute_result"
    }
   ],
   "source": [
    "np.floor(matrix)"
   ]
  },
  {
   "cell_type": "code",
   "execution_count": 105,
   "id": "fa45312a-b45b-4ed8-9ce3-5a1775a43cfc",
   "metadata": {},
   "outputs": [
    {
     "data": {
      "text/plain": [
       "(3, 3)"
      ]
     },
     "execution_count": 105,
     "metadata": {},
     "output_type": "execute_result"
    }
   ],
   "source": [
    "matrix.shape"
   ]
  },
  {
   "cell_type": "code",
   "execution_count": 106,
   "id": "68f1571d-5fd8-4e41-b09d-8a65b43571a8",
   "metadata": {},
   "outputs": [
    {
     "data": {
      "text/plain": [
       "2"
      ]
     },
     "execution_count": 106,
     "metadata": {},
     "output_type": "execute_result"
    }
   ],
   "source": [
    "matrix.ndim"
   ]
  },
  {
   "cell_type": "code",
   "execution_count": 107,
   "id": "6e290f86-2776-43a3-953f-5b2a1b52f24b",
   "metadata": {},
   "outputs": [
    {
     "data": {
      "text/plain": [
       "8"
      ]
     },
     "execution_count": 107,
     "metadata": {},
     "output_type": "execute_result"
    }
   ],
   "source": [
    "matrix.itemsize"
   ]
  },
  {
   "cell_type": "code",
   "execution_count": 108,
   "id": "5b4103c3-6254-4417-8406-59e4a60a5305",
   "metadata": {},
   "outputs": [
    {
     "data": {
      "text/plain": [
       "<memory at 0x00000127FC2301F8>"
      ]
     },
     "execution_count": 108,
     "metadata": {},
     "output_type": "execute_result"
    }
   ],
   "source": [
    "matrix.data"
   ]
  },
  {
   "cell_type": "code",
   "execution_count": 113,
   "id": "ee50c924-b1ba-49fe-b87f-51e6d64b1995",
   "metadata": {},
   "outputs": [],
   "source": [
    "#Autre methode pour redimensionner un tableau numpy\n",
    "mat_one.resize((1,9))"
   ]
  },
  {
   "cell_type": "code",
   "execution_count": 114,
   "id": "9e17e5ac-c321-40b6-80c7-b8bbf84998e3",
   "metadata": {},
   "outputs": [
    {
     "data": {
      "text/plain": [
       "array([[1., 1., 1., 1., 1., 1., 1., 1., 1.]])"
      ]
     },
     "execution_count": 114,
     "metadata": {},
     "output_type": "execute_result"
    }
   ],
   "source": [
    "mat_one"
   ]
  },
  {
   "cell_type": "code",
   "execution_count": 117,
   "id": "1c8f52fb-510e-4efb-a832-5032562b7aa9",
   "metadata": {},
   "outputs": [],
   "source": [
    "#Matrice diagonale\n",
    "mat_diag=np.diag([-1,1,3])"
   ]
  },
  {
   "cell_type": "code",
   "execution_count": 116,
   "id": "88198564-b401-4bde-9132-78b1b54ef104",
   "metadata": {},
   "outputs": [
    {
     "data": {
      "text/plain": [
       "array([[-1,  0,  0],\n",
       "       [ 0,  1,  0],\n",
       "       [ 0,  0,  3]])"
      ]
     },
     "execution_count": 116,
     "metadata": {},
     "output_type": "execute_result"
    }
   ],
   "source": [
    "mat_diag"
   ]
  },
  {
   "cell_type": "code",
   "execution_count": 65,
   "id": "e3b989a9-504b-4863-8bd2-b80dc740d33d",
   "metadata": {},
   "outputs": [
    {
     "data": {
      "text/plain": [
       "array([[-1,  0,  0],\n",
       "       [ 0,  1,  0],\n",
       "       [ 0,  0,  3]])"
      ]
     },
     "execution_count": 65,
     "metadata": {},
     "output_type": "execute_result"
    }
   ],
   "source": [
    "mat_diag"
   ]
  },
  {
   "cell_type": "code",
   "execution_count": 118,
   "id": "275d7de8-8a9c-4073-adf6-e63c14a65ed4",
   "metadata": {},
   "outputs": [
    {
     "data": {
      "text/plain": [
       "array([[[-1,  0,  0]],\n",
       "\n",
       "       [[ 0,  1,  0]],\n",
       "\n",
       "       [[ 0,  0,  3]]])"
      ]
     },
     "execution_count": 118,
     "metadata": {},
     "output_type": "execute_result"
    }
   ],
   "source": [
    "#Ajouter un axe à un tableau numpy\n",
    "mat_diag[:,np.newaxis]"
   ]
  },
  {
   "cell_type": "code",
   "execution_count": 79,
   "id": "b61162d7-e6f6-4595-81fe-068d958ca1bd",
   "metadata": {},
   "outputs": [
    {
     "data": {
      "text/plain": [
       "array([[-1,  0,  0],\n",
       "       [ 0,  1,  0],\n",
       "       [ 0,  0,  3]])"
      ]
     },
     "execution_count": 79,
     "metadata": {},
     "output_type": "execute_result"
    }
   ],
   "source": [
    "mat_diag"
   ]
  },
  {
   "cell_type": "code",
   "execution_count": 80,
   "id": "22601d6b-2c77-4535-9a3c-b8754929b4cc",
   "metadata": {},
   "outputs": [
    {
     "data": {
      "text/plain": [
       "nan"
      ]
     },
     "execution_count": 80,
     "metadata": {},
     "output_type": "execute_result"
    }
   ],
   "source": [
    "np.nan"
   ]
  },
  {
   "cell_type": "code",
   "execution_count": 83,
   "id": "c230a251-1a33-4abe-87cb-4f3120f154f7",
   "metadata": {},
   "outputs": [
    {
     "data": {
      "text/plain": [
       "inf"
      ]
     },
     "execution_count": 83,
     "metadata": {},
     "output_type": "execute_result"
    }
   ],
   "source": [
    "np.inf"
   ]
  },
  {
   "cell_type": "code",
   "execution_count": 125,
   "id": "469f25af-d55c-4aff-a5c2-0ff58b6cc5e9",
   "metadata": {},
   "outputs": [],
   "source": [
    "I3=np.eye(3,dtype=np.int64)*10"
   ]
  },
  {
   "cell_type": "code",
   "execution_count": 127,
   "id": "fc069c2c-4f64-4ea6-8b68-857048b34eae",
   "metadata": {},
   "outputs": [
    {
     "data": {
      "text/plain": [
       "array([[10.,  0.,  0.],\n",
       "       [ 0., 10.,  0.],\n",
       "       [ 0.,  0., 10.]])"
      ]
     },
     "execution_count": 127,
     "metadata": {},
     "output_type": "execute_result"
    }
   ],
   "source": [
    "np.floor(I3)"
   ]
  },
  {
   "cell_type": "markdown",
   "id": "5de13277-2d4c-40d9-9b04-051c705c9631",
   "metadata": {},
   "source": [
    "2.3. En utilisant des valeurs aléatoires"
   ]
  },
  {
   "cell_type": "markdown",
   "id": "540e0039-a3f0-4789-8252-82b20099ba13",
   "metadata": {},
   "source": [
    "Pour avoir des valeurs aléatoires on utilise le package random de numpy\n",
    "\n",
    "\n",
    "np.random"
   ]
  },
  {
   "cell_type": "code",
   "execution_count": 5,
   "id": "88158ba5-4313-4ef8-9ce3-cc8c52c90afd",
   "metadata": {},
   "outputs": [
    {
     "data": {
      "text/plain": [
       "array([0.09340569, 0.49002732, 0.1929309 , 0.48948384, 0.95474737,\n",
       "       0.25706777, 0.94782154, 0.98716099, 0.93672915, 0.90697686])"
      ]
     },
     "execution_count": 5,
     "metadata": {},
     "output_type": "execute_result"
    }
   ],
   "source": [
    "#Pour avoir des valeurs aléatoires uniformément repartie entre 0 (influs) et 1 (exclus)\n",
    "np.random.rand(10)"
   ]
  },
  {
   "cell_type": "code",
   "execution_count": 24,
   "id": "105a532d-7226-4085-87b2-545094cd69b1",
   "metadata": {},
   "outputs": [
    {
     "data": {
      "text/plain": [
       "array([ 7,  8, 11, 19, 12, 17,  5, 10, 10, 14])"
      ]
     },
     "execution_count": 24,
     "metadata": {},
     "output_type": "execute_result"
    }
   ],
   "source": [
    "#Pour avoir des valeurs aléatoires entieres uniformément repartie entre 2 valeurs min (influs) et max (exclus)\n",
    "np.random.randint(1,20,10)"
   ]
  },
  {
   "cell_type": "code",
   "execution_count": 26,
   "id": "012c1988-04e1-4eda-87cd-a3d2489b9745",
   "metadata": {},
   "outputs": [
    {
     "data": {
      "text/plain": [
       "array([[16,  2, 10],\n",
       "       [19, 13, 10],\n",
       "       [13, 17,  2]])"
      ]
     },
     "execution_count": 26,
     "metadata": {},
     "output_type": "execute_result"
    }
   ],
   "source": [
    "np.random.randint(1,20,(3,3))"
   ]
  },
  {
   "cell_type": "code",
   "execution_count": 31,
   "id": "4c8ca10e-144a-48fa-b002-57aae740bbab",
   "metadata": {},
   "outputs": [
    {
     "data": {
      "text/plain": [
       "array([-1.33393831, -2.50661597, -1.43995259, -0.79435086,  0.32569969,\n",
       "        0.21400105, -1.78038447,  1.0574779 ,  0.53866076])"
      ]
     },
     "execution_count": 31,
     "metadata": {},
     "output_type": "execute_result"
    }
   ],
   "source": [
    "#Pour des valeurs aléatoires suivant une distribution normale centré réduite\n",
    "np.random.randn(9)"
   ]
  },
  {
   "cell_type": "code",
   "execution_count": 32,
   "id": "0dd9dc8b-27ef-4850-af86-ac49d61aa27a",
   "metadata": {},
   "outputs": [
    {
     "data": {
      "text/plain": [
       "array([[ 0.30484089,  0.48876742,  0.45023058],\n",
       "       [-0.61198947, -0.23373891,  1.5253367 ],\n",
       "       [ 0.37065015, -0.42778612,  1.42471887]])"
      ]
     },
     "execution_count": 32,
     "metadata": {},
     "output_type": "execute_result"
    }
   ],
   "source": [
    "np.random.randn(3,3)"
   ]
  },
  {
   "cell_type": "code",
   "execution_count": 34,
   "id": "dfbb6ea2-fac4-47f0-bcca-677dd3e500f9",
   "metadata": {},
   "outputs": [
    {
     "data": {
      "text/plain": [
       "array([[ 1.43403546, -0.29177703, -0.8803757 ],\n",
       "       [ 0.3871837 , -1.89440767,  1.0644873 ],\n",
       "       [-1.4978563 ,  1.48383094,  0.00812683]])"
      ]
     },
     "execution_count": 34,
     "metadata": {},
     "output_type": "execute_result"
    }
   ],
   "source": [
    "np.random.randn(9).reshape(3,3)"
   ]
  },
  {
   "cell_type": "code",
   "execution_count": 46,
   "id": "4f9376b9-7ba1-4efa-9429-ee5dc9fdb96a",
   "metadata": {},
   "outputs": [
    {
     "data": {
      "text/plain": [
       "array([0.64106965, 5.55526125, 2.9401316 , 6.41866604, 3.36427616,\n",
       "       8.32037952, 4.21662021, 1.54650831, 3.5430936 , 4.78784263])"
      ]
     },
     "execution_count": 46,
     "metadata": {},
     "output_type": "execute_result"
    }
   ],
   "source": [
    "#Pour une valeur aléatoire suivant une distribution normale (Elle prend en paramettre la moyenne et l'ecart type)\n",
    "np.random.normal(3,2,10)"
   ]
  },
  {
   "cell_type": "code",
   "execution_count": 70,
   "id": "15e7bb1e-bb80-468c-a12c-dae47f38dd77",
   "metadata": {},
   "outputs": [
    {
     "data": {
      "text/plain": [
       "array([[30.69116838, 31.64323629, 30.66087415],\n",
       "       [27.39368554, 31.81071173, 30.89274914],\n",
       "       [28.92609353, 31.16223621, 30.72914479]])"
      ]
     },
     "execution_count": 70,
     "metadata": {},
     "output_type": "execute_result"
    }
   ],
   "source": [
    "rg=np.random.default_rng(1)\n",
    "rg.normal(30,2,9).reshape(3,3)"
   ]
  },
  {
   "cell_type": "code",
   "execution_count": 71,
   "id": "f7cc9104-c59e-495f-8264-b8c46319bc8b",
   "metadata": {},
   "outputs": [
    {
     "data": {
      "text/plain": [
       "array([[33.24869073, 28.77648717, 28.9436565 ],\n",
       "       [27.85406276, 31.73081526, 25.39692261],\n",
       "       [33.48962353, 28.4775862 , 30.63807819]])"
      ]
     },
     "execution_count": 71,
     "metadata": {},
     "output_type": "execute_result"
    }
   ],
   "source": [
    "np.random.seed(1)\n",
    "np.random.normal(30,2,9).reshape(3,3)"
   ]
  },
  {
   "cell_type": "code",
   "execution_count": 69,
   "id": "255f3a82-6782-447f-a61f-58c418eac9ab",
   "metadata": {},
   "outputs": [
    {
     "data": {
      "text/plain": [
       "array([[4, 5, 7],\n",
       "       [9, 0, 1],\n",
       "       [8, 9, 2]], dtype=int64)"
      ]
     },
     "execution_count": 69,
     "metadata": {},
     "output_type": "execute_result"
    }
   ],
   "source": [
    "rg=np.random.default_rng(1)\n",
    "rg.integers(0,10,9).reshape(3,3)"
   ]
  },
  {
   "cell_type": "code",
   "execution_count": 72,
   "id": "fdd2194e-9e84-4815-aa65-c0ae7c04c304",
   "metadata": {},
   "outputs": [
    {
     "data": {
      "text/plain": [
       "array([[5, 8, 9],\n",
       "       [5, 0, 0],\n",
       "       [1, 7, 6]])"
      ]
     },
     "execution_count": 72,
     "metadata": {},
     "output_type": "execute_result"
    }
   ],
   "source": [
    "np.random.seed(1)\n",
    "np.random.randint(0,10,(3,3))"
   ]
  },
  {
   "cell_type": "code",
   "execution_count": 77,
   "id": "ff54f951-2fc8-48a5-835a-a7496d028de8",
   "metadata": {},
   "outputs": [],
   "source": [
    "logistic=np.random.logistic(0,1,1000)"
   ]
  },
  {
   "cell_type": "code",
   "execution_count": 110,
   "id": "3a9a0d0e-272b-455a-b366-248bfd667aad",
   "metadata": {},
   "outputs": [],
   "source": [
    "import matplotlib.pyplot as plt"
   ]
  },
  {
   "cell_type": "code",
   "execution_count": 97,
   "id": "4a6ad51b-765a-409a-8fec-990c02ffce05",
   "metadata": {},
   "outputs": [
    {
     "data": {
      "text/plain": [
       "[<matplotlib.lines.Line2D at 0x16d035fce48>]"
      ]
     },
     "execution_count": 97,
     "metadata": {},
     "output_type": "execute_result"
    },
    {
     "data": {
      "image/png": "[encoded data removed]",
      "text/plain": [
       "<Figure size 432x288 with 1 Axes>"
      ]
     },
     "metadata": {
      "needs_background": "light"
     },
     "output_type": "display_data"
    }
   ],
   "source": [
    "plt.hist(logistic,bins=100,density=True)\n",
    "(n,bins)=np.histogram(logistic,bins=100,density=True)\n",
    "plt.plot(0.5*(bins[1:] + bins[:-1]), n)"
   ]
  },
  {
   "cell_type": "code",
   "execution_count": 111,
   "id": "e9be46cc-3bf3-49a3-ab8a-e2b999b88493",
   "metadata": {},
   "outputs": [
    {
     "data": {
      "text/plain": [
       "[<matplotlib.lines.Line2D at 0x16d335e5c88>]"
      ]
     },
     "execution_count": 111,
     "metadata": {},
     "output_type": "execute_result"
    },
    {
     "data": {
      "image/png": "[encoded data removed]",
      "text/plain": [
       "<Figure size 432x288 with 1 Axes>"
      ]
     },
     "metadata": {
      "needs_background": "light"
     },
     "output_type": "display_data"
    }
   ],
   "source": [
    "(n,bins)=np.histogram(logistic,bins=100,density=True)\n",
    "plt.plot(.5 * (bins[1:] + bins[:-1]), n)"
   ]
  },
  {
   "cell_type": "code",
   "execution_count": 125,
   "id": "7cf32158-f7ba-40f2-a1ca-51f8ce5b7da6",
   "metadata": {},
   "outputs": [
    {
     "data": {
      "image/png": "[encoded data removed]",
      "text/plain": [
       "<Figure size 432x288 with 1 Axes>"
      ]
     },
     "metadata": {
      "needs_background": "light"
     },
     "output_type": "display_data"
    }
   ],
   "source": [
    "rg=np.random.default_rng(1)\n",
    "normal=rg.normal(2,0.5,10000)\n",
    "plt.hist(normal,bins=50,density=True,histtype='stepfilled')\n",
    "(n,bins)=np.histogram(normal,bins=50,density=True)"
   ]
  },
  {
   "cell_type": "code",
   "execution_count": 152,
   "id": "fb4ab6c9-b767-4e32-a5ac-4113e8d11e8b",
   "metadata": {},
   "outputs": [
    {
     "data": {
      "text/plain": [
       "(array([[1.89112709e-03, 3.78225417e-03, 6.93413265e-03, 1.07163868e-02,\n",
       "         3.59314147e-02, 6.80805751e-02, 1.29227018e-01, 2.33869383e-01,\n",
       "         3.68769782e-01, 5.34558590e-01, 6.77023497e-01, 7.53298956e-01,\n",
       "         7.70319100e-01, 7.52668581e-01, 6.43613585e-01, 5.09973938e-01,\n",
       "         3.51119263e-01, 2.16218864e-01, 1.19141006e-01, 5.10604314e-02,\n",
       "         4.53870501e-02, 1.19771382e-02, 5.04300557e-03, 2.52150278e-03,\n",
       "         6.30375696e-04, 0.00000000e+00, 0.00000000e+00, 0.00000000e+00,\n",
       "         0.00000000e+00, 0.00000000e+00, 0.00000000e+00, 0.00000000e+00,\n",
       "         0.00000000e+00, 0.00000000e+00, 0.00000000e+00, 0.00000000e+00,\n",
       "         0.00000000e+00, 0.00000000e+00, 0.00000000e+00, 0.00000000e+00,\n",
       "         0.00000000e+00, 0.00000000e+00, 0.00000000e+00, 0.00000000e+00,\n",
       "         0.00000000e+00, 0.00000000e+00, 0.00000000e+00, 0.00000000e+00,\n",
       "         0.00000000e+00, 0.00000000e+00],\n",
       "        [0.00000000e+00, 0.00000000e+00, 0.00000000e+00, 0.00000000e+00,\n",
       "         0.00000000e+00, 0.00000000e+00, 0.00000000e+00, 0.00000000e+00,\n",
       "         0.00000000e+00, 0.00000000e+00, 0.00000000e+00, 0.00000000e+00,\n",
       "         0.00000000e+00, 0.00000000e+00, 0.00000000e+00, 0.00000000e+00,\n",
       "         0.00000000e+00, 0.00000000e+00, 0.00000000e+00, 0.00000000e+00,\n",
       "         0.00000000e+00, 0.00000000e+00, 0.00000000e+00, 0.00000000e+00,\n",
       "         0.00000000e+00, 6.30375696e-04, 2.52150278e-03, 5.04300557e-03,\n",
       "         1.19771382e-02, 4.53870501e-02, 5.10604314e-02, 1.19141006e-01,\n",
       "         2.16218864e-01, 3.51119263e-01, 5.09973938e-01, 6.43613585e-01,\n",
       "         7.52668581e-01, 7.70319100e-01, 7.53298956e-01, 6.77023497e-01,\n",
       "         5.34558590e-01, 3.68769782e-01, 2.33869383e-01, 1.29227018e-01,\n",
       "         6.80805751e-02, 3.59314147e-02, 1.07163868e-02, 6.93413265e-03,\n",
       "         3.78225417e-03, 1.89112709e-03]]),\n",
       " array([-3.96588894, -3.80725338, -3.64861782, -3.48998227, -3.33134671,\n",
       "        -3.17271115, -3.01407559, -2.85544004, -2.69680448, -2.53816892,\n",
       "        -2.37953336, -2.22089781, -2.06226225, -1.90362669, -1.74499113,\n",
       "        -1.58635558, -1.42772002, -1.26908446, -1.1104489 , -0.95181335,\n",
       "        -0.79317779, -0.63454223, -0.47590667, -0.31727112, -0.15863556,\n",
       "         0.        ,  0.15863556,  0.31727112,  0.47590667,  0.63454223,\n",
       "         0.79317779,  0.95181335,  1.1104489 ,  1.26908446,  1.42772002,\n",
       "         1.58635558,  1.74499113,  1.90362669,  2.06226225,  2.22089781,\n",
       "         2.37953336,  2.53816892,  2.69680448,  2.85544004,  3.01407559,\n",
       "         3.17271115,  3.33134671,  3.48998227,  3.64861782,  3.80725338,\n",
       "         3.96588894]),\n",
       " <a list of 2 BarContainer objects>)"
      ]
     },
     "execution_count": 152,
     "metadata": {},
     "output_type": "execute_result"
    },
    {
     "data": {
      "image/png": "[encoded data removed]",
      "text/plain": [
       "<Figure size 432x288 with 1 Axes>"
      ]
     },
     "metadata": {
      "needs_background": "light"
     },
     "output_type": "display_data"
    }
   ],
   "source": [
    "plt.hist([-1*normal,normal],bins=50,histtype='bar',density=True)"
   ]
  },
  {
   "cell_type": "markdown",
   "id": "8037e2b2-b2e7-403f-9e19-65a339a2ee08",
   "metadata": {},
   "source": [
    "3. Indexation dans un tableau numpy"
   ]
  },
  {
   "cell_type": "markdown",
   "id": "4d4019a6-6947-475b-9b7d-09028ec34173",
   "metadata": {},
   "source": [
    "#Indexation consiste à selectionner des valeurs dans un tableau numpy"
   ]
  },
  {
   "cell_type": "code",
   "execution_count": 171,
   "id": "5a6c16f6-9b31-4de5-abf2-48c7443c9e55",
   "metadata": {},
   "outputs": [
    {
     "data": {
      "text/plain": [
       "array([0, 1, 2, 3, 4, 5, 6, 7, 8, 9])"
      ]
     },
     "execution_count": 171,
     "metadata": {},
     "output_type": "execute_result"
    }
   ],
   "source": [
    "x=np.arange(0,10)\n",
    "x"
   ]
  },
  {
   "cell_type": "code",
   "execution_count": 172,
   "id": "e467c64e-c622-475d-ae4e-ff537a9281d5",
   "metadata": {},
   "outputs": [
    {
     "data": {
      "text/plain": [
       "2"
      ]
     },
     "execution_count": 172,
     "metadata": {},
     "output_type": "execute_result"
    }
   ],
   "source": [
    "#On sélectionne l'élément de la position 2 dans x\n",
    "x[2]"
   ]
  },
  {
   "cell_type": "code",
   "execution_count": 173,
   "id": "a16493d2-e75d-4293-a469-8876ae866109",
   "metadata": {},
   "outputs": [
    {
     "data": {
      "text/plain": [
       "10"
      ]
     },
     "execution_count": 173,
     "metadata": {},
     "output_type": "execute_result"
    }
   ],
   "source": [
    "x.size"
   ]
  },
  {
   "cell_type": "code",
   "execution_count": 174,
   "id": "dcecbcbd-9e30-4954-a0aa-81f54ea88180",
   "metadata": {},
   "outputs": [
    {
     "data": {
      "text/plain": [
       "9"
      ]
     },
     "execution_count": 174,
     "metadata": {},
     "output_type": "execute_result"
    }
   ],
   "source": [
    "#On selectionne le dernier element de x\n",
    "x[-1]"
   ]
  },
  {
   "cell_type": "code",
   "execution_count": 175,
   "id": "f9b0ca38-efb9-41da-bd4c-f8b1000787cd",
   "metadata": {},
   "outputs": [
    {
     "data": {
      "text/plain": [
       "array([1, 2, 3])"
      ]
     },
     "execution_count": 175,
     "metadata": {},
     "output_type": "execute_result"
    }
   ],
   "source": [
    "#On selectionne les elements de x de la position 1 à 4 exclus x[start:stop]\n",
    "x[1:4]"
   ]
  },
  {
   "cell_type": "code",
   "execution_count": 176,
   "id": "9a82578c-e5a8-4653-b764-4876b47b035a",
   "metadata": {},
   "outputs": [
    {
     "data": {
      "text/plain": [
       "array([1, 2, 3, 4])"
      ]
     },
     "execution_count": 176,
     "metadata": {},
     "output_type": "execute_result"
    }
   ],
   "source": [
    "#On selectionne les elements de x de la position 1 à 4 inclus x[start:stop]\n",
    "x[1:5]"
   ]
  },
  {
   "cell_type": "code",
   "execution_count": 177,
   "id": "7a5127a2-0e0a-4730-afb4-4e431022dd94",
   "metadata": {},
   "outputs": [
    {
     "data": {
      "text/plain": [
       "3"
      ]
     },
     "execution_count": 177,
     "metadata": {},
     "output_type": "execute_result"
    }
   ],
   "source": [
    "#On peut aussi utiliser item pour selectionner les elements dans un tableau numpy\n",
    "x.item(3)"
   ]
  },
  {
   "cell_type": "code",
   "execution_count": 182,
   "id": "d7ebe399-a68c-499e-8f9b-a825837b922f",
   "metadata": {},
   "outputs": [
    {
     "data": {
      "text/plain": [
       "array([1, 3, 5, 7])"
      ]
     },
     "execution_count": 182,
     "metadata": {},
     "output_type": "execute_result"
    }
   ],
   "source": [
    "#On peut utiliser le parametre x[start:stop:step] pour afficher les valeurs suivant un pas (stop est exclu)\n",
    "x[1:9:2]"
   ]
  },
  {
   "cell_type": "code",
   "execution_count": 183,
   "id": "5eb9e795-d4c3-4e48-a22f-e952442ea99f",
   "metadata": {},
   "outputs": [
    {
     "data": {
      "text/plain": [
       "array([1, 2, 3, 4, 5, 6, 7, 8, 9])"
      ]
     },
     "execution_count": 183,
     "metadata": {},
     "output_type": "execute_result"
    }
   ],
   "source": [
    "x[1:]"
   ]
  },
  {
   "cell_type": "code",
   "execution_count": 184,
   "id": "1f7ad7eb-c189-411f-baee-e0e752402ebd",
   "metadata": {},
   "outputs": [
    {
     "data": {
      "text/plain": [
       "array([0, 1, 2, 3, 4])"
      ]
     },
     "execution_count": 184,
     "metadata": {},
     "output_type": "execute_result"
    }
   ],
   "source": [
    "x[:5]"
   ]
  },
  {
   "cell_type": "code",
   "execution_count": 185,
   "id": "d9dd8796-ad5a-421f-9cd2-f5db750f680c",
   "metadata": {},
   "outputs": [
    {
     "data": {
      "text/plain": [
       "array([0, 2, 4, 6, 8])"
      ]
     },
     "execution_count": 185,
     "metadata": {},
     "output_type": "execute_result"
    }
   ],
   "source": [
    "x[::2]"
   ]
  },
  {
   "cell_type": "code",
   "execution_count": 187,
   "id": "55095149-5b52-4cdd-8308-2e825403c223",
   "metadata": {},
   "outputs": [
    {
     "data": {
      "text/plain": [
       "array([1, 3, 5, 7, 9])"
      ]
     },
     "execution_count": 187,
     "metadata": {},
     "output_type": "execute_result"
    }
   ],
   "source": [
    "x[x%2!=0]"
   ]
  },
  {
   "cell_type": "code",
   "execution_count": 203,
   "id": "71b3711e-defa-469f-b449-acbf365d2ece",
   "metadata": {},
   "outputs": [],
   "source": [
    "y=np.arange(0,101)"
   ]
  },
  {
   "cell_type": "code",
   "execution_count": 204,
   "id": "c9a32a5b-ffc4-4a46-bedd-a6fc75e490bd",
   "metadata": {},
   "outputs": [],
   "source": [
    "z=y[::2].copy()"
   ]
  },
  {
   "cell_type": "code",
   "execution_count": 205,
   "id": "1bd60bd8-6881-4363-a2b1-cd2f256219cc",
   "metadata": {},
   "outputs": [],
   "source": [
    "z*=10"
   ]
  },
  {
   "cell_type": "code",
   "execution_count": 206,
   "id": "a3e9cbbe-d24b-47e4-a204-3ac3e517d54f",
   "metadata": {},
   "outputs": [
    {
     "data": {
      "text/plain": [
       "array([   0,   20,   40,   60,   80,  100,  120,  140,  160,  180,  200,\n",
       "        220,  240,  260,  280,  300,  320,  340,  360,  380,  400,  420,\n",
       "        440,  460,  480,  500,  520,  540,  560,  580,  600,  620,  640,\n",
       "        660,  680,  700,  720,  740,  760,  780,  800,  820,  840,  860,\n",
       "        880,  900,  920,  940,  960,  980, 1000])"
      ]
     },
     "execution_count": 206,
     "metadata": {},
     "output_type": "execute_result"
    }
   ],
   "source": [
    "z"
   ]
  },
  {
   "cell_type": "code",
   "execution_count": 207,
   "id": "e4a3f7e5-4fa6-4cd6-8e1b-1db0da848914",
   "metadata": {},
   "outputs": [
    {
     "data": {
      "text/plain": [
       "array([  0,   1,   2,   3,   4,   5,   6,   7,   8,   9,  10,  11,  12,\n",
       "        13,  14,  15,  16,  17,  18,  19,  20,  21,  22,  23,  24,  25,\n",
       "        26,  27,  28,  29,  30,  31,  32,  33,  34,  35,  36,  37,  38,\n",
       "        39,  40,  41,  42,  43,  44,  45,  46,  47,  48,  49,  50,  51,\n",
       "        52,  53,  54,  55,  56,  57,  58,  59,  60,  61,  62,  63,  64,\n",
       "        65,  66,  67,  68,  69,  70,  71,  72,  73,  74,  75,  76,  77,\n",
       "        78,  79,  80,  81,  82,  83,  84,  85,  86,  87,  88,  89,  90,\n",
       "        91,  92,  93,  94,  95,  96,  97,  98,  99, 100])"
      ]
     },
     "execution_count": 207,
     "metadata": {},
     "output_type": "execute_result"
    }
   ],
   "source": [
    "y"
   ]
  },
  {
   "cell_type": "code",
   "execution_count": 221,
   "id": "ad08609c-c64a-48ec-9a04-26b15cf95c1d",
   "metadata": {},
   "outputs": [],
   "source": [
    "z2=y[::2]"
   ]
  },
  {
   "cell_type": "code",
   "execution_count": 222,
   "id": "d786f61a-9751-4280-8779-e6f3320e8542",
   "metadata": {},
   "outputs": [
    {
     "data": {
      "text/plain": [
       "array([  0,   2,   4,   6,   8,  10,  12,  14,  16,  18,  20,  22,  24,\n",
       "        26,  28,  30,  32,  34,  36,  38,  40,  42,  44,  46,  48,  50,\n",
       "        52,  54,  56,  58,  60,  62,  64,  66,  68,  70,  72,  74,  76,\n",
       "        78,  80,  82,  84,  86,  88,  90,  92,  94,  96,  98, 100])"
      ]
     },
     "execution_count": 222,
     "metadata": {},
     "output_type": "execute_result"
    }
   ],
   "source": [
    "z2"
   ]
  },
  {
   "cell_type": "code",
   "execution_count": 234,
   "id": "c2a66d1f-cb98-461f-a1e4-1021aae5a215",
   "metadata": {},
   "outputs": [],
   "source": [
    "z2*=2"
   ]
  },
  {
   "cell_type": "code",
   "execution_count": 235,
   "id": "f0a3de83-02f6-4463-8821-3096d88aae43",
   "metadata": {},
   "outputs": [
    {
     "data": {
      "text/plain": [
       "array([  0,  16,  32,  48,  64,  80,  96, 112, 128, 144, 160, 176, 192,\n",
       "       208, 224, 240, 256, 272, 288, 304, 320, 336, 352, 368, 384, 400,\n",
       "       416, 432, 448, 464, 480, 496, 512, 528, 544, 560, 576, 592, 608,\n",
       "       624, 640, 656, 672, 688, 704, 720, 736, 752, 768, 784, 800])"
      ]
     },
     "execution_count": 235,
     "metadata": {},
     "output_type": "execute_result"
    }
   ],
   "source": [
    "z2"
   ]
  },
  {
   "cell_type": "code",
   "execution_count": 236,
   "id": "747ae823-08e1-4c44-ada5-a01d9d669654",
   "metadata": {},
   "outputs": [
    {
     "data": {
      "text/plain": [
       "array([  0,   1,  16,   3,  32,   5,  48,   7,  64,   9,  80,  11,  96,\n",
       "        13, 112,  15, 128,  17, 144,  19, 160,  21, 176,  23, 192,  25,\n",
       "       208,  27, 224,  29, 240,  31, 256,  33, 272,  35, 288,  37, 304,\n",
       "        39, 320,  41, 336,  43, 352,  45, 368,  47, 384,  49, 400,  51,\n",
       "       416,  53, 432,  55, 448,  57, 464,  59, 480,  61, 496,  63, 512,\n",
       "        65, 528,  67, 544,  69, 560,  71, 576,  73, 592,  75, 608,  77,\n",
       "       624,  79, 640,  81, 656,  83, 672,  85, 688,  87, 704,  89, 720,\n",
       "        91, 736,  93, 752,  95, 768,  97, 784,  99, 800])"
      ]
     },
     "execution_count": 236,
     "metadata": {},
     "output_type": "execute_result"
    }
   ],
   "source": [
    "y"
   ]
  },
  {
   "cell_type": "code",
   "execution_count": 237,
   "id": "c4e9b0c6-667f-44ea-bf18-f7e2d04ff719",
   "metadata": {},
   "outputs": [
    {
     "data": {
      "text/plain": [
       "array([  0.,   8.,  16.,  24.,  32.,  40.,  48.,  56.,  64.,  72.,  80.,\n",
       "        88.,  96., 104., 112., 120., 128., 136., 144., 152., 160., 168.,\n",
       "       176., 184., 192., 200., 208., 216., 224., 232., 240., 248., 256.,\n",
       "       264., 272., 280., 288., 296., 304., 312., 320., 328., 336., 344.,\n",
       "       352., 360., 368., 376., 384., 392., 400.])"
      ]
     },
     "execution_count": 237,
     "metadata": {},
     "output_type": "execute_result"
    }
   ],
   "source": [
    "y[::2]/2"
   ]
  },
  {
   "cell_type": "code",
   "execution_count": 241,
   "id": "4098e614-7d30-4dc7-beaa-5bbaf003972d",
   "metadata": {},
   "outputs": [],
   "source": [
    "y=np.floor(y)"
   ]
  },
  {
   "cell_type": "code",
   "execution_count": 244,
   "id": "7bcb0019-624e-463d-9179-41befebdc224",
   "metadata": {},
   "outputs": [],
   "source": [
    "z2=y[::2]"
   ]
  },
  {
   "cell_type": "code",
   "execution_count": 249,
   "id": "f245466d-f987-4afb-afbe-736d36259a9e",
   "metadata": {},
   "outputs": [],
   "source": [
    "z2/=2"
   ]
  },
  {
   "cell_type": "code",
   "execution_count": 259,
   "id": "2ad0a88c-c065-4114-bd8e-fb530e9eb12d",
   "metadata": {},
   "outputs": [],
   "source": [
    "y.dtype=np.float"
   ]
  },
  {
   "cell_type": "code",
   "execution_count": 260,
   "id": "ee050773-6c50-44dc-8cb5-1722b8cff9c3",
   "metadata": {},
   "outputs": [
    {
     "data": {
      "text/plain": [
       "array([  0.,   1.,   2.,   3.,   4.,   5.,   6.,   7.,   8.,   9.,  10.,\n",
       "        11.,  12.,  13.,  14.,  15.,  16.,  17.,  18.,  19.,  20.,  21.,\n",
       "        22.,  23.,  24.,  25.,  26.,  27.,  28.,  29.,  30.,  31.,  32.,\n",
       "        33.,  34.,  35.,  36.,  37.,  38.,  39.,  40.,  41.,  42.,  43.,\n",
       "        44.,  45.,  46.,  47.,  48.,  49.,  50.,  51.,  52.,  53.,  54.,\n",
       "        55.,  56.,  57.,  58.,  59.,  60.,  61.,  62.,  63.,  64.,  65.,\n",
       "        66.,  67.,  68.,  69.,  70.,  71.,  72.,  73.,  74.,  75.,  76.,\n",
       "        77.,  78.,  79.,  80.,  81.,  82.,  83.,  84.,  85.,  86.,  87.,\n",
       "        88.,  89.,  90.,  91.,  92.,  93.,  94.,  95.,  96.,  97.,  98.,\n",
       "        99., 100.])"
      ]
     },
     "execution_count": 260,
     "metadata": {},
     "output_type": "execute_result"
    }
   ],
   "source": [
    "y"
   ]
  },
  {
   "cell_type": "code",
   "execution_count": null,
   "id": "21bc430c-d50e-4498-8865-116c637cf983",
   "metadata": {},
   "outputs": [],
   "source": []
  }
 ],
 "metadata": {
  "kernelspec": {
   "display_name": "Python 3 (ipykernel)",
   "language": "python",
   "name": "python3"
  },
  "language_info": {
   "codemirror_mode": {
    "name": "ipython",
    "version": 3
   },
   "file_extension": ".py",
   "mimetype": "text/x-python",
   "name": "python",
   "nbconvert_exporter": "python",
   "pygments_lexer": "ipython3",
   "version": "3.7.1"
  }
 },
 "nbformat": 4,
 "nbformat_minor": 5
}
